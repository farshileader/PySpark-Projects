{
  "nbformat": 4,
  "nbformat_minor": 0,
  "metadata": {
    "colab": {
      "provenance": []
    },
    "kernelspec": {
      "name": "python3",
      "display_name": "Python 3"
    },
    "language_info": {
      "name": "python"
    }
  },
  "cells": [
    {
      "cell_type": "markdown",
      "source": [
        "# ***Elevating Diabetic Patient Well-being using Data Processing Frameworks: PySpark***\n",
        "# ***Date: 14 November 2023***\n"
      ],
      "metadata": {
        "id": "QYlIZC8kdplL"
      }
    },
    {
      "cell_type": "markdown",
      "source": [
        "# **Apache spark is ...**\n",
        "\n",
        "**1. An open-source computing system,**\n",
        "\n",
        "**2. A high-performance distributed computing system,**\n",
        "\n",
        "**3. A fast database framework for processing,**\n",
        "\n",
        "**4. Process large-scale datasets,**\n",
        "\n",
        "**5. A cluster computing technology.**\n",
        "\n",
        "\n"
      ],
      "metadata": {
        "id": "4kDoP-Y7duAV"
      }
    },
    {
      "cell_type": "markdown",
      "source": [
        "# ***My Information:***\n",
        "\n",
        "#***My Name: Mohammad Salman***\n"
      ],
      "metadata": {
        "id": "4zeRqQaEdx4U"
      }
    },
    {
      "cell_type": "code",
      "source": [
        "!python --version\n"
      ],
      "metadata": {
        "colab": {
          "base_uri": "https://localhost:8080/"
        },
        "id": "0yvYzT-Vd2ys",
        "outputId": "7aca171f-2a13-46aa-801b-b08ffe3b1003"
      },
      "execution_count": null,
      "outputs": [
        {
          "output_type": "stream",
          "name": "stdout",
          "text": [
            "Python 3.10.12\n"
          ]
        }
      ]
    },
    {
      "cell_type": "code",
      "source": [
        "!pwd"
      ],
      "metadata": {
        "colab": {
          "base_uri": "https://localhost:8080/"
        },
        "id": "nAQhYP7Id6Cl",
        "outputId": "8b0bb83e-3e61-459e-e1e3-9947300c4d1d"
      },
      "execution_count": null,
      "outputs": [
        {
          "output_type": "stream",
          "name": "stdout",
          "text": [
            "/content\n"
          ]
        }
      ]
    },
    {
      "cell_type": "code",
      "source": [
        "!wget https://dlcdn.apache.org/spark/spark-3.4.1/spark-3.4.1-bin-hadoop3.tgz"
      ],
      "metadata": {
        "colab": {
          "base_uri": "https://localhost:8080/"
        },
        "id": "rlcAttGHd6z7",
        "outputId": "4d319d87-4237-4243-e17a-14ce7a50e8e0"
      },
      "execution_count": null,
      "outputs": [
        {
          "output_type": "stream",
          "name": "stdout",
          "text": [
            "--2023-11-26 08:13:44--  https://dlcdn.apache.org/spark/spark-3.4.1/spark-3.4.1-bin-hadoop3.tgz\n",
            "Resolving dlcdn.apache.org (dlcdn.apache.org)... 151.101.2.132, 2a04:4e42::644\n",
            "Connecting to dlcdn.apache.org (dlcdn.apache.org)|151.101.2.132|:443... connected.\n",
            "HTTP request sent, awaiting response... 200 OK\n",
            "Length: 388341449 (370M) [application/x-gzip]\n",
            "Saving to: ‘spark-3.4.1-bin-hadoop3.tgz’\n",
            "\n",
            "spark-3.4.1-bin-had 100%[===================>] 370.35M  4.80MB/s    in 5.2s    \n",
            "\n",
            "2023-11-26 08:13:53 (71.7 MB/s) - ‘spark-3.4.1-bin-hadoop3.tgz’ saved [388341449/388341449]\n",
            "\n"
          ]
        }
      ]
    },
    {
      "cell_type": "code",
      "source": [
        "!pip install pyspark\n"
      ],
      "metadata": {
        "colab": {
          "base_uri": "https://localhost:8080/"
        },
        "id": "_s5ggWVld_5N",
        "outputId": "f1b9db54-50de-4479-a484-5c7edc4c6e2b"
      },
      "execution_count": null,
      "outputs": [
        {
          "output_type": "stream",
          "name": "stdout",
          "text": [
            "Collecting pyspark\n",
            "  Downloading pyspark-3.5.0.tar.gz (316.9 MB)\n",
            "\u001b[2K     \u001b[90m━━━━━━━━━━━━━━━━━━━━━━━━━━━━━━━━━━━━━━━━\u001b[0m \u001b[32m316.9/316.9 MB\u001b[0m \u001b[31m4.4 MB/s\u001b[0m eta \u001b[36m0:00:00\u001b[0m\n",
            "\u001b[?25h  Preparing metadata (setup.py) ... \u001b[?25l\u001b[?25hdone\n",
            "Requirement already satisfied: py4j==0.10.9.7 in /usr/local/lib/python3.10/dist-packages (from pyspark) (0.10.9.7)\n",
            "Building wheels for collected packages: pyspark\n",
            "  Building wheel for pyspark (setup.py) ... \u001b[?25l\u001b[?25hdone\n",
            "  Created wheel for pyspark: filename=pyspark-3.5.0-py2.py3-none-any.whl size=317425345 sha256=005fbccc52b01b5d323347b863ca30b5b15395d3ceb1fc3b2b99f094e5c9a4ba\n",
            "  Stored in directory: /root/.cache/pip/wheels/41/4e/10/c2cf2467f71c678cfc8a6b9ac9241e5e44a01940da8fbb17fc\n",
            "Successfully built pyspark\n",
            "Installing collected packages: pyspark\n",
            "Successfully installed pyspark-3.5.0\n"
          ]
        }
      ]
    },
    {
      "cell_type": "code",
      "source": [
        "!pyspark"
      ],
      "metadata": {
        "colab": {
          "base_uri": "https://localhost:8080/"
        },
        "id": "JqxnTeqWeCPu",
        "outputId": "9ac9ec26-d852-4e22-8c46-0b441fdb40c9"
      },
      "execution_count": null,
      "outputs": [
        {
          "output_type": "stream",
          "name": "stdout",
          "text": [
            "Python 3.10.12 (main, Jun 11 2023, 05:26:28) [GCC 11.4.0] on linux\n",
            "Type \"help\", \"copyright\", \"credits\" or \"license\" for more information.\n",
            "Setting default log level to \"WARN\".\n",
            "To adjust logging level use sc.setLogLevel(newLevel). For SparkR, use setLogLevel(newLevel).\n",
            "23/11/26 08:15:02 WARN NativeCodeLoader: Unable to load native-hadoop library for your platform... using builtin-java classes where applicable\n",
            "Welcome to\n",
            "      ____              __\n",
            "     / __/__  ___ _____/ /__\n",
            "    _\\ \\/ _ \\/ _ `/ __/  '_/\n",
            "   /__ / .__/\\_,_/_/ /_/\\_\\   version 3.5.0\n",
            "      /_/\n",
            "\n",
            "Using Python version 3.10.12 (main, Jun 11 2023 05:26:28)\n",
            "Spark context Web UI available at http://c6b6d2d70c53:4040\n",
            "Spark context available as 'sc' (master = local[*], app id = local-1700986507128).\n",
            "SparkSession available as 'spark'.\n",
            ">>> \n",
            "Traceback (most recent call last):\n",
            "  File \"/usr/local/lib/python3.10/dist-packages/pyspark/context.py\", line 381, in signal_handler\n",
            "    self.cancelAllJobs()\n",
            "  File \"/usr/local/lib/python3.10/dist-packages/pyspark/context.py\", line 2446, in cancelAllJobs\n",
            "    self._jsc.sc().cancelAllJobs()\n",
            "  File \"/usr/local/lib/python3.10/dist-packages/pyspark/python/lib/py4j-0.10.9.7-src.zip/py4j/java_gateway.py\", line 1379, in __getattr__\n",
            "  File \"/usr/local/lib/python3.10/dist-packages/pyspark/context.py\", line 382, in signal_handler\n",
            "    raise KeyboardInterrupt()\n",
            "KeyboardInterrupt\n",
            ">>> \n",
            "Traceback (most recent call last):\n",
            "  File \"/usr/local/lib/python3.10/dist-packages/pyspark/context.py\", line 382, in signal_handler\n",
            "    raise KeyboardInterrupt()\n",
            "KeyboardInterrupt\n",
            ">>> ^C\n"
          ]
        }
      ]
    },
    {
      "cell_type": "code",
      "source": [
        "!pyspark --version"
      ],
      "metadata": {
        "colab": {
          "base_uri": "https://localhost:8080/"
        },
        "id": "T5vj2GzUeFdd",
        "outputId": "e00c6e15-310a-4e61-92bc-6c2d4dabf1ed"
      },
      "execution_count": null,
      "outputs": [
        {
          "output_type": "stream",
          "name": "stdout",
          "text": [
            "Welcome to\n",
            "      ____              __\n",
            "     / __/__  ___ _____/ /__\n",
            "    _\\ \\/ _ \\/ _ `/ __/  '_/\n",
            "   /___/ .__/\\_,_/_/ /_/\\_\\   version 3.5.0\n",
            "      /_/\n",
            "                        \n",
            "Using Scala version 2.12.18, OpenJDK 64-Bit Server VM, 11.0.21\n",
            "Branch HEAD\n",
            "Compiled by user ubuntu on 2023-09-09T01:53:20Z\n",
            "Revision ce5ddad990373636e94071e7cef2f31021add07b\n",
            "Url https://github.com/apache/spark\n",
            "Type --help for more information.\n"
          ]
        }
      ]
    },
    {
      "cell_type": "code",
      "source": [
        "!tar xvzf spark-3.4.1-bin-hadoop3.tgz"
      ],
      "metadata": {
        "colab": {
          "base_uri": "https://localhost:8080/"
        },
        "id": "Jhc7O7O8eIHl",
        "outputId": "89cfceeb-e4e1-454a-9ba9-eeefa3b7926f"
      },
      "execution_count": null,
      "outputs": [
        {
          "output_type": "stream",
          "name": "stdout",
          "text": [
            "tar (child): spark-3.4.1-bin-hadoop3.tgz: Cannot open: No such file or directory\n",
            "tar (child): Error is not recoverable: exiting now\n",
            "tar: Child returned status 2\n",
            "tar: Error is not recoverable: exiting now\n"
          ]
        }
      ]
    },
    {
      "cell_type": "code",
      "source": [
        "!ls /content/spark-3.4.1-bin-hadoop3"
      ],
      "metadata": {
        "colab": {
          "base_uri": "https://localhost:8080/"
        },
        "id": "936jK_-beLL_",
        "outputId": "03351c74-516c-48eb-c0ec-1cd0982b60c3"
      },
      "execution_count": null,
      "outputs": [
        {
          "output_type": "stream",
          "name": "stdout",
          "text": [
            "ls: cannot access '/content/spark-3.4.1-bin-hadoop3': No such file or directory\n"
          ]
        }
      ]
    },
    {
      "cell_type": "code",
      "source": [
        "!pip install findspark"
      ],
      "metadata": {
        "colab": {
          "base_uri": "https://localhost:8080/"
        },
        "id": "EcWek_mxeNNW",
        "outputId": "0fb1dcb4-92da-4143-ead9-9fd108e407cf"
      },
      "execution_count": null,
      "outputs": [
        {
          "output_type": "stream",
          "name": "stdout",
          "text": [
            "Collecting findspark\n",
            "  Downloading findspark-2.0.1-py2.py3-none-any.whl (4.4 kB)\n",
            "Installing collected packages: findspark\n",
            "Successfully installed findspark-2.0.1\n"
          ]
        }
      ]
    },
    {
      "cell_type": "code",
      "source": [
        "import os\n",
        "os.environ[\"Spark_Home\"] = \"/content/spark-3.4.1-bin-hadoop3\"\n",
        "\n",
        "import findspark\n",
        "findspark.init"
      ],
      "metadata": {
        "colab": {
          "base_uri": "https://localhost:8080/"
        },
        "id": "ciS8PW67eQZm",
        "outputId": "5701c1e6-9b8f-44dd-824a-0e2c772b762c"
      },
      "execution_count": null,
      "outputs": [
        {
          "output_type": "execute_result",
          "data": {
            "text/plain": [
              "<function findspark.init(spark_home=None, python_path=None, edit_rc=False, edit_profile=False)>"
            ]
          },
          "metadata": {},
          "execution_count": 8
        }
      ]
    },
    {
      "cell_type": "code",
      "source": [
        "from google.colab import drive\n",
        "drive.mount('/content/drive')"
      ],
      "metadata": {
        "colab": {
          "base_uri": "https://localhost:8080/"
        },
        "id": "zYDeqXZJeSzG",
        "outputId": "a6820a88-a6d6-48f8-dce2-5c2d10b74b74"
      },
      "execution_count": null,
      "outputs": [
        {
          "output_type": "stream",
          "name": "stdout",
          "text": [
            "Mounted at /content/drive\n"
          ]
        }
      ]
    },
    {
      "cell_type": "markdown",
      "source": [
        "# ***Spark Session***"
      ],
      "metadata": {
        "id": "WUHT35eaetcD"
      }
    },
    {
      "cell_type": "code",
      "source": [
        "from pyspark.sql import SparkSession"
      ],
      "metadata": {
        "id": "xios1JJNesmK"
      },
      "execution_count": null,
      "outputs": []
    },
    {
      "cell_type": "code",
      "source": [
        "spark = SparkSession.builder.appName(\"Mohammad Salman\").getOrCreate()\n",
        "print(spark.sparkContext.appName)"
      ],
      "metadata": {
        "id": "XZa0kRlKfFJ-",
        "colab": {
          "base_uri": "https://localhost:8080/"
        },
        "outputId": "ad00dd87-3b27-44de-c872-f63724ce518e"
      },
      "execution_count": null,
      "outputs": [
        {
          "output_type": "stream",
          "name": "stdout",
          "text": [
            "Mohammad Salman\n"
          ]
        }
      ]
    },
    {
      "cell_type": "markdown",
      "source": [
        "# ***Dataset***"
      ],
      "metadata": {
        "id": "8OGHLXfK7L8q"
      }
    },
    {
      "cell_type": "code",
      "source": [
        "salman = spark.read.csv(\"/content/drive/MyDrive/FALL 2023 ALL/BIG DATA AND IOT LAB/Project/diabetic_data.csv\", header=True, inferSchema=True)"
      ],
      "metadata": {
        "id": "wYCs5Cft7O6q"
      },
      "execution_count": null,
      "outputs": []
    },
    {
      "cell_type": "code",
      "source": [
        "salman.show()"
      ],
      "metadata": {
        "colab": {
          "base_uri": "https://localhost:8080/"
        },
        "id": "HE8lFZll8Hbi",
        "outputId": "a57eead2-b9d0-4658-b92e-3ab5c4c65ee0"
      },
      "execution_count": null,
      "outputs": [
        {
          "output_type": "stream",
          "name": "stdout",
          "text": [
            "+------------+-----------+---------------+------+--------+------+-----------------+------------------------+-------------------+----------------+----------+--------------------+------------------+--------------+---------------+-----------------+----------------+----------------+------+------+------+----------------+-------------+---------+---------+-----------+-----------+--------------+-----------+-------------+---------+---------+-----------+------------+-------------+--------+--------+------------+----------+-------+-----------+-------+-------------------+-------------------+------------------------+-----------------------+----------------------+------+-----------+----------+\n",
            "|encounter_id|patient_nbr|           race|gender|     age|weight|admission_type_id|discharge_disposition_id|admission_source_id|time_in_hospital|payer_code|   medical_specialty|num_lab_procedures|num_procedures|num_medications|number_outpatient|number_emergency|number_inpatient|diag_1|diag_2|diag_3|number_diagnoses|max_glu_serum|A1Cresult|metformin|repaglinide|nateglinide|chlorpropamide|glimepiride|acetohexamide|glipizide|glyburide|tolbutamide|pioglitazone|rosiglitazone|acarbose|miglitol|troglitazone|tolazamide|examide|citoglipton|insulin|glyburide-metformin|glipizide-metformin|glimepiride-pioglitazone|metformin-rosiglitazone|metformin-pioglitazone|change|diabetesMed|readmitted|\n",
            "+------------+-----------+---------------+------+--------+------+-----------------+------------------------+-------------------+----------------+----------+--------------------+------------------+--------------+---------------+-----------------+----------------+----------------+------+------+------+----------------+-------------+---------+---------+-----------+-----------+--------------+-----------+-------------+---------+---------+-----------+------------+-------------+--------+--------+------------+----------+-------+-----------+-------+-------------------+-------------------+------------------------+-----------------------+----------------------+------+-----------+----------+\n",
            "|     2278392|    8222157|      Caucasian|Female|  [0-10)|     ?|                6|                      25|                  1|               1|         ?|Pediatrics-Endocr...|                41|             0|              1|                0|               0|               0|250.83|     ?|     ?|               1|         None|     None|       No|         No|         No|            No|         No|           No|       No|       No|         No|          No|           No|      No|      No|          No|        No|     No|         No|     No|                 No|                 No|                      No|                     No|                    No|    No|         No|        NO|\n",
            "|      149190|   55629189|      Caucasian|Female| [10-20)|     ?|                1|                       1|                  7|               3|         ?|                   ?|                59|             0|             18|                0|               0|               0|   276|250.01|   255|               9|         None|     None|       No|         No|         No|            No|         No|           No|       No|       No|         No|          No|           No|      No|      No|          No|        No|     No|         No|     Up|                 No|                 No|                      No|                     No|                    No|    Ch|        Yes|       >30|\n",
            "|       64410|   86047875|AfricanAmerican|Female| [20-30)|     ?|                1|                       1|                  7|               2|         ?|                   ?|                11|             5|             13|                2|               0|               1|   648|   250|   V27|               6|         None|     None|       No|         No|         No|            No|         No|           No|   Steady|       No|         No|          No|           No|      No|      No|          No|        No|     No|         No|     No|                 No|                 No|                      No|                     No|                    No|    No|        Yes|        NO|\n",
            "|      500364|   82442376|      Caucasian|  Male| [30-40)|     ?|                1|                       1|                  7|               2|         ?|                   ?|                44|             1|             16|                0|               0|               0|     8|250.43|   403|               7|         None|     None|       No|         No|         No|            No|         No|           No|       No|       No|         No|          No|           No|      No|      No|          No|        No|     No|         No|     Up|                 No|                 No|                      No|                     No|                    No|    Ch|        Yes|        NO|\n",
            "|       16680|   42519267|      Caucasian|  Male| [40-50)|     ?|                1|                       1|                  7|               1|         ?|                   ?|                51|             0|              8|                0|               0|               0|   197|   157|   250|               5|         None|     None|       No|         No|         No|            No|         No|           No|   Steady|       No|         No|          No|           No|      No|      No|          No|        No|     No|         No| Steady|                 No|                 No|                      No|                     No|                    No|    Ch|        Yes|        NO|\n",
            "|       35754|   82637451|      Caucasian|  Male| [50-60)|     ?|                2|                       1|                  2|               3|         ?|                   ?|                31|             6|             16|                0|               0|               0|   414|   411|   250|               9|         None|     None|       No|         No|         No|            No|         No|           No|       No|       No|         No|          No|           No|      No|      No|          No|        No|     No|         No| Steady|                 No|                 No|                      No|                     No|                    No|    No|        Yes|       >30|\n",
            "|       55842|   84259809|      Caucasian|  Male| [60-70)|     ?|                3|                       1|                  2|               4|         ?|                   ?|                70|             1|             21|                0|               0|               0|   414|   411|   V45|               7|         None|     None|   Steady|         No|         No|            No|     Steady|           No|       No|       No|         No|          No|           No|      No|      No|          No|        No|     No|         No| Steady|                 No|                 No|                      No|                     No|                    No|    Ch|        Yes|        NO|\n",
            "|       63768|  114882984|      Caucasian|  Male| [70-80)|     ?|                1|                       1|                  7|               5|         ?|                   ?|                73|             0|             12|                0|               0|               0|   428|   492|   250|               8|         None|     None|       No|         No|         No|            No|         No|           No|       No|   Steady|         No|          No|           No|      No|      No|          No|        No|     No|         No|     No|                 No|                 No|                      No|                     No|                    No|    No|        Yes|       >30|\n",
            "|       12522|   48330783|      Caucasian|Female| [80-90)|     ?|                2|                       1|                  4|              13|         ?|                   ?|                68|             2|             28|                0|               0|               0|   398|   427|    38|               8|         None|     None|       No|         No|         No|            No|         No|           No|   Steady|       No|         No|          No|           No|      No|      No|          No|        No|     No|         No| Steady|                 No|                 No|                      No|                     No|                    No|    Ch|        Yes|        NO|\n",
            "|       15738|   63555939|      Caucasian|Female|[90-100)|     ?|                3|                       3|                  4|              12|         ?|    InternalMedicine|                33|             3|             18|                0|               0|               0|   434|   198|   486|               8|         None|     None|       No|         No|         No|            No|         No|           No|       No|       No|         No|          No|       Steady|      No|      No|          No|        No|     No|         No| Steady|                 No|                 No|                      No|                     No|                    No|    Ch|        Yes|        NO|\n",
            "|       28236|   89869032|AfricanAmerican|Female| [40-50)|     ?|                1|                       1|                  7|               9|         ?|                   ?|                47|             2|             17|                0|               0|               0| 250.7|   403|   996|               9|         None|     None|       No|         No|         No|            No|         No|           No|       No|       No|         No|          No|           No|      No|      No|          No|        No|     No|         No| Steady|                 No|                 No|                      No|                     No|                    No|    No|        Yes|       >30|\n",
            "|       36900|   77391171|AfricanAmerican|  Male| [60-70)|     ?|                2|                       1|                  4|               7|         ?|                   ?|                62|             0|             11|                0|               0|               0|   157|   288|   197|               7|         None|     None|       No|         No|         No|            No|         No|           No|       No|       Up|         No|          No|           No|      No|      No|          No|        No|     No|         No| Steady|                 No|                 No|                      No|                     No|                    No|    Ch|        Yes|       <30|\n",
            "|       40926|   85504905|      Caucasian|Female| [40-50)|     ?|                1|                       3|                  7|               7|         ?|Family/GeneralPra...|                60|             0|             15|                0|               1|               0|   428|250.43| 250.6|               8|         None|     None|   Steady|         Up|         No|            No|         No|           No|       No|       No|         No|          No|           No|      No|      No|          No|        No|     No|         No|   Down|                 No|                 No|                      No|                     No|                    No|    Ch|        Yes|       <30|\n",
            "|       42570|   77586282|      Caucasian|  Male| [80-90)|     ?|                1|                       6|                  7|              10|         ?|Family/GeneralPra...|                55|             1|             31|                0|               0|               0|   428|   411|   427|               8|         None|     None|       No|         No|         No|            No|         No|           No|       No|       No|         No|          No|           No|      No|      No|          No|        No|     No|         No| Steady|                 No|                 No|                      No|                     No|                    No|    No|        Yes|        NO|\n",
            "|       62256|   49726791|AfricanAmerican|Female| [60-70)|     ?|                3|                       1|                  2|               1|         ?|                   ?|                49|             5|              2|                0|               0|               0|   518|   998|   627|               8|         None|     None|       No|         No|         No|            No|         No|           No|       No|       No|         No|          No|           No|      No|      No|          No|        No|     No|         No| Steady|                 No|                 No|                      No|                     No|                    No|    No|        Yes|       >30|\n",
            "|       73578|   86328819|AfricanAmerican|  Male| [60-70)|     ?|                1|                       3|                  7|              12|         ?|                   ?|                75|             5|             13|                0|               0|               0|   999|   507|   996|               9|         None|     None|       No|         No|         No|            No|         No|           No|       No|       No|         No|          No|           No|      No|      No|          No|        No|     No|         No|     Up|                 No|                 No|                      No|                     No|                    No|    Ch|        Yes|        NO|\n",
            "|       77076|   92519352|AfricanAmerican|  Male| [50-60)|     ?|                1|                       1|                  7|               4|         ?|                   ?|                45|             4|             17|                0|               0|               0|   410|   411|   414|               8|         None|     None|       No|         No|         No|            No|         No|           No|   Steady|       No|         No|          No|           No|      No|      No|          No|        No|     No|         No| Steady|                 No|                 No|                      No|                     No|                    No|    Ch|        Yes|       <30|\n",
            "|       84222|  108662661|      Caucasian|Female| [50-60)|     ?|                1|                       1|                  7|               3|         ?|          Cardiology|                29|             0|             11|                0|               0|               0|   682|   174|   250|               3|         None|     None|       No|         No|         No|            No|         No|           No|       No|   Steady|         No|          No|           No|      No|      No|          No|        No|     No|         No|     No|                 No|                 No|                      No|                     No|                    No|    No|        Yes|        NO|\n",
            "|       89682|  107389323|AfricanAmerican|  Male| [70-80)|     ?|                1|                       1|                  7|               5|         ?|                   ?|                35|             5|             23|                0|               0|               0|   402|   425|   416|               9|         None|     None|       No|         No|         No|            No|         No|           No|       No|       No|         No|          No|           No|      No|      No|          No|        No|     No|         No| Steady|                 No|                 No|                      No|                     No|                    No|    No|        Yes|       >30|\n",
            "|      148530|   69422211|              ?|  Male| [70-80)|     ?|                3|                       6|                  2|               6|         ?|                   ?|                42|             2|             23|                0|               0|               0|   737|   427|   714|               8|         None|     None|       No|         No|         No|            No|         No|           No|       No|     Down|         No|          No|           No|      No|      No|          No|        No|     No|         No| Steady|                 No|                 No|                      No|                     No|                    No|    Ch|        Yes|        NO|\n",
            "+------------+-----------+---------------+------+--------+------+-----------------+------------------------+-------------------+----------------+----------+--------------------+------------------+--------------+---------------+-----------------+----------------+----------------+------+------+------+----------------+-------------+---------+---------+-----------+-----------+--------------+-----------+-------------+---------+---------+-----------+------------+-------------+--------+--------+------------+----------+-------+-----------+-------+-------------------+-------------------+------------------------+-----------------------+----------------------+------+-----------+----------+\n",
            "only showing top 20 rows\n",
            "\n"
          ]
        }
      ]
    },
    {
      "cell_type": "markdown",
      "source": [
        "# ***Rows and Features***"
      ],
      "metadata": {
        "id": "0KJYIfaRKd3E"
      }
    },
    {
      "cell_type": "code",
      "source": [
        "num_rows = salman.count()\n",
        "num_columns = len(salman.columns)\n",
        "\n",
        "print(f\"Number of rows: {num_rows}\")\n",
        "print(f\"Number of columns: {num_columns}\")"
      ],
      "metadata": {
        "colab": {
          "base_uri": "https://localhost:8080/"
        },
        "id": "atd00LOEKSnI",
        "outputId": "e8ce2c60-ac7f-4f2c-de45-21dfb4a5d4f5"
      },
      "execution_count": null,
      "outputs": [
        {
          "output_type": "stream",
          "name": "stdout",
          "text": [
            "Number of rows: 101766\n",
            "Number of columns: 50\n"
          ]
        }
      ]
    },
    {
      "cell_type": "markdown",
      "source": [
        "# ***Schema of my DataFrame***"
      ],
      "metadata": {
        "id": "aPQo_q6Q8v66"
      }
    },
    {
      "cell_type": "code",
      "source": [
        "salman.printSchema()"
      ],
      "metadata": {
        "colab": {
          "base_uri": "https://localhost:8080/"
        },
        "id": "B-VUMGr68UlJ",
        "outputId": "92c99243-3ae1-4f90-87fe-16bca063b4f1"
      },
      "execution_count": null,
      "outputs": [
        {
          "output_type": "stream",
          "name": "stdout",
          "text": [
            "root\n",
            " |-- encounter_id: integer (nullable = true)\n",
            " |-- patient_nbr: integer (nullable = true)\n",
            " |-- race: string (nullable = true)\n",
            " |-- gender: string (nullable = true)\n",
            " |-- age: string (nullable = true)\n",
            " |-- weight: string (nullable = true)\n",
            " |-- admission_type_id: integer (nullable = true)\n",
            " |-- discharge_disposition_id: integer (nullable = true)\n",
            " |-- admission_source_id: integer (nullable = true)\n",
            " |-- time_in_hospital: integer (nullable = true)\n",
            " |-- payer_code: string (nullable = true)\n",
            " |-- medical_specialty: string (nullable = true)\n",
            " |-- num_lab_procedures: integer (nullable = true)\n",
            " |-- num_procedures: integer (nullable = true)\n",
            " |-- num_medications: integer (nullable = true)\n",
            " |-- number_outpatient: integer (nullable = true)\n",
            " |-- number_emergency: integer (nullable = true)\n",
            " |-- number_inpatient: integer (nullable = true)\n",
            " |-- diag_1: string (nullable = true)\n",
            " |-- diag_2: string (nullable = true)\n",
            " |-- diag_3: string (nullable = true)\n",
            " |-- number_diagnoses: integer (nullable = true)\n",
            " |-- max_glu_serum: string (nullable = true)\n",
            " |-- A1Cresult: string (nullable = true)\n",
            " |-- metformin: string (nullable = true)\n",
            " |-- repaglinide: string (nullable = true)\n",
            " |-- nateglinide: string (nullable = true)\n",
            " |-- chlorpropamide: string (nullable = true)\n",
            " |-- glimepiride: string (nullable = true)\n",
            " |-- acetohexamide: string (nullable = true)\n",
            " |-- glipizide: string (nullable = true)\n",
            " |-- glyburide: string (nullable = true)\n",
            " |-- tolbutamide: string (nullable = true)\n",
            " |-- pioglitazone: string (nullable = true)\n",
            " |-- rosiglitazone: string (nullable = true)\n",
            " |-- acarbose: string (nullable = true)\n",
            " |-- miglitol: string (nullable = true)\n",
            " |-- troglitazone: string (nullable = true)\n",
            " |-- tolazamide: string (nullable = true)\n",
            " |-- examide: string (nullable = true)\n",
            " |-- citoglipton: string (nullable = true)\n",
            " |-- insulin: string (nullable = true)\n",
            " |-- glyburide-metformin: string (nullable = true)\n",
            " |-- glipizide-metformin: string (nullable = true)\n",
            " |-- glimepiride-pioglitazone: string (nullable = true)\n",
            " |-- metformin-rosiglitazone: string (nullable = true)\n",
            " |-- metformin-pioglitazone: string (nullable = true)\n",
            " |-- change: string (nullable = true)\n",
            " |-- diabetesMed: string (nullable = true)\n",
            " |-- readmitted: string (nullable = true)\n",
            "\n"
          ]
        }
      ]
    },
    {
      "cell_type": "markdown",
      "source": [
        "# ***Unique values of my target feature \"readmitted\"***"
      ],
      "metadata": {
        "id": "VmGj-Kr5_b_g"
      }
    },
    {
      "cell_type": "code",
      "source": [
        "unique_values = salman.select(\"readmitted\").distinct().collect()\n",
        "\n",
        "for row in unique_values:\n",
        "    print(row['readmitted'])"
      ],
      "metadata": {
        "colab": {
          "base_uri": "https://localhost:8080/"
        },
        "id": "oF1rUONs-SBh",
        "outputId": "47ce93e4-a87e-4fe9-b737-09719291c950"
      },
      "execution_count": null,
      "outputs": [
        {
          "output_type": "stream",
          "name": "stdout",
          "text": [
            ">30\n",
            "NO\n",
            "<30\n"
          ]
        }
      ]
    },
    {
      "cell_type": "markdown",
      "source": [
        "# ***Data Preprocessing and Feature Engineering Starts***"
      ],
      "metadata": {
        "id": "8SSqz8GwHH5h"
      }
    },
    {
      "cell_type": "markdown",
      "source": [
        "# ***Handling Missing Values***"
      ],
      "metadata": {
        "id": "FLmpF6MYFlLR"
      }
    },
    {
      "cell_type": "code",
      "source": [
        "salman.describe().show()\n"
      ],
      "metadata": {
        "colab": {
          "base_uri": "https://localhost:8080/"
        },
        "id": "JDoBLhBtFq3o",
        "outputId": "7133cf1b-42e6-4065-e6bf-847216374868"
      },
      "execution_count": null,
      "outputs": [
        {
          "output_type": "stream",
          "name": "stdout",
          "text": [
            "+-------+--------------------+--------------------+------+---------------+--------+--------+-----------------+------------------------+-------------------+------------------+----------+-----------------+------------------+------------------+------------------+-------------------+-------------------+------------------+------------------+------------------+------------------+-----------------+-------------+---------+---------+-----------+-----------+--------------+-----------+-------------+---------+---------+-----------+------------+-------------+--------+--------+------------+----------+-------+-----------+-------+-------------------+-------------------+------------------------+-----------------------+----------------------+------+-----------+----------+\n",
            "|summary|        encounter_id|         patient_nbr|  race|         gender|     age|  weight|admission_type_id|discharge_disposition_id|admission_source_id|  time_in_hospital|payer_code|medical_specialty|num_lab_procedures|    num_procedures|   num_medications|  number_outpatient|   number_emergency|  number_inpatient|            diag_1|            diag_2|            diag_3| number_diagnoses|max_glu_serum|A1Cresult|metformin|repaglinide|nateglinide|chlorpropamide|glimepiride|acetohexamide|glipizide|glyburide|tolbutamide|pioglitazone|rosiglitazone|acarbose|miglitol|troglitazone|tolazamide|examide|citoglipton|insulin|glyburide-metformin|glipizide-metformin|glimepiride-pioglitazone|metformin-rosiglitazone|metformin-pioglitazone|change|diabetesMed|readmitted|\n",
            "+-------+--------------------+--------------------+------+---------------+--------+--------+-----------------+------------------------+-------------------+------------------+----------+-----------------+------------------+------------------+------------------+-------------------+-------------------+------------------+------------------+------------------+------------------+-----------------+-------------+---------+---------+-----------+-----------+--------------+-----------+-------------+---------+---------+-----------+------------+-------------+--------+--------+------------+----------+-------+-----------+-------+-------------------+-------------------+------------------------+-----------------------+----------------------+------+-----------+----------+\n",
            "|  count|              101766|              101766|101766|         101766|  101766|  101766|           101766|                  101766|             101766|            101766|    101766|           101766|            101766|            101766|            101766|             101766|             101766|            101766|            101766|            101766|            101766|           101766|       101766|   101766|   101766|     101766|     101766|        101766|     101766|       101766|   101766|   101766|     101766|      101766|       101766|  101766|  101766|      101766|    101766| 101766|     101766| 101766|             101766|             101766|                  101766|                 101766|                101766|101766|     101766|    101766|\n",
            "|   mean| 1.652016456229782E8|5.4330400694947235E7|  NULL|           NULL|    NULL|    NULL|2.024006053102215|      3.7156417664052825|  5.754436648782501| 4.395986871843248|      NULL|             NULL| 43.09564098028811| 1.339730361810428|16.021844230882614|0.36935715268360747|0.19783621248747127| 0.635565906098304| 493.5830703296747| 438.6748831822925| 418.1792854069344|7.422606764538254|         NULL|     NULL|     NULL|       NULL|       NULL|          NULL|       NULL|         NULL|     NULL|     NULL|       NULL|        NULL|         NULL|    NULL|    NULL|        NULL|      NULL|   NULL|       NULL|   NULL|               NULL|               NULL|                    NULL|                   NULL|                  NULL|  NULL|       NULL|      NULL|\n",
            "| stddev|1.0264029598345739E8|3.8696359346534446E7|  NULL|           NULL|    NULL|    NULL|1.445402829756117|       5.280165509299278|  4.064080834283905|2.9851077674712636|      NULL|             NULL|19.674362249142053|1.7058069791211619| 8.127566209167295| 1.2672650965326762|  0.930472268422466|1.2628632900973216|206.71532043694586|178.90163753828625|177.32397864613594| 1.93360014499743|         NULL|     NULL|     NULL|       NULL|       NULL|          NULL|       NULL|         NULL|     NULL|     NULL|       NULL|        NULL|         NULL|    NULL|    NULL|        NULL|      NULL|   NULL|       NULL|   NULL|               NULL|               NULL|                    NULL|                   NULL|                  NULL|  NULL|       NULL|      NULL|\n",
            "|    min|               12522|                 135|     ?|         Female|  [0-10)|    >200|                1|                       1|                  1|                 1|         ?|                ?|                 1|                 0|                 1|                  0|                  0|                 0|                10|                11|                11|                1|         >200|       >7|     Down|       Down|       Down|          Down|       Down|           No|     Down|     Down|         No|        Down|         Down|    Down|    Down|          No|        No|     No|         No|   Down|               Down|                 No|                      No|                     No|                    No|    Ch|         No|       <30|\n",
            "|    max|           443867222|           189502619| Other|Unknown/Invalid|[90-100)|[75-100)|                8|                      28|                 25|                14|        WC|          Urology|               132|                 6|                81|                 42|                 76|                21|               V71|               V86|               V86|               16|         Norm|     Norm|       Up|         Up|         Up|            Up|         Up|       Steady|       Up|       Up|     Steady|          Up|           Up|      Up|      Up|      Steady|        Up|     No|         No|     Up|                 Up|             Steady|                  Steady|                 Steady|                Steady|    No|        Yes|        NO|\n",
            "+-------+--------------------+--------------------+------+---------------+--------+--------+-----------------+------------------------+-------------------+------------------+----------+-----------------+------------------+------------------+------------------+-------------------+-------------------+------------------+------------------+------------------+------------------+-----------------+-------------+---------+---------+-----------+-----------+--------------+-----------+-------------+---------+---------+-----------+------------+-------------+--------+--------+------------+----------+-------+-----------+-------+-------------------+-------------------+------------------------+-----------------------+----------------------+------+-----------+----------+\n",
            "\n"
          ]
        }
      ]
    },
    {
      "cell_type": "markdown",
      "source": [
        "# ***Counting the missing values in each Feature***"
      ],
      "metadata": {
        "id": "poy5zcOPGlGs"
      }
    },
    {
      "cell_type": "code",
      "source": [
        "from pyspark.sql.functions import col, sum\n"
      ],
      "metadata": {
        "id": "8ZinyalzJ-BI"
      },
      "execution_count": null,
      "outputs": []
    },
    {
      "cell_type": "code",
      "source": [
        "missing_values_salman = salman.select([sum(col(c).isNull().cast(\"int\")).alias(c) for c in salman.columns])\n",
        "\n",
        "missing_values_salman.show()"
      ],
      "metadata": {
        "colab": {
          "base_uri": "https://localhost:8080/"
        },
        "id": "Rw49m_s0LzvY",
        "outputId": "9f364312-908d-40f1-c961-63941b4a156f"
      },
      "execution_count": null,
      "outputs": [
        {
          "output_type": "stream",
          "name": "stdout",
          "text": [
            "+------------+-----------+----+------+---+------+-----------------+------------------------+-------------------+----------------+----------+-----------------+------------------+--------------+---------------+-----------------+----------------+----------------+------+------+------+----------------+-------------+---------+---------+-----------+-----------+--------------+-----------+-------------+---------+---------+-----------+------------+-------------+--------+--------+------------+----------+-------+-----------+-------+-------------------+-------------------+------------------------+-----------------------+----------------------+------+-----------+----------+\n",
            "|encounter_id|patient_nbr|race|gender|age|weight|admission_type_id|discharge_disposition_id|admission_source_id|time_in_hospital|payer_code|medical_specialty|num_lab_procedures|num_procedures|num_medications|number_outpatient|number_emergency|number_inpatient|diag_1|diag_2|diag_3|number_diagnoses|max_glu_serum|A1Cresult|metformin|repaglinide|nateglinide|chlorpropamide|glimepiride|acetohexamide|glipizide|glyburide|tolbutamide|pioglitazone|rosiglitazone|acarbose|miglitol|troglitazone|tolazamide|examide|citoglipton|insulin|glyburide-metformin|glipizide-metformin|glimepiride-pioglitazone|metformin-rosiglitazone|metformin-pioglitazone|change|diabetesMed|readmitted|\n",
            "+------------+-----------+----+------+---+------+-----------------+------------------------+-------------------+----------------+----------+-----------------+------------------+--------------+---------------+-----------------+----------------+----------------+------+------+------+----------------+-------------+---------+---------+-----------+-----------+--------------+-----------+-------------+---------+---------+-----------+------------+-------------+--------+--------+------------+----------+-------+-----------+-------+-------------------+-------------------+------------------------+-----------------------+----------------------+------+-----------+----------+\n",
            "|           0|          0|   0|     0|  0|     0|                0|                       0|                  0|               0|         0|                0|                 0|             0|              0|                0|               0|               0|     0|     0|     0|               0|            0|        0|        0|          0|          0|             0|          0|            0|        0|        0|          0|           0|            0|       0|       0|           0|         0|      0|          0|      0|                  0|                  0|                       0|                      0|                     0|     0|          0|         0|\n",
            "+------------+-----------+----+------+---+------+-----------------+------------------------+-------------------+----------------+----------+-----------------+------------------+--------------+---------------+-----------------+----------------+----------------+------+------+------+----------------+-------------+---------+---------+-----------+-----------+--------------+-----------+-------------+---------+---------+-----------+------------+-------------+--------+--------+------------+----------+-------+-----------+-------+-------------------+-------------------+------------------------+-----------------------+----------------------+------+-----------+----------+\n",
            "\n"
          ]
        }
      ]
    },
    {
      "cell_type": "markdown",
      "source": [
        "# ***No null values, but i have to find it***"
      ],
      "metadata": {
        "id": "_rh3GCg837jE"
      }
    },
    {
      "cell_type": "code",
      "source": [
        "from pyspark.sql.functions import col\n",
        "\n",
        "salman = salman.na.replace(\"?\", None).na.replace(\"None\", None).na.replace(\"N/A\", None)\n",
        "\n",
        "missing_values_salman = salman.select([sum(col(c).isNull().cast(\"int\")).alias(c) for c in salman.columns])\n",
        "missing_values_salman.show()\n"
      ],
      "metadata": {
        "colab": {
          "base_uri": "https://localhost:8080/"
        },
        "id": "ilN0jzZ14BB0",
        "outputId": "ce85f5bb-f55f-4068-be83-c8bf1a6e66b7"
      },
      "execution_count": null,
      "outputs": [
        {
          "output_type": "stream",
          "name": "stdout",
          "text": [
            "+------------+-----------+----+------+---+------+-----------------+------------------------+-------------------+----------------+----------+-----------------+------------------+--------------+---------------+-----------------+----------------+----------------+------+------+------+----------------+-------------+---------+---------+-----------+-----------+--------------+-----------+-------------+---------+---------+-----------+------------+-------------+--------+--------+------------+----------+-------+-----------+-------+-------------------+-------------------+------------------------+-----------------------+----------------------+------+-----------+----------+\n",
            "|encounter_id|patient_nbr|race|gender|age|weight|admission_type_id|discharge_disposition_id|admission_source_id|time_in_hospital|payer_code|medical_specialty|num_lab_procedures|num_procedures|num_medications|number_outpatient|number_emergency|number_inpatient|diag_1|diag_2|diag_3|number_diagnoses|max_glu_serum|A1Cresult|metformin|repaglinide|nateglinide|chlorpropamide|glimepiride|acetohexamide|glipizide|glyburide|tolbutamide|pioglitazone|rosiglitazone|acarbose|miglitol|troglitazone|tolazamide|examide|citoglipton|insulin|glyburide-metformin|glipizide-metformin|glimepiride-pioglitazone|metformin-rosiglitazone|metformin-pioglitazone|change|diabetesMed|readmitted|\n",
            "+------------+-----------+----+------+---+------+-----------------+------------------------+-------------------+----------------+----------+-----------------+------------------+--------------+---------------+-----------------+----------------+----------------+------+------+------+----------------+-------------+---------+---------+-----------+-----------+--------------+-----------+-------------+---------+---------+-----------+------------+-------------+--------+--------+------------+----------+-------+-----------+-------+-------------------+-------------------+------------------------+-----------------------+----------------------+------+-----------+----------+\n",
            "|           0|          0|2273|     0|  0| 98569|                0|                       0|                  0|               0|     40256|            49949|                 0|             0|              0|                0|               0|               0|    21|   358|  1423|               0|        96420|    84748|        0|          0|          0|             0|          0|            0|        0|        0|          0|           0|            0|       0|       0|           0|         0|      0|          0|      0|                  0|                  0|                       0|                      0|                     0|     0|          0|         0|\n",
            "+------------+-----------+----+------+---+------+-----------------+------------------------+-------------------+----------------+----------+-----------------+------------------+--------------+---------------+-----------------+----------------+----------------+------+------+------+----------------+-------------+---------+---------+-----------+-----------+--------------+-----------+-------------+---------+---------+-----------+------------+-------------+--------+--------+------------+----------+-------+-----------+-------+-------------------+-------------------+------------------------+-----------------------+----------------------+------+-----------+----------+\n",
            "\n"
          ]
        }
      ]
    },
    {
      "cell_type": "code",
      "source": [
        "salman.show()"
      ],
      "metadata": {
        "colab": {
          "base_uri": "https://localhost:8080/"
        },
        "id": "RcGtA8yf2lQa",
        "outputId": "f81365e7-dcea-40f5-fc1e-07d7412ca85f"
      },
      "execution_count": null,
      "outputs": [
        {
          "output_type": "stream",
          "name": "stdout",
          "text": [
            "+------------+-----------+---------------+------+--------+------+-----------------+------------------------+-------------------+----------------+----------+--------------------+------------------+--------------+---------------+-----------------+----------------+----------------+------+------+------+----------------+-------------+---------+---------+-----------+-----------+--------------+-----------+-------------+---------+---------+-----------+------------+-------------+--------+--------+------------+----------+-------+-----------+-------+-------------------+-------------------+------------------------+-----------------------+----------------------+------+-----------+----------+\n",
            "|encounter_id|patient_nbr|           race|gender|     age|weight|admission_type_id|discharge_disposition_id|admission_source_id|time_in_hospital|payer_code|   medical_specialty|num_lab_procedures|num_procedures|num_medications|number_outpatient|number_emergency|number_inpatient|diag_1|diag_2|diag_3|number_diagnoses|max_glu_serum|A1Cresult|metformin|repaglinide|nateglinide|chlorpropamide|glimepiride|acetohexamide|glipizide|glyburide|tolbutamide|pioglitazone|rosiglitazone|acarbose|miglitol|troglitazone|tolazamide|examide|citoglipton|insulin|glyburide-metformin|glipizide-metformin|glimepiride-pioglitazone|metformin-rosiglitazone|metformin-pioglitazone|change|diabetesMed|readmitted|\n",
            "+------------+-----------+---------------+------+--------+------+-----------------+------------------------+-------------------+----------------+----------+--------------------+------------------+--------------+---------------+-----------------+----------------+----------------+------+------+------+----------------+-------------+---------+---------+-----------+-----------+--------------+-----------+-------------+---------+---------+-----------+------------+-------------+--------+--------+------------+----------+-------+-----------+-------+-------------------+-------------------+------------------------+-----------------------+----------------------+------+-----------+----------+\n",
            "|     2278392|    8222157|      Caucasian|Female|  [0-10)|  NULL|                6|                      25|                  1|               1|      NULL|Pediatrics-Endocr...|                41|             0|              1|                0|               0|               0|250.83|  NULL|  NULL|               1|         NULL|     NULL|       No|         No|         No|            No|         No|           No|       No|       No|         No|          No|           No|      No|      No|          No|        No|     No|         No|     No|                 No|                 No|                      No|                     No|                    No|    No|         No|        NO|\n",
            "|      149190|   55629189|      Caucasian|Female| [10-20)|  NULL|                1|                       1|                  7|               3|      NULL|                NULL|                59|             0|             18|                0|               0|               0|   276|250.01|   255|               9|         NULL|     NULL|       No|         No|         No|            No|         No|           No|       No|       No|         No|          No|           No|      No|      No|          No|        No|     No|         No|     Up|                 No|                 No|                      No|                     No|                    No|    Ch|        Yes|       >30|\n",
            "|       64410|   86047875|AfricanAmerican|Female| [20-30)|  NULL|                1|                       1|                  7|               2|      NULL|                NULL|                11|             5|             13|                2|               0|               1|   648|   250|   V27|               6|         NULL|     NULL|       No|         No|         No|            No|         No|           No|   Steady|       No|         No|          No|           No|      No|      No|          No|        No|     No|         No|     No|                 No|                 No|                      No|                     No|                    No|    No|        Yes|        NO|\n",
            "|      500364|   82442376|      Caucasian|  Male| [30-40)|  NULL|                1|                       1|                  7|               2|      NULL|                NULL|                44|             1|             16|                0|               0|               0|     8|250.43|   403|               7|         NULL|     NULL|       No|         No|         No|            No|         No|           No|       No|       No|         No|          No|           No|      No|      No|          No|        No|     No|         No|     Up|                 No|                 No|                      No|                     No|                    No|    Ch|        Yes|        NO|\n",
            "|       16680|   42519267|      Caucasian|  Male| [40-50)|  NULL|                1|                       1|                  7|               1|      NULL|                NULL|                51|             0|              8|                0|               0|               0|   197|   157|   250|               5|         NULL|     NULL|       No|         No|         No|            No|         No|           No|   Steady|       No|         No|          No|           No|      No|      No|          No|        No|     No|         No| Steady|                 No|                 No|                      No|                     No|                    No|    Ch|        Yes|        NO|\n",
            "|       35754|   82637451|      Caucasian|  Male| [50-60)|  NULL|                2|                       1|                  2|               3|      NULL|                NULL|                31|             6|             16|                0|               0|               0|   414|   411|   250|               9|         NULL|     NULL|       No|         No|         No|            No|         No|           No|       No|       No|         No|          No|           No|      No|      No|          No|        No|     No|         No| Steady|                 No|                 No|                      No|                     No|                    No|    No|        Yes|       >30|\n",
            "|       55842|   84259809|      Caucasian|  Male| [60-70)|  NULL|                3|                       1|                  2|               4|      NULL|                NULL|                70|             1|             21|                0|               0|               0|   414|   411|   V45|               7|         NULL|     NULL|   Steady|         No|         No|            No|     Steady|           No|       No|       No|         No|          No|           No|      No|      No|          No|        No|     No|         No| Steady|                 No|                 No|                      No|                     No|                    No|    Ch|        Yes|        NO|\n",
            "|       63768|  114882984|      Caucasian|  Male| [70-80)|  NULL|                1|                       1|                  7|               5|      NULL|                NULL|                73|             0|             12|                0|               0|               0|   428|   492|   250|               8|         NULL|     NULL|       No|         No|         No|            No|         No|           No|       No|   Steady|         No|          No|           No|      No|      No|          No|        No|     No|         No|     No|                 No|                 No|                      No|                     No|                    No|    No|        Yes|       >30|\n",
            "|       12522|   48330783|      Caucasian|Female| [80-90)|  NULL|                2|                       1|                  4|              13|      NULL|                NULL|                68|             2|             28|                0|               0|               0|   398|   427|    38|               8|         NULL|     NULL|       No|         No|         No|            No|         No|           No|   Steady|       No|         No|          No|           No|      No|      No|          No|        No|     No|         No| Steady|                 No|                 No|                      No|                     No|                    No|    Ch|        Yes|        NO|\n",
            "|       15738|   63555939|      Caucasian|Female|[90-100)|  NULL|                3|                       3|                  4|              12|      NULL|    InternalMedicine|                33|             3|             18|                0|               0|               0|   434|   198|   486|               8|         NULL|     NULL|       No|         No|         No|            No|         No|           No|       No|       No|         No|          No|       Steady|      No|      No|          No|        No|     No|         No| Steady|                 No|                 No|                      No|                     No|                    No|    Ch|        Yes|        NO|\n",
            "|       28236|   89869032|AfricanAmerican|Female| [40-50)|  NULL|                1|                       1|                  7|               9|      NULL|                NULL|                47|             2|             17|                0|               0|               0| 250.7|   403|   996|               9|         NULL|     NULL|       No|         No|         No|            No|         No|           No|       No|       No|         No|          No|           No|      No|      No|          No|        No|     No|         No| Steady|                 No|                 No|                      No|                     No|                    No|    No|        Yes|       >30|\n",
            "|       36900|   77391171|AfricanAmerican|  Male| [60-70)|  NULL|                2|                       1|                  4|               7|      NULL|                NULL|                62|             0|             11|                0|               0|               0|   157|   288|   197|               7|         NULL|     NULL|       No|         No|         No|            No|         No|           No|       No|       Up|         No|          No|           No|      No|      No|          No|        No|     No|         No| Steady|                 No|                 No|                      No|                     No|                    No|    Ch|        Yes|       <30|\n",
            "|       40926|   85504905|      Caucasian|Female| [40-50)|  NULL|                1|                       3|                  7|               7|      NULL|Family/GeneralPra...|                60|             0|             15|                0|               1|               0|   428|250.43| 250.6|               8|         NULL|     NULL|   Steady|         Up|         No|            No|         No|           No|       No|       No|         No|          No|           No|      No|      No|          No|        No|     No|         No|   Down|                 No|                 No|                      No|                     No|                    No|    Ch|        Yes|       <30|\n",
            "|       42570|   77586282|      Caucasian|  Male| [80-90)|  NULL|                1|                       6|                  7|              10|      NULL|Family/GeneralPra...|                55|             1|             31|                0|               0|               0|   428|   411|   427|               8|         NULL|     NULL|       No|         No|         No|            No|         No|           No|       No|       No|         No|          No|           No|      No|      No|          No|        No|     No|         No| Steady|                 No|                 No|                      No|                     No|                    No|    No|        Yes|        NO|\n",
            "|       62256|   49726791|AfricanAmerican|Female| [60-70)|  NULL|                3|                       1|                  2|               1|      NULL|                NULL|                49|             5|              2|                0|               0|               0|   518|   998|   627|               8|         NULL|     NULL|       No|         No|         No|            No|         No|           No|       No|       No|         No|          No|           No|      No|      No|          No|        No|     No|         No| Steady|                 No|                 No|                      No|                     No|                    No|    No|        Yes|       >30|\n",
            "|       73578|   86328819|AfricanAmerican|  Male| [60-70)|  NULL|                1|                       3|                  7|              12|      NULL|                NULL|                75|             5|             13|                0|               0|               0|   999|   507|   996|               9|         NULL|     NULL|       No|         No|         No|            No|         No|           No|       No|       No|         No|          No|           No|      No|      No|          No|        No|     No|         No|     Up|                 No|                 No|                      No|                     No|                    No|    Ch|        Yes|        NO|\n",
            "|       77076|   92519352|AfricanAmerican|  Male| [50-60)|  NULL|                1|                       1|                  7|               4|      NULL|                NULL|                45|             4|             17|                0|               0|               0|   410|   411|   414|               8|         NULL|     NULL|       No|         No|         No|            No|         No|           No|   Steady|       No|         No|          No|           No|      No|      No|          No|        No|     No|         No| Steady|                 No|                 No|                      No|                     No|                    No|    Ch|        Yes|       <30|\n",
            "|       84222|  108662661|      Caucasian|Female| [50-60)|  NULL|                1|                       1|                  7|               3|      NULL|          Cardiology|                29|             0|             11|                0|               0|               0|   682|   174|   250|               3|         NULL|     NULL|       No|         No|         No|            No|         No|           No|       No|   Steady|         No|          No|           No|      No|      No|          No|        No|     No|         No|     No|                 No|                 No|                      No|                     No|                    No|    No|        Yes|        NO|\n",
            "|       89682|  107389323|AfricanAmerican|  Male| [70-80)|  NULL|                1|                       1|                  7|               5|      NULL|                NULL|                35|             5|             23|                0|               0|               0|   402|   425|   416|               9|         NULL|     NULL|       No|         No|         No|            No|         No|           No|       No|       No|         No|          No|           No|      No|      No|          No|        No|     No|         No| Steady|                 No|                 No|                      No|                     No|                    No|    No|        Yes|       >30|\n",
            "|      148530|   69422211|           NULL|  Male| [70-80)|  NULL|                3|                       6|                  2|               6|      NULL|                NULL|                42|             2|             23|                0|               0|               0|   737|   427|   714|               8|         NULL|     NULL|       No|         No|         No|            No|         No|           No|       No|     Down|         No|          No|           No|      No|      No|          No|        No|     No|         No| Steady|                 No|                 No|                      No|                     No|                    No|    Ch|        Yes|        NO|\n",
            "+------------+-----------+---------------+------+--------+------+-----------------+------------------------+-------------------+----------------+----------+--------------------+------------------+--------------+---------------+-----------------+----------------+----------------+------+------+------+----------------+-------------+---------+---------+-----------+-----------+--------------+-----------+-------------+---------+---------+-----------+------------+-------------+--------+--------+------------+----------+-------+-----------+-------+-------------------+-------------------+------------------------+-----------------------+----------------------+------+-----------+----------+\n",
            "only showing top 20 rows\n",
            "\n"
          ]
        }
      ]
    },
    {
      "cell_type": "markdown",
      "source": [
        "# ***Above is the table of total missing values in each feature.***\n",
        "# ***Now, I have to handle these missing values.***"
      ],
      "metadata": {
        "id": "L92NnCW3MJTn"
      }
    },
    {
      "cell_type": "markdown",
      "source": [
        "# ***Handling Missing values***"
      ],
      "metadata": {
        "id": "4RgUg1wcMWcA"
      }
    },
    {
      "cell_type": "code",
      "source": [
        "from pyspark.sql.functions import mean\n"
      ],
      "metadata": {
        "id": "mV4K5wIRQixN"
      },
      "execution_count": null,
      "outputs": []
    },
    {
      "cell_type": "markdown",
      "source": [
        "# ***Handling missing values for ''Numerical columns'' by mean***"
      ],
      "metadata": {
        "id": "b8YJVDcxNUy2"
      }
    },
    {
      "cell_type": "markdown",
      "source": [
        "# ***Calculate the mean of each numeric column***"
      ],
      "metadata": {
        "id": "wOPsSbfRMqk_"
      }
    },
    {
      "cell_type": "code",
      "source": [
        "from pyspark.sql.functions import mean, col\n",
        "\n",
        "numeric_cols = [col_name for col_name, data_type in salman.dtypes if data_type == \"int\" or data_type == \"double\"]\n",
        "\n",
        "\n",
        "numeric_means = salman.select([mean(col(col_name)).alias(col_name) for col_name in numeric_cols]).collect()[0]\n",
        "\n",
        "for col_name in numeric_cols:\n",
        "    salman = salman.na.fill(numeric_means[col_name], [col_name])\n"
      ],
      "metadata": {
        "id": "naFDM1woNN6e"
      },
      "execution_count": null,
      "outputs": []
    },
    {
      "cell_type": "code",
      "source": [
        "numeric_cols"
      ],
      "metadata": {
        "colab": {
          "base_uri": "https://localhost:8080/"
        },
        "id": "0quhuw9h7crU",
        "outputId": "b137f1be-6a68-4b0c-8cea-7d1440ca0bb2"
      },
      "execution_count": null,
      "outputs": [
        {
          "output_type": "execute_result",
          "data": {
            "text/plain": [
              "['encounter_id',\n",
              " 'patient_nbr',\n",
              " 'admission_type_id',\n",
              " 'discharge_disposition_id',\n",
              " 'admission_source_id',\n",
              " 'time_in_hospital',\n",
              " 'num_lab_procedures',\n",
              " 'num_procedures',\n",
              " 'num_medications',\n",
              " 'number_outpatient',\n",
              " 'number_emergency',\n",
              " 'number_inpatient',\n",
              " 'number_diagnoses']"
            ]
          },
          "metadata": {},
          "execution_count": 24
        }
      ]
    },
    {
      "cell_type": "code",
      "source": [
        "from pyspark.sql.functions import col\n",
        "\n",
        "salman = salman.replace(\"?\", None)\n",
        "\n",
        "missing_values_salman = salman.select([sum(col(c).isNull().cast(\"int\")).alias(c) for c in salman.columns])\n",
        "missing_values_salman.show()\n"
      ],
      "metadata": {
        "id": "qjBXRz3l7fuE",
        "colab": {
          "base_uri": "https://localhost:8080/"
        },
        "outputId": "1af8a1aa-8c59-4c91-ea71-fd95f5e4be1c"
      },
      "execution_count": null,
      "outputs": [
        {
          "output_type": "stream",
          "name": "stdout",
          "text": [
            "+------------+-----------+----+------+---+------+-----------------+------------------------+-------------------+----------------+----------+-----------------+------------------+--------------+---------------+-----------------+----------------+----------------+------+------+------+----------------+-------------+---------+---------+-----------+-----------+--------------+-----------+-------------+---------+---------+-----------+------------+-------------+--------+--------+------------+----------+-------+-----------+-------+-------------------+-------------------+------------------------+-----------------------+----------------------+------+-----------+----------+\n",
            "|encounter_id|patient_nbr|race|gender|age|weight|admission_type_id|discharge_disposition_id|admission_source_id|time_in_hospital|payer_code|medical_specialty|num_lab_procedures|num_procedures|num_medications|number_outpatient|number_emergency|number_inpatient|diag_1|diag_2|diag_3|number_diagnoses|max_glu_serum|A1Cresult|metformin|repaglinide|nateglinide|chlorpropamide|glimepiride|acetohexamide|glipizide|glyburide|tolbutamide|pioglitazone|rosiglitazone|acarbose|miglitol|troglitazone|tolazamide|examide|citoglipton|insulin|glyburide-metformin|glipizide-metformin|glimepiride-pioglitazone|metformin-rosiglitazone|metformin-pioglitazone|change|diabetesMed|readmitted|\n",
            "+------------+-----------+----+------+---+------+-----------------+------------------------+-------------------+----------------+----------+-----------------+------------------+--------------+---------------+-----------------+----------------+----------------+------+------+------+----------------+-------------+---------+---------+-----------+-----------+--------------+-----------+-------------+---------+---------+-----------+------------+-------------+--------+--------+------------+----------+-------+-----------+-------+-------------------+-------------------+------------------------+-----------------------+----------------------+------+-----------+----------+\n",
            "|           0|          0|2273|     0|  0| 98569|                0|                       0|                  0|               0|     40256|            49949|                 0|             0|              0|                0|               0|               0|    21|   358|  1423|               0|        96420|    84748|        0|          0|          0|             0|          0|            0|        0|        0|          0|           0|            0|       0|       0|           0|         0|      0|          0|      0|                  0|                  0|                       0|                      0|                     0|     0|          0|         0|\n",
            "+------------+-----------+----+------+---+------+-----------------+------------------------+-------------------+----------------+----------+-----------------+------------------+--------------+---------------+-----------------+----------------+----------------+------+------+------+----------------+-------------+---------+---------+-----------+-----------+--------------+-----------+-------------+---------+---------+-----------+------------+-------------+--------+--------+------------+----------+-------+-----------+-------+-------------------+-------------------+------------------------+-----------------------+----------------------+------+-----------+----------+\n",
            "\n"
          ]
        }
      ]
    },
    {
      "cell_type": "markdown",
      "source": [
        "# ***Handling missing values for of each ''String column'' by Mode***"
      ],
      "metadata": {
        "id": "oZ2uMJByM4vL"
      }
    },
    {
      "cell_type": "code",
      "source": [
        "from pyspark.sql.functions import col\n",
        "\n",
        "def calculate_mode(df, col_name):\n",
        "    mode_row = df.filter(col(col_name).isNotNull()) \\\n",
        "                  .groupBy(col_name).count() \\\n",
        "                  .orderBy('count', ascending=False) \\\n",
        "                  .first()\n",
        "\n",
        "    return mode_row[0] if mode_row else None\n",
        "\n",
        "string_cols = ['race', 'weight','payer_code', 'medical_specialty', 'diag_1', 'diag_2', 'diag_3', 'max_glu_serum', 'A1Cresult']\n",
        "\n",
        "string_modes = [calculate_mode(salman, col_name) for col_name in string_cols]"
      ],
      "metadata": {
        "id": "Atq2HWPE6AMi"
      },
      "execution_count": null,
      "outputs": []
    },
    {
      "cell_type": "code",
      "source": [
        "from pyspark.sql.functions import when\n",
        "for i, col in enumerate(string_cols):\n",
        "    mode_value = string_modes[i]\n",
        "    if mode_value is not None:\n",
        "        salman = salman.withColumn(col, when(salman[col].isNull(), mode_value).otherwise(salman[col]))"
      ],
      "metadata": {
        "id": "LzEaBDmn6MCp"
      },
      "execution_count": null,
      "outputs": []
    },
    {
      "cell_type": "markdown",
      "source": [
        "# ***Checking is there are any missing values in the entire dataframe***"
      ],
      "metadata": {
        "id": "RIpCMij-N1TE"
      }
    },
    {
      "cell_type": "code",
      "source": [
        "from pyspark.sql.functions import col, sum\n",
        "\n",
        "missing_values = salman.select([sum(col(c).isNull().cast(\"int\")).alias(c) for c in salman.columns])\n",
        "\n",
        "\n",
        "missing_values.show()\n"
      ],
      "metadata": {
        "colab": {
          "base_uri": "https://localhost:8080/"
        },
        "id": "qMJ1A9UGO8xX",
        "outputId": "a45e59f5-a9e7-48d6-a538-997dd773460e"
      },
      "execution_count": null,
      "outputs": [
        {
          "output_type": "stream",
          "name": "stdout",
          "text": [
            "+------------+-----------+----+------+---+------+-----------------+------------------------+-------------------+----------------+----------+-----------------+------------------+--------------+---------------+-----------------+----------------+----------------+------+------+------+----------------+-------------+---------+---------+-----------+-----------+--------------+-----------+-------------+---------+---------+-----------+------------+-------------+--------+--------+------------+----------+-------+-----------+-------+-------------------+-------------------+------------------------+-----------------------+----------------------+------+-----------+----------+\n",
            "|encounter_id|patient_nbr|race|gender|age|weight|admission_type_id|discharge_disposition_id|admission_source_id|time_in_hospital|payer_code|medical_specialty|num_lab_procedures|num_procedures|num_medications|number_outpatient|number_emergency|number_inpatient|diag_1|diag_2|diag_3|number_diagnoses|max_glu_serum|A1Cresult|metformin|repaglinide|nateglinide|chlorpropamide|glimepiride|acetohexamide|glipizide|glyburide|tolbutamide|pioglitazone|rosiglitazone|acarbose|miglitol|troglitazone|tolazamide|examide|citoglipton|insulin|glyburide-metformin|glipizide-metformin|glimepiride-pioglitazone|metformin-rosiglitazone|metformin-pioglitazone|change|diabetesMed|readmitted|\n",
            "+------------+-----------+----+------+---+------+-----------------+------------------------+-------------------+----------------+----------+-----------------+------------------+--------------+---------------+-----------------+----------------+----------------+------+------+------+----------------+-------------+---------+---------+-----------+-----------+--------------+-----------+-------------+---------+---------+-----------+------------+-------------+--------+--------+------------+----------+-------+-----------+-------+-------------------+-------------------+------------------------+-----------------------+----------------------+------+-----------+----------+\n",
            "|           0|          0|   0|     0|  0|     0|                0|                       0|                  0|               0|         0|                0|                 0|             0|              0|                0|               0|               0|     0|     0|     0|               0|            0|        0|        0|          0|          0|             0|          0|            0|        0|        0|          0|           0|            0|       0|       0|           0|         0|      0|          0|      0|                  0|                  0|                       0|                      0|                     0|     0|          0|         0|\n",
            "+------------+-----------+----+------+---+------+-----------------+------------------------+-------------------+----------------+----------+-----------------+------------------+--------------+---------------+-----------------+----------------+----------------+------+------+------+----------------+-------------+---------+---------+-----------+-----------+--------------+-----------+-------------+---------+---------+-----------+------------+-------------+--------+--------+------------+----------+-------+-----------+-------+-------------------+-------------------+------------------------+-----------------------+----------------------+------+-----------+----------+\n",
            "\n"
          ]
        }
      ]
    },
    {
      "cell_type": "markdown",
      "source": [
        "# ***Missing value handling done***"
      ],
      "metadata": {
        "id": "P0_VlLjBOHLE"
      }
    },
    {
      "cell_type": "code",
      "source": [
        "salman.show()"
      ],
      "metadata": {
        "colab": {
          "base_uri": "https://localhost:8080/"
        },
        "id": "gRF8nNWwOLGr",
        "outputId": "739dd8ee-33a6-45f5-dcbb-adcdf25146e8"
      },
      "execution_count": null,
      "outputs": [
        {
          "output_type": "stream",
          "name": "stdout",
          "text": [
            "+------------+-----------+---------------+------+--------+--------+-----------------+------------------------+-------------------+----------------+----------+--------------------+------------------+--------------+---------------+-----------------+----------------+----------------+------+------+------+----------------+-------------+---------+---------+-----------+-----------+--------------+-----------+-------------+---------+---------+-----------+------------+-------------+--------+--------+------------+----------+-------+-----------+-------+-------------------+-------------------+------------------------+-----------------------+----------------------+------+-----------+----------+\n",
            "|encounter_id|patient_nbr|           race|gender|     age|  weight|admission_type_id|discharge_disposition_id|admission_source_id|time_in_hospital|payer_code|   medical_specialty|num_lab_procedures|num_procedures|num_medications|number_outpatient|number_emergency|number_inpatient|diag_1|diag_2|diag_3|number_diagnoses|max_glu_serum|A1Cresult|metformin|repaglinide|nateglinide|chlorpropamide|glimepiride|acetohexamide|glipizide|glyburide|tolbutamide|pioglitazone|rosiglitazone|acarbose|miglitol|troglitazone|tolazamide|examide|citoglipton|insulin|glyburide-metformin|glipizide-metformin|glimepiride-pioglitazone|metformin-rosiglitazone|metformin-pioglitazone|change|diabetesMed|readmitted|\n",
            "+------------+-----------+---------------+------+--------+--------+-----------------+------------------------+-------------------+----------------+----------+--------------------+------------------+--------------+---------------+-----------------+----------------+----------------+------+------+------+----------------+-------------+---------+---------+-----------+-----------+--------------+-----------+-------------+---------+---------+-----------+------------+-------------+--------+--------+------------+----------+-------+-----------+-------+-------------------+-------------------+------------------------+-----------------------+----------------------+------+-----------+----------+\n",
            "|     2278392|    8222157|      Caucasian|Female|  [0-10)|[75-100)|                6|                      25|                  1|               1|        MC|Pediatrics-Endocr...|                41|             0|              1|                0|               0|               0|250.83|   276|   250|               1|         Norm|       >8|       No|         No|         No|            No|         No|           No|       No|       No|         No|          No|           No|      No|      No|          No|        No|     No|         No|     No|                 No|                 No|                      No|                     No|                    No|    No|         No|        NO|\n",
            "|      149190|   55629189|      Caucasian|Female| [10-20)|[75-100)|                1|                       1|                  7|               3|        MC|    InternalMedicine|                59|             0|             18|                0|               0|               0|   276|250.01|   255|               9|         Norm|       >8|       No|         No|         No|            No|         No|           No|       No|       No|         No|          No|           No|      No|      No|          No|        No|     No|         No|     Up|                 No|                 No|                      No|                     No|                    No|    Ch|        Yes|       >30|\n",
            "|       64410|   86047875|AfricanAmerican|Female| [20-30)|[75-100)|                1|                       1|                  7|               2|        MC|    InternalMedicine|                11|             5|             13|                2|               0|               1|   648|   250|   V27|               6|         Norm|       >8|       No|         No|         No|            No|         No|           No|   Steady|       No|         No|          No|           No|      No|      No|          No|        No|     No|         No|     No|                 No|                 No|                      No|                     No|                    No|    No|        Yes|        NO|\n",
            "|      500364|   82442376|      Caucasian|  Male| [30-40)|[75-100)|                1|                       1|                  7|               2|        MC|    InternalMedicine|                44|             1|             16|                0|               0|               0|     8|250.43|   403|               7|         Norm|       >8|       No|         No|         No|            No|         No|           No|       No|       No|         No|          No|           No|      No|      No|          No|        No|     No|         No|     Up|                 No|                 No|                      No|                     No|                    No|    Ch|        Yes|        NO|\n",
            "|       16680|   42519267|      Caucasian|  Male| [40-50)|[75-100)|                1|                       1|                  7|               1|        MC|    InternalMedicine|                51|             0|              8|                0|               0|               0|   197|   157|   250|               5|         Norm|       >8|       No|         No|         No|            No|         No|           No|   Steady|       No|         No|          No|           No|      No|      No|          No|        No|     No|         No| Steady|                 No|                 No|                      No|                     No|                    No|    Ch|        Yes|        NO|\n",
            "|       35754|   82637451|      Caucasian|  Male| [50-60)|[75-100)|                2|                       1|                  2|               3|        MC|    InternalMedicine|                31|             6|             16|                0|               0|               0|   414|   411|   250|               9|         Norm|       >8|       No|         No|         No|            No|         No|           No|       No|       No|         No|          No|           No|      No|      No|          No|        No|     No|         No| Steady|                 No|                 No|                      No|                     No|                    No|    No|        Yes|       >30|\n",
            "|       55842|   84259809|      Caucasian|  Male| [60-70)|[75-100)|                3|                       1|                  2|               4|        MC|    InternalMedicine|                70|             1|             21|                0|               0|               0|   414|   411|   V45|               7|         Norm|       >8|   Steady|         No|         No|            No|     Steady|           No|       No|       No|         No|          No|           No|      No|      No|          No|        No|     No|         No| Steady|                 No|                 No|                      No|                     No|                    No|    Ch|        Yes|        NO|\n",
            "|       63768|  114882984|      Caucasian|  Male| [70-80)|[75-100)|                1|                       1|                  7|               5|        MC|    InternalMedicine|                73|             0|             12|                0|               0|               0|   428|   492|   250|               8|         Norm|       >8|       No|         No|         No|            No|         No|           No|       No|   Steady|         No|          No|           No|      No|      No|          No|        No|     No|         No|     No|                 No|                 No|                      No|                     No|                    No|    No|        Yes|       >30|\n",
            "|       12522|   48330783|      Caucasian|Female| [80-90)|[75-100)|                2|                       1|                  4|              13|        MC|    InternalMedicine|                68|             2|             28|                0|               0|               0|   398|   427|    38|               8|         Norm|       >8|       No|         No|         No|            No|         No|           No|   Steady|       No|         No|          No|           No|      No|      No|          No|        No|     No|         No| Steady|                 No|                 No|                      No|                     No|                    No|    Ch|        Yes|        NO|\n",
            "|       15738|   63555939|      Caucasian|Female|[90-100)|[75-100)|                3|                       3|                  4|              12|        MC|    InternalMedicine|                33|             3|             18|                0|               0|               0|   434|   198|   486|               8|         Norm|       >8|       No|         No|         No|            No|         No|           No|       No|       No|         No|          No|       Steady|      No|      No|          No|        No|     No|         No| Steady|                 No|                 No|                      No|                     No|                    No|    Ch|        Yes|        NO|\n",
            "|       28236|   89869032|AfricanAmerican|Female| [40-50)|[75-100)|                1|                       1|                  7|               9|        MC|    InternalMedicine|                47|             2|             17|                0|               0|               0| 250.7|   403|   996|               9|         Norm|       >8|       No|         No|         No|            No|         No|           No|       No|       No|         No|          No|           No|      No|      No|          No|        No|     No|         No| Steady|                 No|                 No|                      No|                     No|                    No|    No|        Yes|       >30|\n",
            "|       36900|   77391171|AfricanAmerican|  Male| [60-70)|[75-100)|                2|                       1|                  4|               7|        MC|    InternalMedicine|                62|             0|             11|                0|               0|               0|   157|   288|   197|               7|         Norm|       >8|       No|         No|         No|            No|         No|           No|       No|       Up|         No|          No|           No|      No|      No|          No|        No|     No|         No| Steady|                 No|                 No|                      No|                     No|                    No|    Ch|        Yes|       <30|\n",
            "|       40926|   85504905|      Caucasian|Female| [40-50)|[75-100)|                1|                       3|                  7|               7|        MC|Family/GeneralPra...|                60|             0|             15|                0|               1|               0|   428|250.43| 250.6|               8|         Norm|       >8|   Steady|         Up|         No|            No|         No|           No|       No|       No|         No|          No|           No|      No|      No|          No|        No|     No|         No|   Down|                 No|                 No|                      No|                     No|                    No|    Ch|        Yes|       <30|\n",
            "|       42570|   77586282|      Caucasian|  Male| [80-90)|[75-100)|                1|                       6|                  7|              10|        MC|Family/GeneralPra...|                55|             1|             31|                0|               0|               0|   428|   411|   427|               8|         Norm|       >8|       No|         No|         No|            No|         No|           No|       No|       No|         No|          No|           No|      No|      No|          No|        No|     No|         No| Steady|                 No|                 No|                      No|                     No|                    No|    No|        Yes|        NO|\n",
            "|       62256|   49726791|AfricanAmerican|Female| [60-70)|[75-100)|                3|                       1|                  2|               1|        MC|    InternalMedicine|                49|             5|              2|                0|               0|               0|   518|   998|   627|               8|         Norm|       >8|       No|         No|         No|            No|         No|           No|       No|       No|         No|          No|           No|      No|      No|          No|        No|     No|         No| Steady|                 No|                 No|                      No|                     No|                    No|    No|        Yes|       >30|\n",
            "|       73578|   86328819|AfricanAmerican|  Male| [60-70)|[75-100)|                1|                       3|                  7|              12|        MC|    InternalMedicine|                75|             5|             13|                0|               0|               0|   999|   507|   996|               9|         Norm|       >8|       No|         No|         No|            No|         No|           No|       No|       No|         No|          No|           No|      No|      No|          No|        No|     No|         No|     Up|                 No|                 No|                      No|                     No|                    No|    Ch|        Yes|        NO|\n",
            "|       77076|   92519352|AfricanAmerican|  Male| [50-60)|[75-100)|                1|                       1|                  7|               4|        MC|    InternalMedicine|                45|             4|             17|                0|               0|               0|   410|   411|   414|               8|         Norm|       >8|       No|         No|         No|            No|         No|           No|   Steady|       No|         No|          No|           No|      No|      No|          No|        No|     No|         No| Steady|                 No|                 No|                      No|                     No|                    No|    Ch|        Yes|       <30|\n",
            "|       84222|  108662661|      Caucasian|Female| [50-60)|[75-100)|                1|                       1|                  7|               3|        MC|          Cardiology|                29|             0|             11|                0|               0|               0|   682|   174|   250|               3|         Norm|       >8|       No|         No|         No|            No|         No|           No|       No|   Steady|         No|          No|           No|      No|      No|          No|        No|     No|         No|     No|                 No|                 No|                      No|                     No|                    No|    No|        Yes|        NO|\n",
            "|       89682|  107389323|AfricanAmerican|  Male| [70-80)|[75-100)|                1|                       1|                  7|               5|        MC|    InternalMedicine|                35|             5|             23|                0|               0|               0|   402|   425|   416|               9|         Norm|       >8|       No|         No|         No|            No|         No|           No|       No|       No|         No|          No|           No|      No|      No|          No|        No|     No|         No| Steady|                 No|                 No|                      No|                     No|                    No|    No|        Yes|       >30|\n",
            "|      148530|   69422211|      Caucasian|  Male| [70-80)|[75-100)|                3|                       6|                  2|               6|        MC|    InternalMedicine|                42|             2|             23|                0|               0|               0|   737|   427|   714|               8|         Norm|       >8|       No|         No|         No|            No|         No|           No|       No|     Down|         No|          No|           No|      No|      No|          No|        No|     No|         No| Steady|                 No|                 No|                      No|                     No|                    No|    Ch|        Yes|        NO|\n",
            "+------------+-----------+---------------+------+--------+--------+-----------------+------------------------+-------------------+----------------+----------+--------------------+------------------+--------------+---------------+-----------------+----------------+----------------+------+------+------+----------------+-------------+---------+---------+-----------+-----------+--------------+-----------+-------------+---------+---------+-----------+------------+-------------+--------+--------+------------+----------+-------+-----------+-------+-------------------+-------------------+------------------------+-----------------------+----------------------+------+-----------+----------+\n",
            "only showing top 20 rows\n",
            "\n"
          ]
        }
      ]
    },
    {
      "cell_type": "code",
      "source": [
        "from pyspark.sql.functions import col\n",
        "\n",
        "\n",
        "missing_values = salman.select([col(c).alias(c) for c in salman.columns]).na.drop()\n",
        "\n",
        "\n",
        "missing_counts = [(col, salman.where(salman[col].isNull()).count()) for col in salman.columns]\n",
        "missing_counts = [(col, count) for col, count in missing_counts if count > 0]\n",
        "\n",
        "if len(missing_counts) == 0:\n",
        "    print(\"No missing values in the dataset.\")\n",
        "else:\n",
        "    print(\"Missing values exist in the dataset.\")\n",
        "    for col, count in missing_counts:\n",
        "        print(f\"Column '{col}' has {count} missing values.\")\n"
      ],
      "metadata": {
        "colab": {
          "base_uri": "https://localhost:8080/"
        },
        "id": "H5UveBeAQM5Z",
        "outputId": "28f907d6-b38a-4957-bfd1-e9bffdfd94a5"
      },
      "execution_count": null,
      "outputs": [
        {
          "output_type": "stream",
          "name": "stdout",
          "text": [
            "No missing values in the dataset.\n"
          ]
        }
      ]
    },
    {
      "cell_type": "markdown",
      "source": [
        "# ***No missing values in the dataset.***"
      ],
      "metadata": {
        "id": "LEBLNKLUQXes"
      }
    },
    {
      "cell_type": "code",
      "source": [
        "salman.show()"
      ],
      "metadata": {
        "colab": {
          "base_uri": "https://localhost:8080/"
        },
        "id": "2KvIe6w8Wx4z",
        "outputId": "713020e6-97c1-4d64-8dca-56a0c78d1e5e"
      },
      "execution_count": null,
      "outputs": [
        {
          "output_type": "stream",
          "name": "stdout",
          "text": [
            "+------------+-----------+---------------+------+--------+--------+-----------------+------------------------+-------------------+----------------+----------+--------------------+------------------+--------------+---------------+-----------------+----------------+----------------+------+------+------+----------------+-------------+---------+---------+-----------+-----------+--------------+-----------+-------------+---------+---------+-----------+------------+-------------+--------+--------+------------+----------+-------+-----------+-------+-------------------+-------------------+------------------------+-----------------------+----------------------+------+-----------+----------+\n",
            "|encounter_id|patient_nbr|           race|gender|     age|  weight|admission_type_id|discharge_disposition_id|admission_source_id|time_in_hospital|payer_code|   medical_specialty|num_lab_procedures|num_procedures|num_medications|number_outpatient|number_emergency|number_inpatient|diag_1|diag_2|diag_3|number_diagnoses|max_glu_serum|A1Cresult|metformin|repaglinide|nateglinide|chlorpropamide|glimepiride|acetohexamide|glipizide|glyburide|tolbutamide|pioglitazone|rosiglitazone|acarbose|miglitol|troglitazone|tolazamide|examide|citoglipton|insulin|glyburide-metformin|glipizide-metformin|glimepiride-pioglitazone|metformin-rosiglitazone|metformin-pioglitazone|change|diabetesMed|readmitted|\n",
            "+------------+-----------+---------------+------+--------+--------+-----------------+------------------------+-------------------+----------------+----------+--------------------+------------------+--------------+---------------+-----------------+----------------+----------------+------+------+------+----------------+-------------+---------+---------+-----------+-----------+--------------+-----------+-------------+---------+---------+-----------+------------+-------------+--------+--------+------------+----------+-------+-----------+-------+-------------------+-------------------+------------------------+-----------------------+----------------------+------+-----------+----------+\n",
            "|     2278392|    8222157|      Caucasian|Female|  [0-10)|[75-100)|                6|                      25|                  1|               1|        MC|Pediatrics-Endocr...|                41|             0|              1|                0|               0|               0|250.83|   276|   250|               1|         Norm|       >8|       No|         No|         No|            No|         No|           No|       No|       No|         No|          No|           No|      No|      No|          No|        No|     No|         No|     No|                 No|                 No|                      No|                     No|                    No|    No|         No|        NO|\n",
            "|      149190|   55629189|      Caucasian|Female| [10-20)|[75-100)|                1|                       1|                  7|               3|        MC|    InternalMedicine|                59|             0|             18|                0|               0|               0|   276|250.01|   255|               9|         Norm|       >8|       No|         No|         No|            No|         No|           No|       No|       No|         No|          No|           No|      No|      No|          No|        No|     No|         No|     Up|                 No|                 No|                      No|                     No|                    No|    Ch|        Yes|       >30|\n",
            "|       64410|   86047875|AfricanAmerican|Female| [20-30)|[75-100)|                1|                       1|                  7|               2|        MC|    InternalMedicine|                11|             5|             13|                2|               0|               1|   648|   250|   V27|               6|         Norm|       >8|       No|         No|         No|            No|         No|           No|   Steady|       No|         No|          No|           No|      No|      No|          No|        No|     No|         No|     No|                 No|                 No|                      No|                     No|                    No|    No|        Yes|        NO|\n",
            "|      500364|   82442376|      Caucasian|  Male| [30-40)|[75-100)|                1|                       1|                  7|               2|        MC|    InternalMedicine|                44|             1|             16|                0|               0|               0|     8|250.43|   403|               7|         Norm|       >8|       No|         No|         No|            No|         No|           No|       No|       No|         No|          No|           No|      No|      No|          No|        No|     No|         No|     Up|                 No|                 No|                      No|                     No|                    No|    Ch|        Yes|        NO|\n",
            "|       16680|   42519267|      Caucasian|  Male| [40-50)|[75-100)|                1|                       1|                  7|               1|        MC|    InternalMedicine|                51|             0|              8|                0|               0|               0|   197|   157|   250|               5|         Norm|       >8|       No|         No|         No|            No|         No|           No|   Steady|       No|         No|          No|           No|      No|      No|          No|        No|     No|         No| Steady|                 No|                 No|                      No|                     No|                    No|    Ch|        Yes|        NO|\n",
            "|       35754|   82637451|      Caucasian|  Male| [50-60)|[75-100)|                2|                       1|                  2|               3|        MC|    InternalMedicine|                31|             6|             16|                0|               0|               0|   414|   411|   250|               9|         Norm|       >8|       No|         No|         No|            No|         No|           No|       No|       No|         No|          No|           No|      No|      No|          No|        No|     No|         No| Steady|                 No|                 No|                      No|                     No|                    No|    No|        Yes|       >30|\n",
            "|       55842|   84259809|      Caucasian|  Male| [60-70)|[75-100)|                3|                       1|                  2|               4|        MC|    InternalMedicine|                70|             1|             21|                0|               0|               0|   414|   411|   V45|               7|         Norm|       >8|   Steady|         No|         No|            No|     Steady|           No|       No|       No|         No|          No|           No|      No|      No|          No|        No|     No|         No| Steady|                 No|                 No|                      No|                     No|                    No|    Ch|        Yes|        NO|\n",
            "|       63768|  114882984|      Caucasian|  Male| [70-80)|[75-100)|                1|                       1|                  7|               5|        MC|    InternalMedicine|                73|             0|             12|                0|               0|               0|   428|   492|   250|               8|         Norm|       >8|       No|         No|         No|            No|         No|           No|       No|   Steady|         No|          No|           No|      No|      No|          No|        No|     No|         No|     No|                 No|                 No|                      No|                     No|                    No|    No|        Yes|       >30|\n",
            "|       12522|   48330783|      Caucasian|Female| [80-90)|[75-100)|                2|                       1|                  4|              13|        MC|    InternalMedicine|                68|             2|             28|                0|               0|               0|   398|   427|    38|               8|         Norm|       >8|       No|         No|         No|            No|         No|           No|   Steady|       No|         No|          No|           No|      No|      No|          No|        No|     No|         No| Steady|                 No|                 No|                      No|                     No|                    No|    Ch|        Yes|        NO|\n",
            "|       15738|   63555939|      Caucasian|Female|[90-100)|[75-100)|                3|                       3|                  4|              12|        MC|    InternalMedicine|                33|             3|             18|                0|               0|               0|   434|   198|   486|               8|         Norm|       >8|       No|         No|         No|            No|         No|           No|       No|       No|         No|          No|       Steady|      No|      No|          No|        No|     No|         No| Steady|                 No|                 No|                      No|                     No|                    No|    Ch|        Yes|        NO|\n",
            "|       28236|   89869032|AfricanAmerican|Female| [40-50)|[75-100)|                1|                       1|                  7|               9|        MC|    InternalMedicine|                47|             2|             17|                0|               0|               0| 250.7|   403|   996|               9|         Norm|       >8|       No|         No|         No|            No|         No|           No|       No|       No|         No|          No|           No|      No|      No|          No|        No|     No|         No| Steady|                 No|                 No|                      No|                     No|                    No|    No|        Yes|       >30|\n",
            "|       36900|   77391171|AfricanAmerican|  Male| [60-70)|[75-100)|                2|                       1|                  4|               7|        MC|    InternalMedicine|                62|             0|             11|                0|               0|               0|   157|   288|   197|               7|         Norm|       >8|       No|         No|         No|            No|         No|           No|       No|       Up|         No|          No|           No|      No|      No|          No|        No|     No|         No| Steady|                 No|                 No|                      No|                     No|                    No|    Ch|        Yes|       <30|\n",
            "|       40926|   85504905|      Caucasian|Female| [40-50)|[75-100)|                1|                       3|                  7|               7|        MC|Family/GeneralPra...|                60|             0|             15|                0|               1|               0|   428|250.43| 250.6|               8|         Norm|       >8|   Steady|         Up|         No|            No|         No|           No|       No|       No|         No|          No|           No|      No|      No|          No|        No|     No|         No|   Down|                 No|                 No|                      No|                     No|                    No|    Ch|        Yes|       <30|\n",
            "|       42570|   77586282|      Caucasian|  Male| [80-90)|[75-100)|                1|                       6|                  7|              10|        MC|Family/GeneralPra...|                55|             1|             31|                0|               0|               0|   428|   411|   427|               8|         Norm|       >8|       No|         No|         No|            No|         No|           No|       No|       No|         No|          No|           No|      No|      No|          No|        No|     No|         No| Steady|                 No|                 No|                      No|                     No|                    No|    No|        Yes|        NO|\n",
            "|       62256|   49726791|AfricanAmerican|Female| [60-70)|[75-100)|                3|                       1|                  2|               1|        MC|    InternalMedicine|                49|             5|              2|                0|               0|               0|   518|   998|   627|               8|         Norm|       >8|       No|         No|         No|            No|         No|           No|       No|       No|         No|          No|           No|      No|      No|          No|        No|     No|         No| Steady|                 No|                 No|                      No|                     No|                    No|    No|        Yes|       >30|\n",
            "|       73578|   86328819|AfricanAmerican|  Male| [60-70)|[75-100)|                1|                       3|                  7|              12|        MC|    InternalMedicine|                75|             5|             13|                0|               0|               0|   999|   507|   996|               9|         Norm|       >8|       No|         No|         No|            No|         No|           No|       No|       No|         No|          No|           No|      No|      No|          No|        No|     No|         No|     Up|                 No|                 No|                      No|                     No|                    No|    Ch|        Yes|        NO|\n",
            "|       77076|   92519352|AfricanAmerican|  Male| [50-60)|[75-100)|                1|                       1|                  7|               4|        MC|    InternalMedicine|                45|             4|             17|                0|               0|               0|   410|   411|   414|               8|         Norm|       >8|       No|         No|         No|            No|         No|           No|   Steady|       No|         No|          No|           No|      No|      No|          No|        No|     No|         No| Steady|                 No|                 No|                      No|                     No|                    No|    Ch|        Yes|       <30|\n",
            "|       84222|  108662661|      Caucasian|Female| [50-60)|[75-100)|                1|                       1|                  7|               3|        MC|          Cardiology|                29|             0|             11|                0|               0|               0|   682|   174|   250|               3|         Norm|       >8|       No|         No|         No|            No|         No|           No|       No|   Steady|         No|          No|           No|      No|      No|          No|        No|     No|         No|     No|                 No|                 No|                      No|                     No|                    No|    No|        Yes|        NO|\n",
            "|       89682|  107389323|AfricanAmerican|  Male| [70-80)|[75-100)|                1|                       1|                  7|               5|        MC|    InternalMedicine|                35|             5|             23|                0|               0|               0|   402|   425|   416|               9|         Norm|       >8|       No|         No|         No|            No|         No|           No|       No|       No|         No|          No|           No|      No|      No|          No|        No|     No|         No| Steady|                 No|                 No|                      No|                     No|                    No|    No|        Yes|       >30|\n",
            "|      148530|   69422211|      Caucasian|  Male| [70-80)|[75-100)|                3|                       6|                  2|               6|        MC|    InternalMedicine|                42|             2|             23|                0|               0|               0|   737|   427|   714|               8|         Norm|       >8|       No|         No|         No|            No|         No|           No|       No|     Down|         No|          No|           No|      No|      No|          No|        No|     No|         No| Steady|                 No|                 No|                      No|                     No|                    No|    Ch|        Yes|        NO|\n",
            "+------------+-----------+---------------+------+--------+--------+-----------------+------------------------+-------------------+----------------+----------+--------------------+------------------+--------------+---------------+-----------------+----------------+----------------+------+------+------+----------------+-------------+---------+---------+-----------+-----------+--------------+-----------+-------------+---------+---------+-----------+------------+-------------+--------+--------+------------+----------+-------+-----------+-------+-------------------+-------------------+------------------------+-----------------------+----------------------+------+-----------+----------+\n",
            "only showing top 20 rows\n",
            "\n"
          ]
        }
      ]
    },
    {
      "cell_type": "markdown",
      "source": [
        "# ***Now, handling categorical variables by Label Encoding***"
      ],
      "metadata": {
        "id": "INa1-scKfYra"
      }
    },
    {
      "cell_type": "markdown",
      "source": [
        "# ***Converting the target categorical feature into numerical format using StringIndexer***"
      ],
      "metadata": {
        "id": "aIW2ANLafS80"
      }
    },
    {
      "cell_type": "code",
      "source": [
        "unique_values = salman.select(\"readmitted\").distinct().collect()\n",
        "\n",
        "for row in unique_values:\n",
        "    print(row['readmitted'])"
      ],
      "metadata": {
        "colab": {
          "base_uri": "https://localhost:8080/"
        },
        "id": "a83iZqh9H6ue",
        "outputId": "6a106138-8fcf-4252-e34c-6bc156c40869"
      },
      "execution_count": null,
      "outputs": [
        {
          "output_type": "stream",
          "name": "stdout",
          "text": [
            ">30\n",
            "NO\n",
            "<30\n"
          ]
        }
      ]
    },
    {
      "cell_type": "code",
      "source": [
        "from pyspark.ml.feature import StringIndexer\n",
        "from pyspark.ml import Pipeline\n",
        "\n",
        "\n",
        "indexer = StringIndexer(inputCol='readmitted', outputCol='label')\n",
        "\n",
        "pipeline = Pipeline(stages=[indexer])\n",
        "\n",
        "model = pipeline.fit(salman)\n",
        "salman = model.transform(salman)\n",
        "\n",
        "salman = salman.drop('readmitted')\n",
        "\n",
        "salman = salman.withColumnRenamed('label', 'readmitted')\n",
        "\n",
        "salman.show()"
      ],
      "metadata": {
        "id": "TrJWlnsuazXL",
        "colab": {
          "base_uri": "https://localhost:8080/"
        },
        "outputId": "83f3682e-11ec-4084-b20f-cf5243aabcd8"
      },
      "execution_count": null,
      "outputs": [
        {
          "output_type": "stream",
          "name": "stdout",
          "text": [
            "+------------+-----------+---------------+------+--------+--------+-----------------+------------------------+-------------------+----------------+----------+--------------------+------------------+--------------+---------------+-----------------+----------------+----------------+------+------+------+----------------+-------------+---------+---------+-----------+-----------+--------------+-----------+-------------+---------+---------+-----------+------------+-------------+--------+--------+------------+----------+-------+-----------+-------+-------------------+-------------------+------------------------+-----------------------+----------------------+------+-----------+----------+\n",
            "|encounter_id|patient_nbr|           race|gender|     age|  weight|admission_type_id|discharge_disposition_id|admission_source_id|time_in_hospital|payer_code|   medical_specialty|num_lab_procedures|num_procedures|num_medications|number_outpatient|number_emergency|number_inpatient|diag_1|diag_2|diag_3|number_diagnoses|max_glu_serum|A1Cresult|metformin|repaglinide|nateglinide|chlorpropamide|glimepiride|acetohexamide|glipizide|glyburide|tolbutamide|pioglitazone|rosiglitazone|acarbose|miglitol|troglitazone|tolazamide|examide|citoglipton|insulin|glyburide-metformin|glipizide-metformin|glimepiride-pioglitazone|metformin-rosiglitazone|metformin-pioglitazone|change|diabetesMed|readmitted|\n",
            "+------------+-----------+---------------+------+--------+--------+-----------------+------------------------+-------------------+----------------+----------+--------------------+------------------+--------------+---------------+-----------------+----------------+----------------+------+------+------+----------------+-------------+---------+---------+-----------+-----------+--------------+-----------+-------------+---------+---------+-----------+------------+-------------+--------+--------+------------+----------+-------+-----------+-------+-------------------+-------------------+------------------------+-----------------------+----------------------+------+-----------+----------+\n",
            "|     2278392|    8222157|      Caucasian|Female|  [0-10)|[75-100)|                6|                      25|                  1|               1|        MC|Pediatrics-Endocr...|                41|             0|              1|                0|               0|               0|250.83|   276|   250|               1|         Norm|       >8|       No|         No|         No|            No|         No|           No|       No|       No|         No|          No|           No|      No|      No|          No|        No|     No|         No|     No|                 No|                 No|                      No|                     No|                    No|    No|         No|       0.0|\n",
            "|      149190|   55629189|      Caucasian|Female| [10-20)|[75-100)|                1|                       1|                  7|               3|        MC|    InternalMedicine|                59|             0|             18|                0|               0|               0|   276|250.01|   255|               9|         Norm|       >8|       No|         No|         No|            No|         No|           No|       No|       No|         No|          No|           No|      No|      No|          No|        No|     No|         No|     Up|                 No|                 No|                      No|                     No|                    No|    Ch|        Yes|       1.0|\n",
            "|       64410|   86047875|AfricanAmerican|Female| [20-30)|[75-100)|                1|                       1|                  7|               2|        MC|    InternalMedicine|                11|             5|             13|                2|               0|               1|   648|   250|   V27|               6|         Norm|       >8|       No|         No|         No|            No|         No|           No|   Steady|       No|         No|          No|           No|      No|      No|          No|        No|     No|         No|     No|                 No|                 No|                      No|                     No|                    No|    No|        Yes|       0.0|\n",
            "|      500364|   82442376|      Caucasian|  Male| [30-40)|[75-100)|                1|                       1|                  7|               2|        MC|    InternalMedicine|                44|             1|             16|                0|               0|               0|     8|250.43|   403|               7|         Norm|       >8|       No|         No|         No|            No|         No|           No|       No|       No|         No|          No|           No|      No|      No|          No|        No|     No|         No|     Up|                 No|                 No|                      No|                     No|                    No|    Ch|        Yes|       0.0|\n",
            "|       16680|   42519267|      Caucasian|  Male| [40-50)|[75-100)|                1|                       1|                  7|               1|        MC|    InternalMedicine|                51|             0|              8|                0|               0|               0|   197|   157|   250|               5|         Norm|       >8|       No|         No|         No|            No|         No|           No|   Steady|       No|         No|          No|           No|      No|      No|          No|        No|     No|         No| Steady|                 No|                 No|                      No|                     No|                    No|    Ch|        Yes|       0.0|\n",
            "|       35754|   82637451|      Caucasian|  Male| [50-60)|[75-100)|                2|                       1|                  2|               3|        MC|    InternalMedicine|                31|             6|             16|                0|               0|               0|   414|   411|   250|               9|         Norm|       >8|       No|         No|         No|            No|         No|           No|       No|       No|         No|          No|           No|      No|      No|          No|        No|     No|         No| Steady|                 No|                 No|                      No|                     No|                    No|    No|        Yes|       1.0|\n",
            "|       55842|   84259809|      Caucasian|  Male| [60-70)|[75-100)|                3|                       1|                  2|               4|        MC|    InternalMedicine|                70|             1|             21|                0|               0|               0|   414|   411|   V45|               7|         Norm|       >8|   Steady|         No|         No|            No|     Steady|           No|       No|       No|         No|          No|           No|      No|      No|          No|        No|     No|         No| Steady|                 No|                 No|                      No|                     No|                    No|    Ch|        Yes|       0.0|\n",
            "|       63768|  114882984|      Caucasian|  Male| [70-80)|[75-100)|                1|                       1|                  7|               5|        MC|    InternalMedicine|                73|             0|             12|                0|               0|               0|   428|   492|   250|               8|         Norm|       >8|       No|         No|         No|            No|         No|           No|       No|   Steady|         No|          No|           No|      No|      No|          No|        No|     No|         No|     No|                 No|                 No|                      No|                     No|                    No|    No|        Yes|       1.0|\n",
            "|       12522|   48330783|      Caucasian|Female| [80-90)|[75-100)|                2|                       1|                  4|              13|        MC|    InternalMedicine|                68|             2|             28|                0|               0|               0|   398|   427|    38|               8|         Norm|       >8|       No|         No|         No|            No|         No|           No|   Steady|       No|         No|          No|           No|      No|      No|          No|        No|     No|         No| Steady|                 No|                 No|                      No|                     No|                    No|    Ch|        Yes|       0.0|\n",
            "|       15738|   63555939|      Caucasian|Female|[90-100)|[75-100)|                3|                       3|                  4|              12|        MC|    InternalMedicine|                33|             3|             18|                0|               0|               0|   434|   198|   486|               8|         Norm|       >8|       No|         No|         No|            No|         No|           No|       No|       No|         No|          No|       Steady|      No|      No|          No|        No|     No|         No| Steady|                 No|                 No|                      No|                     No|                    No|    Ch|        Yes|       0.0|\n",
            "|       28236|   89869032|AfricanAmerican|Female| [40-50)|[75-100)|                1|                       1|                  7|               9|        MC|    InternalMedicine|                47|             2|             17|                0|               0|               0| 250.7|   403|   996|               9|         Norm|       >8|       No|         No|         No|            No|         No|           No|       No|       No|         No|          No|           No|      No|      No|          No|        No|     No|         No| Steady|                 No|                 No|                      No|                     No|                    No|    No|        Yes|       1.0|\n",
            "|       36900|   77391171|AfricanAmerican|  Male| [60-70)|[75-100)|                2|                       1|                  4|               7|        MC|    InternalMedicine|                62|             0|             11|                0|               0|               0|   157|   288|   197|               7|         Norm|       >8|       No|         No|         No|            No|         No|           No|       No|       Up|         No|          No|           No|      No|      No|          No|        No|     No|         No| Steady|                 No|                 No|                      No|                     No|                    No|    Ch|        Yes|       2.0|\n",
            "|       40926|   85504905|      Caucasian|Female| [40-50)|[75-100)|                1|                       3|                  7|               7|        MC|Family/GeneralPra...|                60|             0|             15|                0|               1|               0|   428|250.43| 250.6|               8|         Norm|       >8|   Steady|         Up|         No|            No|         No|           No|       No|       No|         No|          No|           No|      No|      No|          No|        No|     No|         No|   Down|                 No|                 No|                      No|                     No|                    No|    Ch|        Yes|       2.0|\n",
            "|       42570|   77586282|      Caucasian|  Male| [80-90)|[75-100)|                1|                       6|                  7|              10|        MC|Family/GeneralPra...|                55|             1|             31|                0|               0|               0|   428|   411|   427|               8|         Norm|       >8|       No|         No|         No|            No|         No|           No|       No|       No|         No|          No|           No|      No|      No|          No|        No|     No|         No| Steady|                 No|                 No|                      No|                     No|                    No|    No|        Yes|       0.0|\n",
            "|       62256|   49726791|AfricanAmerican|Female| [60-70)|[75-100)|                3|                       1|                  2|               1|        MC|    InternalMedicine|                49|             5|              2|                0|               0|               0|   518|   998|   627|               8|         Norm|       >8|       No|         No|         No|            No|         No|           No|       No|       No|         No|          No|           No|      No|      No|          No|        No|     No|         No| Steady|                 No|                 No|                      No|                     No|                    No|    No|        Yes|       1.0|\n",
            "|       73578|   86328819|AfricanAmerican|  Male| [60-70)|[75-100)|                1|                       3|                  7|              12|        MC|    InternalMedicine|                75|             5|             13|                0|               0|               0|   999|   507|   996|               9|         Norm|       >8|       No|         No|         No|            No|         No|           No|       No|       No|         No|          No|           No|      No|      No|          No|        No|     No|         No|     Up|                 No|                 No|                      No|                     No|                    No|    Ch|        Yes|       0.0|\n",
            "|       77076|   92519352|AfricanAmerican|  Male| [50-60)|[75-100)|                1|                       1|                  7|               4|        MC|    InternalMedicine|                45|             4|             17|                0|               0|               0|   410|   411|   414|               8|         Norm|       >8|       No|         No|         No|            No|         No|           No|   Steady|       No|         No|          No|           No|      No|      No|          No|        No|     No|         No| Steady|                 No|                 No|                      No|                     No|                    No|    Ch|        Yes|       2.0|\n",
            "|       84222|  108662661|      Caucasian|Female| [50-60)|[75-100)|                1|                       1|                  7|               3|        MC|          Cardiology|                29|             0|             11|                0|               0|               0|   682|   174|   250|               3|         Norm|       >8|       No|         No|         No|            No|         No|           No|       No|   Steady|         No|          No|           No|      No|      No|          No|        No|     No|         No|     No|                 No|                 No|                      No|                     No|                    No|    No|        Yes|       0.0|\n",
            "|       89682|  107389323|AfricanAmerican|  Male| [70-80)|[75-100)|                1|                       1|                  7|               5|        MC|    InternalMedicine|                35|             5|             23|                0|               0|               0|   402|   425|   416|               9|         Norm|       >8|       No|         No|         No|            No|         No|           No|       No|       No|         No|          No|           No|      No|      No|          No|        No|     No|         No| Steady|                 No|                 No|                      No|                     No|                    No|    No|        Yes|       1.0|\n",
            "|      148530|   69422211|      Caucasian|  Male| [70-80)|[75-100)|                3|                       6|                  2|               6|        MC|    InternalMedicine|                42|             2|             23|                0|               0|               0|   737|   427|   714|               8|         Norm|       >8|       No|         No|         No|            No|         No|           No|       No|     Down|         No|          No|           No|      No|      No|          No|        No|     No|         No| Steady|                 No|                 No|                      No|                     No|                    No|    Ch|        Yes|       0.0|\n",
            "+------------+-----------+---------------+------+--------+--------+-----------------+------------------------+-------------------+----------------+----------+--------------------+------------------+--------------+---------------+-----------------+----------------+----------------+------+------+------+----------------+-------------+---------+---------+-----------+-----------+--------------+-----------+-------------+---------+---------+-----------+------------+-------------+--------+--------+------------+----------+-------+-----------+-------+-------------------+-------------------+------------------------+-----------------------+----------------------+------+-----------+----------+\n",
            "only showing top 20 rows\n",
            "\n"
          ]
        }
      ]
    },
    {
      "cell_type": "code",
      "source": [
        "unique_values = salman.select(\"readmitted\").distinct().collect()\n",
        "\n",
        "for row in unique_values:\n",
        "    print(row['readmitted'])"
      ],
      "metadata": {
        "colab": {
          "base_uri": "https://localhost:8080/"
        },
        "id": "-U8En-CRIWui",
        "outputId": "696c6c9b-11de-4596-be90-01ce50a29410"
      },
      "execution_count": null,
      "outputs": [
        {
          "output_type": "stream",
          "name": "stdout",
          "text": [
            "0.0\n",
            "1.0\n",
            "2.0\n"
          ]
        }
      ]
    },
    {
      "cell_type": "markdown",
      "source": [
        "# ***Converting the independent categorical feature into numerical format using StringIndexer***"
      ],
      "metadata": {
        "id": "hN0gDxLvuQSW"
      }
    },
    {
      "cell_type": "code",
      "source": [
        "from pyspark.ml.feature import StringIndexer\n",
        "from pyspark.ml import Pipeline\n",
        "\n",
        "\n",
        "categorical_cols = [col_name for col_name, data_type in salman.dtypes if data_type == \"string\"]"
      ],
      "metadata": {
        "id": "lQGyb5WjNE13"
      },
      "execution_count": null,
      "outputs": []
    },
    {
      "cell_type": "code",
      "source": [
        "indexers = [StringIndexer(inputCol=col, outputCol=col + \"_index\", handleInvalid=\"keep\") for col in categorical_cols]\n",
        "\n",
        "\n",
        "pipeline = Pipeline(stages=indexers)\n",
        "\n",
        "\n",
        "salman = pipeline.fit(salman).transform(salman)\n"
      ],
      "metadata": {
        "id": "16CndYAJLANq"
      },
      "execution_count": null,
      "outputs": []
    },
    {
      "cell_type": "code",
      "source": [
        "salman.show()"
      ],
      "metadata": {
        "colab": {
          "base_uri": "https://localhost:8080/"
        },
        "id": "KUsR2kUUNhJD",
        "outputId": "5404a604-4a2f-4cde-b809-81a7d45cfdf8"
      },
      "execution_count": null,
      "outputs": [
        {
          "output_type": "stream",
          "name": "stdout",
          "text": [
            "+------------+-----------+---------------+------+--------+--------+-----------------+------------------------+-------------------+----------------+----------+--------------------+------------------+--------------+---------------+-----------------+----------------+----------------+------+------+------+----------------+-------------+---------+---------+-----------+-----------+--------------+-----------+-------------+---------+---------+-----------+------------+-------------+--------+--------+------------+----------+-------+-----------+-------+-------------------+-------------------+------------------------+-----------------------+----------------------+------+-----------+----------+----------+------------+---------+------------+----------------+-----------------------+------------+------------+------------+-------------------+---------------+---------------+-----------------+-----------------+--------------------+-----------------+-------------------+---------------+---------------+-----------------+------------------+-------------------+--------------+--------------+------------------+----------------+-------------+-----------------+-------------+-------------------------+-------------------------+------------------------------+-----------------------------+----------------------------+------------+-----------------+\n",
            "|encounter_id|patient_nbr|           race|gender|     age|  weight|admission_type_id|discharge_disposition_id|admission_source_id|time_in_hospital|payer_code|   medical_specialty|num_lab_procedures|num_procedures|num_medications|number_outpatient|number_emergency|number_inpatient|diag_1|diag_2|diag_3|number_diagnoses|max_glu_serum|A1Cresult|metformin|repaglinide|nateglinide|chlorpropamide|glimepiride|acetohexamide|glipizide|glyburide|tolbutamide|pioglitazone|rosiglitazone|acarbose|miglitol|troglitazone|tolazamide|examide|citoglipton|insulin|glyburide-metformin|glipizide-metformin|glimepiride-pioglitazone|metformin-rosiglitazone|metformin-pioglitazone|change|diabetesMed|readmitted|race_index|gender_index|age_index|weight_index|payer_code_index|medical_specialty_index|diag_1_index|diag_2_index|diag_3_index|max_glu_serum_index|A1Cresult_index|metformin_index|repaglinide_index|nateglinide_index|chlorpropamide_index|glimepiride_index|acetohexamide_index|glipizide_index|glyburide_index|tolbutamide_index|pioglitazone_index|rosiglitazone_index|acarbose_index|miglitol_index|troglitazone_index|tolazamide_index|examide_index|citoglipton_index|insulin_index|glyburide-metformin_index|glipizide-metformin_index|glimepiride-pioglitazone_index|metformin-rosiglitazone_index|metformin-pioglitazone_index|change_index|diabetesMed_index|\n",
            "+------------+-----------+---------------+------+--------+--------+-----------------+------------------------+-------------------+----------------+----------+--------------------+------------------+--------------+---------------+-----------------+----------------+----------------+------+------+------+----------------+-------------+---------+---------+-----------+-----------+--------------+-----------+-------------+---------+---------+-----------+------------+-------------+--------+--------+------------+----------+-------+-----------+-------+-------------------+-------------------+------------------------+-----------------------+----------------------+------+-----------+----------+----------+------------+---------+------------+----------------+-----------------------+------------+------------+------------+-------------------+---------------+---------------+-----------------+-----------------+--------------------+-----------------+-------------------+---------------+---------------+-----------------+------------------+-------------------+--------------+--------------+------------------+----------------+-------------+-----------------+-------------+-------------------------+-------------------------+------------------------------+-----------------------------+----------------------------+------------+-----------------+\n",
            "|     2278392|    8222157|      Caucasian|Female|  [0-10)|[75-100)|                6|                      25|                  1|               1|        MC|Pediatrics-Endocr...|                41|             0|              1|                0|               0|               0|250.83|   276|   250|               1|         Norm|       >8|       No|         No|         No|            No|         No|           No|       No|       No|         No|          No|           No|      No|      No|          No|        No|     No|         No|     No|                 No|                 No|                      No|                     No|                    No|    No|         No|       0.0|       0.0|         0.0|      9.0|         0.0|             0.0|                   22.0|       141.0|         0.0|         0.0|                0.0|            0.0|            0.0|              0.0|              0.0|                 0.0|              0.0|                0.0|            0.0|            0.0|              0.0|               0.0|                0.0|           0.0|           0.0|               0.0|             0.0|          0.0|              0.0|          0.0|                      0.0|                      0.0|                           0.0|                          0.0|                         0.0|         0.0|              1.0|\n",
            "|      149190|   55629189|      Caucasian|Female| [10-20)|[75-100)|                1|                       1|                  7|               3|        MC|    InternalMedicine|                59|             0|             18|                0|               0|               0|   276|250.01|   255|               9|         Norm|       >8|       No|         No|         No|            No|         No|           No|       No|       No|         No|          No|           No|      No|      No|          No|        No|     No|         No|     Up|                 No|                 No|                      No|                     No|                    No|    Ch|        Yes|       1.0|       0.0|         0.0|      8.0|         0.0|             0.0|                    0.0|        12.0|        15.0|       162.0|                0.0|            0.0|            0.0|              0.0|              0.0|                 0.0|              0.0|                0.0|            0.0|            0.0|              0.0|               0.0|                0.0|           0.0|           0.0|               0.0|             0.0|          0.0|              0.0|          3.0|                      0.0|                      0.0|                           0.0|                          0.0|                         0.0|         1.0|              0.0|\n",
            "|       64410|   86047875|AfricanAmerican|Female| [20-30)|[75-100)|                1|                       1|                  7|               2|        MC|    InternalMedicine|                11|             5|             13|                2|               0|               1|   648|   250|   V27|               6|         Norm|       >8|       No|         No|         No|            No|         No|           No|   Steady|       No|         No|          No|           No|      No|      No|          No|        No|     No|         No|     No|                 No|                 No|                      No|                     No|                    No|    No|        Yes|       0.0|       1.0|         0.0|      7.0|         0.0|             0.0|                    0.0|        68.0|         2.0|       222.0|                0.0|            0.0|            0.0|              0.0|              0.0|                 0.0|              0.0|                0.0|            1.0|            0.0|              0.0|               0.0|                0.0|           0.0|           0.0|               0.0|             0.0|          0.0|              0.0|          0.0|                      0.0|                      0.0|                           0.0|                          0.0|                         0.0|         0.0|              0.0|\n",
            "|      500364|   82442376|      Caucasian|  Male| [30-40)|[75-100)|                1|                       1|                  7|               2|        MC|    InternalMedicine|                44|             1|             16|                0|               0|               0|     8|250.43|   403|               7|         Norm|       >8|       No|         No|         No|            No|         No|           No|       No|       No|         No|          No|           No|      No|      No|          No|        No|     No|         No|     Up|                 No|                 No|                      No|                     No|                    No|    Ch|        Yes|       0.0|       0.0|         1.0|      5.0|         0.0|             0.0|                    0.0|        41.0|       220.0|         7.0|                0.0|            0.0|            0.0|              0.0|              0.0|                 0.0|              0.0|                0.0|            0.0|            0.0|              0.0|               0.0|                0.0|           0.0|           0.0|               0.0|             0.0|          0.0|              0.0|          3.0|                      0.0|                      0.0|                           0.0|                          0.0|                         0.0|         1.0|              0.0|\n",
            "|       16680|   42519267|      Caucasian|  Male| [40-50)|[75-100)|                1|                       1|                  7|               1|        MC|    InternalMedicine|                51|             0|              8|                0|               0|               0|   197|   157|   250|               5|         Norm|       >8|       No|         No|         No|            No|         No|           No|   Steady|       No|         No|          No|           No|      No|      No|          No|        No|     No|         No| Steady|                 No|                 No|                      No|                     No|                    No|    Ch|        Yes|       0.0|       0.0|         1.0|      4.0|         0.0|             0.0|                    0.0|        61.0|       142.0|         0.0|                0.0|            0.0|            0.0|              0.0|              0.0|                 0.0|              0.0|                0.0|            1.0|            0.0|              0.0|               0.0|                0.0|           0.0|           0.0|               0.0|             0.0|          0.0|              0.0|          1.0|                      0.0|                      0.0|                           0.0|                          0.0|                         0.0|         1.0|              0.0|\n",
            "|       35754|   82637451|      Caucasian|  Male| [50-60)|[75-100)|                2|                       1|                  2|               3|        MC|    InternalMedicine|                31|             6|             16|                0|               0|               0|   414|   411|   250|               9|         Norm|       >8|       No|         No|         No|            No|         No|           No|       No|       No|         No|          No|           No|      No|      No|          No|        No|     No|         No| Steady|                 No|                 No|                      No|                     No|                    No|    No|        Yes|       1.0|       0.0|         1.0|      2.0|         0.0|             0.0|                    0.0|         1.0|         9.0|         0.0|                0.0|            0.0|            0.0|              0.0|              0.0|                 0.0|              0.0|                0.0|            0.0|            0.0|              0.0|               0.0|                0.0|           0.0|           0.0|               0.0|             0.0|          0.0|              0.0|          1.0|                      0.0|                      0.0|                           0.0|                          0.0|                         0.0|         0.0|              0.0|\n",
            "|       55842|   84259809|      Caucasian|  Male| [60-70)|[75-100)|                3|                       1|                  2|               4|        MC|    InternalMedicine|                70|             1|             21|                0|               0|               0|   414|   411|   V45|               7|         Norm|       >8|   Steady|         No|         No|            No|     Steady|           No|       No|       No|         No|          No|           No|      No|      No|          No|        No|     No|         No| Steady|                 No|                 No|                      No|                     No|                    No|    Ch|        Yes|       0.0|       0.0|         1.0|      1.0|         0.0|             0.0|                    0.0|         1.0|         9.0|        11.0|                0.0|            0.0|            1.0|              0.0|              0.0|                 0.0|              1.0|                0.0|            0.0|            0.0|              0.0|               0.0|                0.0|           0.0|           0.0|               0.0|             0.0|          0.0|              0.0|          1.0|                      0.0|                      0.0|                           0.0|                          0.0|                         0.0|         1.0|              0.0|\n",
            "|       63768|  114882984|      Caucasian|  Male| [70-80)|[75-100)|                1|                       1|                  7|               5|        MC|    InternalMedicine|                73|             0|             12|                0|               0|               0|   428|   492|   250|               8|         Norm|       >8|       No|         No|         No|            No|         No|           No|       No|   Steady|         No|          No|           No|      No|      No|          No|        No|     No|         No|     No|                 No|                 No|                      No|                     No|                    No|    No|        Yes|       1.0|       0.0|         1.0|      0.0|         0.0|             0.0|                    0.0|         0.0|        69.0|         0.0|                0.0|            0.0|            0.0|              0.0|              0.0|                 0.0|              0.0|                0.0|            0.0|            1.0|              0.0|               0.0|                0.0|           0.0|           0.0|               0.0|             0.0|          0.0|              0.0|          0.0|                      0.0|                      0.0|                           0.0|                          0.0|                         0.0|         0.0|              0.0|\n",
            "|       12522|   48330783|      Caucasian|Female| [80-90)|[75-100)|                2|                       1|                  4|              13|        MC|    InternalMedicine|                68|             2|             28|                0|               0|               0|   398|   427|    38|               8|         Norm|       >8|       No|         No|         No|            No|         No|           No|   Steady|       No|         No|          No|           No|      No|      No|          No|        No|     No|         No| Steady|                 No|                 No|                      No|                     No|                    No|    Ch|        Yes|       0.0|       0.0|         0.0|      3.0|         0.0|             0.0|                    0.0|       113.0|         3.0|        97.0|                0.0|            0.0|            0.0|              0.0|              0.0|                 0.0|              0.0|                0.0|            1.0|            0.0|              0.0|               0.0|                0.0|           0.0|           0.0|               0.0|             0.0|          0.0|              0.0|          1.0|                      0.0|                      0.0|                           0.0|                          0.0|                         0.0|         1.0|              0.0|\n",
            "|       15738|   63555939|      Caucasian|Female|[90-100)|[75-100)|                3|                       3|                  4|              12|        MC|    InternalMedicine|                33|             3|             18|                0|               0|               0|   434|   198|   486|               8|         Norm|       >8|       No|         No|         No|            No|         No|           No|       No|       No|         No|          No|       Steady|      No|      No|          No|        No|     No|         No| Steady|                 No|                 No|                      No|                     No|                    No|    Ch|        Yes|       0.0|       0.0|         0.0|      6.0|         0.0|             0.0|                    0.0|         9.0|        53.0|        30.0|                0.0|            0.0|            0.0|              0.0|              0.0|                 0.0|              0.0|                0.0|            0.0|            0.0|              0.0|               0.0|                1.0|           0.0|           0.0|               0.0|             0.0|          0.0|              0.0|          1.0|                      0.0|                      0.0|                           0.0|                          0.0|                         0.0|         1.0|              0.0|\n",
            "|       28236|   89869032|AfricanAmerican|Female| [40-50)|[75-100)|                1|                       1|                  7|               9|        MC|    InternalMedicine|                47|             2|             17|                0|               0|               0| 250.7|   403|   996|               9|         Norm|       >8|       No|         No|         No|            No|         No|           No|       No|       No|         No|          No|           No|      No|      No|          No|        No|     No|         No| Steady|                 No|                 No|                      No|                     No|                    No|    No|        Yes|       1.0|       1.0|         0.0|      4.0|         0.0|             0.0|                    0.0|        28.0|         7.0|        62.0|                0.0|            0.0|            0.0|              0.0|              0.0|                 0.0|              0.0|                0.0|            0.0|            0.0|              0.0|               0.0|                0.0|           0.0|           0.0|               0.0|             0.0|          0.0|              0.0|          1.0|                      0.0|                      0.0|                           0.0|                          0.0|                         0.0|         0.0|              0.0|\n",
            "|       36900|   77391171|AfricanAmerican|  Male| [60-70)|[75-100)|                2|                       1|                  4|               7|        MC|    InternalMedicine|                62|             0|             11|                0|               0|               0|   157|   288|   197|               7|         Norm|       >8|       No|         No|         No|            No|         No|           No|       No|       Up|         No|          No|           No|      No|      No|          No|        No|     No|         No| Steady|                 No|                 No|                      No|                     No|                    No|    Ch|        Yes|       2.0|       1.0|         1.0|      1.0|         0.0|             0.0|                    0.0|       121.0|       159.0|        39.0|                0.0|            0.0|            0.0|              0.0|              0.0|                 0.0|              0.0|                0.0|            0.0|            2.0|              0.0|               0.0|                0.0|           0.0|           0.0|               0.0|             0.0|          0.0|              0.0|          1.0|                      0.0|                      0.0|                           0.0|                          0.0|                         0.0|         1.0|              0.0|\n",
            "|       40926|   85504905|      Caucasian|Female| [40-50)|[75-100)|                1|                       3|                  7|               7|        MC|Family/GeneralPra...|                60|             0|             15|                0|               1|               0|   428|250.43| 250.6|               8|         Norm|       >8|   Steady|         Up|         No|            No|         No|           No|       No|       No|         No|          No|           No|      No|      No|          No|        No|     No|         No|   Down|                 No|                 No|                      No|                     No|                    No|    Ch|        Yes|       2.0|       0.0|         0.0|      4.0|         0.0|             0.0|                    2.0|         0.0|       220.0|        17.0|                0.0|            0.0|            1.0|              2.0|              0.0|                 0.0|              0.0|                0.0|            0.0|            0.0|              0.0|               0.0|                0.0|           0.0|           0.0|               0.0|             0.0|          0.0|              0.0|          2.0|                      0.0|                      0.0|                           0.0|                          0.0|                         0.0|         1.0|              0.0|\n",
            "|       42570|   77586282|      Caucasian|  Male| [80-90)|[75-100)|                1|                       6|                  7|              10|        MC|Family/GeneralPra...|                55|             1|             31|                0|               0|               0|   428|   411|   427|               8|         Norm|       >8|       No|         No|         No|            No|         No|           No|       No|       No|         No|          No|           No|      No|      No|          No|        No|     No|         No| Steady|                 No|                 No|                      No|                     No|                    No|    No|        Yes|       0.0|       0.0|         1.0|      3.0|         0.0|             0.0|                    2.0|         0.0|         9.0|         4.0|                0.0|            0.0|            0.0|              0.0|              0.0|                 0.0|              0.0|                0.0|            0.0|            0.0|              0.0|               0.0|                0.0|           0.0|           0.0|               0.0|             0.0|          0.0|              0.0|          1.0|                      0.0|                      0.0|                           0.0|                          0.0|                         0.0|         0.0|              0.0|\n",
            "|       62256|   49726791|AfricanAmerican|Female| [60-70)|[75-100)|                3|                       1|                  2|               1|        MC|    InternalMedicine|                49|             5|              2|                0|               0|               0|   518|   998|   627|               8|         Norm|       >8|       No|         No|         No|            No|         No|           No|       No|       No|         No|          No|           No|      No|      No|          No|        No|     No|         No| Steady|                 No|                 No|                      No|                     No|                    No|    No|        Yes|       1.0|       1.0|         0.0|      1.0|         0.0|             0.0|                    0.0|        19.0|        29.0|       312.0|                0.0|            0.0|            0.0|              0.0|              0.0|                 0.0|              0.0|                0.0|            0.0|            0.0|              0.0|               0.0|                0.0|           0.0|           0.0|               0.0|             0.0|          0.0|              0.0|          1.0|                      0.0|                      0.0|                           0.0|                          0.0|                         0.0|         0.0|              0.0|\n",
            "|       73578|   86328819|AfricanAmerican|  Male| [60-70)|[75-100)|                1|                       3|                  7|              12|        MC|    InternalMedicine|                75|             5|             13|                0|               0|               0|   999|   507|   996|               9|         Norm|       >8|       No|         No|         No|            No|         No|           No|       No|       No|         No|          No|           No|      No|      No|          No|        No|     No|         No|     Up|                 No|                 No|                      No|                     No|                    No|    Ch|        Yes|       0.0|       1.0|         1.0|      1.0|         0.0|             0.0|                    0.0|       266.0|        78.0|        62.0|                0.0|            0.0|            0.0|              0.0|              0.0|                 0.0|              0.0|                0.0|            0.0|            0.0|              0.0|               0.0|                0.0|           0.0|           0.0|               0.0|             0.0|          0.0|              0.0|          3.0|                      0.0|                      0.0|                           0.0|                          0.0|                         0.0|         1.0|              0.0|\n",
            "|       77076|   92519352|AfricanAmerican|  Male| [50-60)|[75-100)|                1|                       1|                  7|               4|        MC|    InternalMedicine|                45|             4|             17|                0|               0|               0|   410|   411|   414|               8|         Norm|       >8|       No|         No|         No|            No|         No|           No|   Steady|       No|         No|          No|           No|      No|      No|          No|        No|     No|         No| Steady|                 No|                 No|                      No|                     No|                    No|    Ch|        Yes|       2.0|       1.0|         1.0|      2.0|         0.0|             0.0|                    0.0|         3.0|         9.0|         5.0|                0.0|            0.0|            0.0|              0.0|              0.0|                 0.0|              0.0|                0.0|            1.0|            0.0|              0.0|               0.0|                0.0|           0.0|           0.0|               0.0|             0.0|          0.0|              0.0|          1.0|                      0.0|                      0.0|                           0.0|                          0.0|                         0.0|         1.0|              0.0|\n",
            "|       84222|  108662661|      Caucasian|Female| [50-60)|[75-100)|                1|                       1|                  7|               3|        MC|          Cardiology|                29|             0|             11|                0|               0|               0|   682|   174|   250|               3|         Norm|       >8|       No|         No|         No|            No|         No|           No|       No|   Steady|         No|          No|           No|      No|      No|          No|        No|     No|         No|     No|                 No|                 No|                      No|                     No|                    No|    No|        Yes|       0.0|       0.0|         0.0|      2.0|         0.0|             0.0|                    3.0|         8.0|       244.0|         0.0|                0.0|            0.0|            0.0|              0.0|              0.0|                 0.0|              0.0|                0.0|            0.0|            1.0|              0.0|               0.0|                0.0|           0.0|           0.0|               0.0|             0.0|          0.0|              0.0|          0.0|                      0.0|                      0.0|                           0.0|                          0.0|                         0.0|         0.0|              0.0|\n",
            "|       89682|  107389323|AfricanAmerican|  Male| [70-80)|[75-100)|                1|                       1|                  7|               5|        MC|    InternalMedicine|                35|             5|             23|                0|               0|               0|   402|   425|   416|               9|         Norm|       >8|       No|         No|         No|            No|         No|           No|       No|       No|         No|          No|           No|      No|      No|          No|        No|     No|         No| Steady|                 No|                 No|                      No|                     No|                    No|    No|        Yes|       1.0|       1.0|         1.0|      0.0|         0.0|             0.0|                    0.0|        44.0|        18.0|        93.0|                0.0|            0.0|            0.0|              0.0|              0.0|                 0.0|              0.0|                0.0|            0.0|            0.0|              0.0|               0.0|                0.0|           0.0|           0.0|               0.0|             0.0|          0.0|              0.0|          1.0|                      0.0|                      0.0|                           0.0|                          0.0|                         0.0|         0.0|              0.0|\n",
            "|      148530|   69422211|      Caucasian|  Male| [70-80)|[75-100)|                3|                       6|                  2|               6|        MC|    InternalMedicine|                42|             2|             23|                0|               0|               0|   737|   427|   714|               8|         Norm|       >8|       No|         No|         No|            No|         No|           No|       No|     Down|         No|          No|           No|      No|      No|          No|        No|     No|         No| Steady|                 No|                 No|                      No|                     No|                    No|    Ch|        Yes|       0.0|       0.0|         1.0|      0.0|         0.0|             0.0|                    0.0|       423.0|         3.0|       150.0|                0.0|            0.0|            0.0|              0.0|              0.0|                 0.0|              0.0|                0.0|            0.0|            3.0|              0.0|               0.0|                0.0|           0.0|           0.0|               0.0|             0.0|          0.0|              0.0|          1.0|                      0.0|                      0.0|                           0.0|                          0.0|                         0.0|         1.0|              0.0|\n",
            "+------------+-----------+---------------+------+--------+--------+-----------------+------------------------+-------------------+----------------+----------+--------------------+------------------+--------------+---------------+-----------------+----------------+----------------+------+------+------+----------------+-------------+---------+---------+-----------+-----------+--------------+-----------+-------------+---------+---------+-----------+------------+-------------+--------+--------+------------+----------+-------+-----------+-------+-------------------+-------------------+------------------------+-----------------------+----------------------+------+-----------+----------+----------+------------+---------+------------+----------------+-----------------------+------------+------------+------------+-------------------+---------------+---------------+-----------------+-----------------+--------------------+-----------------+-------------------+---------------+---------------+-----------------+------------------+-------------------+--------------+--------------+------------------+----------------+-------------+-----------------+-------------+-------------------------+-------------------------+------------------------------+-----------------------------+----------------------------+------------+-----------------+\n",
            "only showing top 20 rows\n",
            "\n"
          ]
        }
      ]
    },
    {
      "cell_type": "code",
      "source": [
        "salman = salman.drop(*categorical_cols)\n"
      ],
      "metadata": {
        "id": "7xG3mX8QNmP2"
      },
      "execution_count": null,
      "outputs": []
    },
    {
      "cell_type": "code",
      "source": [
        "salman.show()"
      ],
      "metadata": {
        "colab": {
          "base_uri": "https://localhost:8080/"
        },
        "id": "Nea_482lNoy3",
        "outputId": "ffaece72-d3ef-4913-e80a-2160ee771891"
      },
      "execution_count": null,
      "outputs": [
        {
          "output_type": "stream",
          "name": "stdout",
          "text": [
            "+------------+-----------+-----------------+------------------------+-------------------+----------------+------------------+--------------+---------------+-----------------+----------------+----------------+----------------+----------+----------+------------+---------+------------+----------------+-----------------------+------------+------------+------------+-------------------+---------------+---------------+-----------------+-----------------+--------------------+-----------------+-------------------+---------------+---------------+-----------------+------------------+-------------------+--------------+--------------+------------------+----------------+-------------+-----------------+-------------+-------------------------+-------------------------+------------------------------+-----------------------------+----------------------------+------------+-----------------+\n",
            "|encounter_id|patient_nbr|admission_type_id|discharge_disposition_id|admission_source_id|time_in_hospital|num_lab_procedures|num_procedures|num_medications|number_outpatient|number_emergency|number_inpatient|number_diagnoses|readmitted|race_index|gender_index|age_index|weight_index|payer_code_index|medical_specialty_index|diag_1_index|diag_2_index|diag_3_index|max_glu_serum_index|A1Cresult_index|metformin_index|repaglinide_index|nateglinide_index|chlorpropamide_index|glimepiride_index|acetohexamide_index|glipizide_index|glyburide_index|tolbutamide_index|pioglitazone_index|rosiglitazone_index|acarbose_index|miglitol_index|troglitazone_index|tolazamide_index|examide_index|citoglipton_index|insulin_index|glyburide-metformin_index|glipizide-metformin_index|glimepiride-pioglitazone_index|metformin-rosiglitazone_index|metformin-pioglitazone_index|change_index|diabetesMed_index|\n",
            "+------------+-----------+-----------------+------------------------+-------------------+----------------+------------------+--------------+---------------+-----------------+----------------+----------------+----------------+----------+----------+------------+---------+------------+----------------+-----------------------+------------+------------+------------+-------------------+---------------+---------------+-----------------+-----------------+--------------------+-----------------+-------------------+---------------+---------------+-----------------+------------------+-------------------+--------------+--------------+------------------+----------------+-------------+-----------------+-------------+-------------------------+-------------------------+------------------------------+-----------------------------+----------------------------+------------+-----------------+\n",
            "|     2278392|    8222157|                6|                      25|                  1|               1|                41|             0|              1|                0|               0|               0|               1|       0.0|       0.0|         0.0|      9.0|         0.0|             0.0|                   22.0|       141.0|         0.0|         0.0|                0.0|            0.0|            0.0|              0.0|              0.0|                 0.0|              0.0|                0.0|            0.0|            0.0|              0.0|               0.0|                0.0|           0.0|           0.0|               0.0|             0.0|          0.0|              0.0|          0.0|                      0.0|                      0.0|                           0.0|                          0.0|                         0.0|         0.0|              1.0|\n",
            "|      149190|   55629189|                1|                       1|                  7|               3|                59|             0|             18|                0|               0|               0|               9|       1.0|       0.0|         0.0|      8.0|         0.0|             0.0|                    0.0|        12.0|        15.0|       162.0|                0.0|            0.0|            0.0|              0.0|              0.0|                 0.0|              0.0|                0.0|            0.0|            0.0|              0.0|               0.0|                0.0|           0.0|           0.0|               0.0|             0.0|          0.0|              0.0|          3.0|                      0.0|                      0.0|                           0.0|                          0.0|                         0.0|         1.0|              0.0|\n",
            "|       64410|   86047875|                1|                       1|                  7|               2|                11|             5|             13|                2|               0|               1|               6|       0.0|       1.0|         0.0|      7.0|         0.0|             0.0|                    0.0|        68.0|         2.0|       222.0|                0.0|            0.0|            0.0|              0.0|              0.0|                 0.0|              0.0|                0.0|            1.0|            0.0|              0.0|               0.0|                0.0|           0.0|           0.0|               0.0|             0.0|          0.0|              0.0|          0.0|                      0.0|                      0.0|                           0.0|                          0.0|                         0.0|         0.0|              0.0|\n",
            "|      500364|   82442376|                1|                       1|                  7|               2|                44|             1|             16|                0|               0|               0|               7|       0.0|       0.0|         1.0|      5.0|         0.0|             0.0|                    0.0|        41.0|       220.0|         7.0|                0.0|            0.0|            0.0|              0.0|              0.0|                 0.0|              0.0|                0.0|            0.0|            0.0|              0.0|               0.0|                0.0|           0.0|           0.0|               0.0|             0.0|          0.0|              0.0|          3.0|                      0.0|                      0.0|                           0.0|                          0.0|                         0.0|         1.0|              0.0|\n",
            "|       16680|   42519267|                1|                       1|                  7|               1|                51|             0|              8|                0|               0|               0|               5|       0.0|       0.0|         1.0|      4.0|         0.0|             0.0|                    0.0|        61.0|       142.0|         0.0|                0.0|            0.0|            0.0|              0.0|              0.0|                 0.0|              0.0|                0.0|            1.0|            0.0|              0.0|               0.0|                0.0|           0.0|           0.0|               0.0|             0.0|          0.0|              0.0|          1.0|                      0.0|                      0.0|                           0.0|                          0.0|                         0.0|         1.0|              0.0|\n",
            "|       35754|   82637451|                2|                       1|                  2|               3|                31|             6|             16|                0|               0|               0|               9|       1.0|       0.0|         1.0|      2.0|         0.0|             0.0|                    0.0|         1.0|         9.0|         0.0|                0.0|            0.0|            0.0|              0.0|              0.0|                 0.0|              0.0|                0.0|            0.0|            0.0|              0.0|               0.0|                0.0|           0.0|           0.0|               0.0|             0.0|          0.0|              0.0|          1.0|                      0.0|                      0.0|                           0.0|                          0.0|                         0.0|         0.0|              0.0|\n",
            "|       55842|   84259809|                3|                       1|                  2|               4|                70|             1|             21|                0|               0|               0|               7|       0.0|       0.0|         1.0|      1.0|         0.0|             0.0|                    0.0|         1.0|         9.0|        11.0|                0.0|            0.0|            1.0|              0.0|              0.0|                 0.0|              1.0|                0.0|            0.0|            0.0|              0.0|               0.0|                0.0|           0.0|           0.0|               0.0|             0.0|          0.0|              0.0|          1.0|                      0.0|                      0.0|                           0.0|                          0.0|                         0.0|         1.0|              0.0|\n",
            "|       63768|  114882984|                1|                       1|                  7|               5|                73|             0|             12|                0|               0|               0|               8|       1.0|       0.0|         1.0|      0.0|         0.0|             0.0|                    0.0|         0.0|        69.0|         0.0|                0.0|            0.0|            0.0|              0.0|              0.0|                 0.0|              0.0|                0.0|            0.0|            1.0|              0.0|               0.0|                0.0|           0.0|           0.0|               0.0|             0.0|          0.0|              0.0|          0.0|                      0.0|                      0.0|                           0.0|                          0.0|                         0.0|         0.0|              0.0|\n",
            "|       12522|   48330783|                2|                       1|                  4|              13|                68|             2|             28|                0|               0|               0|               8|       0.0|       0.0|         0.0|      3.0|         0.0|             0.0|                    0.0|       113.0|         3.0|        97.0|                0.0|            0.0|            0.0|              0.0|              0.0|                 0.0|              0.0|                0.0|            1.0|            0.0|              0.0|               0.0|                0.0|           0.0|           0.0|               0.0|             0.0|          0.0|              0.0|          1.0|                      0.0|                      0.0|                           0.0|                          0.0|                         0.0|         1.0|              0.0|\n",
            "|       15738|   63555939|                3|                       3|                  4|              12|                33|             3|             18|                0|               0|               0|               8|       0.0|       0.0|         0.0|      6.0|         0.0|             0.0|                    0.0|         9.0|        53.0|        30.0|                0.0|            0.0|            0.0|              0.0|              0.0|                 0.0|              0.0|                0.0|            0.0|            0.0|              0.0|               0.0|                1.0|           0.0|           0.0|               0.0|             0.0|          0.0|              0.0|          1.0|                      0.0|                      0.0|                           0.0|                          0.0|                         0.0|         1.0|              0.0|\n",
            "|       28236|   89869032|                1|                       1|                  7|               9|                47|             2|             17|                0|               0|               0|               9|       1.0|       1.0|         0.0|      4.0|         0.0|             0.0|                    0.0|        28.0|         7.0|        62.0|                0.0|            0.0|            0.0|              0.0|              0.0|                 0.0|              0.0|                0.0|            0.0|            0.0|              0.0|               0.0|                0.0|           0.0|           0.0|               0.0|             0.0|          0.0|              0.0|          1.0|                      0.0|                      0.0|                           0.0|                          0.0|                         0.0|         0.0|              0.0|\n",
            "|       36900|   77391171|                2|                       1|                  4|               7|                62|             0|             11|                0|               0|               0|               7|       2.0|       1.0|         1.0|      1.0|         0.0|             0.0|                    0.0|       121.0|       159.0|        39.0|                0.0|            0.0|            0.0|              0.0|              0.0|                 0.0|              0.0|                0.0|            0.0|            2.0|              0.0|               0.0|                0.0|           0.0|           0.0|               0.0|             0.0|          0.0|              0.0|          1.0|                      0.0|                      0.0|                           0.0|                          0.0|                         0.0|         1.0|              0.0|\n",
            "|       40926|   85504905|                1|                       3|                  7|               7|                60|             0|             15|                0|               1|               0|               8|       2.0|       0.0|         0.0|      4.0|         0.0|             0.0|                    2.0|         0.0|       220.0|        17.0|                0.0|            0.0|            1.0|              2.0|              0.0|                 0.0|              0.0|                0.0|            0.0|            0.0|              0.0|               0.0|                0.0|           0.0|           0.0|               0.0|             0.0|          0.0|              0.0|          2.0|                      0.0|                      0.0|                           0.0|                          0.0|                         0.0|         1.0|              0.0|\n",
            "|       42570|   77586282|                1|                       6|                  7|              10|                55|             1|             31|                0|               0|               0|               8|       0.0|       0.0|         1.0|      3.0|         0.0|             0.0|                    2.0|         0.0|         9.0|         4.0|                0.0|            0.0|            0.0|              0.0|              0.0|                 0.0|              0.0|                0.0|            0.0|            0.0|              0.0|               0.0|                0.0|           0.0|           0.0|               0.0|             0.0|          0.0|              0.0|          1.0|                      0.0|                      0.0|                           0.0|                          0.0|                         0.0|         0.0|              0.0|\n",
            "|       62256|   49726791|                3|                       1|                  2|               1|                49|             5|              2|                0|               0|               0|               8|       1.0|       1.0|         0.0|      1.0|         0.0|             0.0|                    0.0|        19.0|        29.0|       312.0|                0.0|            0.0|            0.0|              0.0|              0.0|                 0.0|              0.0|                0.0|            0.0|            0.0|              0.0|               0.0|                0.0|           0.0|           0.0|               0.0|             0.0|          0.0|              0.0|          1.0|                      0.0|                      0.0|                           0.0|                          0.0|                         0.0|         0.0|              0.0|\n",
            "|       73578|   86328819|                1|                       3|                  7|              12|                75|             5|             13|                0|               0|               0|               9|       0.0|       1.0|         1.0|      1.0|         0.0|             0.0|                    0.0|       266.0|        78.0|        62.0|                0.0|            0.0|            0.0|              0.0|              0.0|                 0.0|              0.0|                0.0|            0.0|            0.0|              0.0|               0.0|                0.0|           0.0|           0.0|               0.0|             0.0|          0.0|              0.0|          3.0|                      0.0|                      0.0|                           0.0|                          0.0|                         0.0|         1.0|              0.0|\n",
            "|       77076|   92519352|                1|                       1|                  7|               4|                45|             4|             17|                0|               0|               0|               8|       2.0|       1.0|         1.0|      2.0|         0.0|             0.0|                    0.0|         3.0|         9.0|         5.0|                0.0|            0.0|            0.0|              0.0|              0.0|                 0.0|              0.0|                0.0|            1.0|            0.0|              0.0|               0.0|                0.0|           0.0|           0.0|               0.0|             0.0|          0.0|              0.0|          1.0|                      0.0|                      0.0|                           0.0|                          0.0|                         0.0|         1.0|              0.0|\n",
            "|       84222|  108662661|                1|                       1|                  7|               3|                29|             0|             11|                0|               0|               0|               3|       0.0|       0.0|         0.0|      2.0|         0.0|             0.0|                    3.0|         8.0|       244.0|         0.0|                0.0|            0.0|            0.0|              0.0|              0.0|                 0.0|              0.0|                0.0|            0.0|            1.0|              0.0|               0.0|                0.0|           0.0|           0.0|               0.0|             0.0|          0.0|              0.0|          0.0|                      0.0|                      0.0|                           0.0|                          0.0|                         0.0|         0.0|              0.0|\n",
            "|       89682|  107389323|                1|                       1|                  7|               5|                35|             5|             23|                0|               0|               0|               9|       1.0|       1.0|         1.0|      0.0|         0.0|             0.0|                    0.0|        44.0|        18.0|        93.0|                0.0|            0.0|            0.0|              0.0|              0.0|                 0.0|              0.0|                0.0|            0.0|            0.0|              0.0|               0.0|                0.0|           0.0|           0.0|               0.0|             0.0|          0.0|              0.0|          1.0|                      0.0|                      0.0|                           0.0|                          0.0|                         0.0|         0.0|              0.0|\n",
            "|      148530|   69422211|                3|                       6|                  2|               6|                42|             2|             23|                0|               0|               0|               8|       0.0|       0.0|         1.0|      0.0|         0.0|             0.0|                    0.0|       423.0|         3.0|       150.0|                0.0|            0.0|            0.0|              0.0|              0.0|                 0.0|              0.0|                0.0|            0.0|            3.0|              0.0|               0.0|                0.0|           0.0|           0.0|               0.0|             0.0|          0.0|              0.0|          1.0|                      0.0|                      0.0|                           0.0|                          0.0|                         0.0|         1.0|              0.0|\n",
            "+------------+-----------+-----------------+------------------------+-------------------+----------------+------------------+--------------+---------------+-----------------+----------------+----------------+----------------+----------+----------+------------+---------+------------+----------------+-----------------------+------------+------------+------------+-------------------+---------------+---------------+-----------------+-----------------+--------------------+-----------------+-------------------+---------------+---------------+-----------------+------------------+-------------------+--------------+--------------+------------------+----------------+-------------+-----------------+-------------+-------------------------+-------------------------+------------------------------+-----------------------------+----------------------------+------------+-----------------+\n",
            "only showing top 20 rows\n",
            "\n"
          ]
        }
      ]
    },
    {
      "cell_type": "markdown",
      "source": [
        "# ***Now, there are no categorical features in the dataframe***"
      ],
      "metadata": {
        "id": "6afJ5Sn5fub6"
      }
    },
    {
      "cell_type": "code",
      "source": [
        "salman.printSchema()"
      ],
      "metadata": {
        "colab": {
          "base_uri": "https://localhost:8080/"
        },
        "id": "NmGqz7xsfBhE",
        "outputId": "d1fb34b2-66fd-432c-cbe6-9617bd1292a4"
      },
      "execution_count": null,
      "outputs": [
        {
          "output_type": "stream",
          "name": "stdout",
          "text": [
            "root\n",
            " |-- encounter_id: integer (nullable = true)\n",
            " |-- patient_nbr: integer (nullable = true)\n",
            " |-- admission_type_id: integer (nullable = true)\n",
            " |-- discharge_disposition_id: integer (nullable = true)\n",
            " |-- admission_source_id: integer (nullable = true)\n",
            " |-- time_in_hospital: integer (nullable = true)\n",
            " |-- num_lab_procedures: integer (nullable = true)\n",
            " |-- num_procedures: integer (nullable = true)\n",
            " |-- num_medications: integer (nullable = true)\n",
            " |-- number_outpatient: integer (nullable = true)\n",
            " |-- number_emergency: integer (nullable = true)\n",
            " |-- number_inpatient: integer (nullable = true)\n",
            " |-- number_diagnoses: integer (nullable = true)\n",
            " |-- readmitted: double (nullable = false)\n",
            " |-- race_index: double (nullable = false)\n",
            " |-- gender_index: double (nullable = false)\n",
            " |-- age_index: double (nullable = false)\n",
            " |-- weight_index: double (nullable = false)\n",
            " |-- payer_code_index: double (nullable = false)\n",
            " |-- medical_specialty_index: double (nullable = false)\n",
            " |-- diag_1_index: double (nullable = false)\n",
            " |-- diag_2_index: double (nullable = false)\n",
            " |-- diag_3_index: double (nullable = false)\n",
            " |-- max_glu_serum_index: double (nullable = false)\n",
            " |-- A1Cresult_index: double (nullable = false)\n",
            " |-- metformin_index: double (nullable = false)\n",
            " |-- repaglinide_index: double (nullable = false)\n",
            " |-- nateglinide_index: double (nullable = false)\n",
            " |-- chlorpropamide_index: double (nullable = false)\n",
            " |-- glimepiride_index: double (nullable = false)\n",
            " |-- acetohexamide_index: double (nullable = false)\n",
            " |-- glipizide_index: double (nullable = false)\n",
            " |-- glyburide_index: double (nullable = false)\n",
            " |-- tolbutamide_index: double (nullable = false)\n",
            " |-- pioglitazone_index: double (nullable = false)\n",
            " |-- rosiglitazone_index: double (nullable = false)\n",
            " |-- acarbose_index: double (nullable = false)\n",
            " |-- miglitol_index: double (nullable = false)\n",
            " |-- troglitazone_index: double (nullable = false)\n",
            " |-- tolazamide_index: double (nullable = false)\n",
            " |-- examide_index: double (nullable = false)\n",
            " |-- citoglipton_index: double (nullable = false)\n",
            " |-- insulin_index: double (nullable = false)\n",
            " |-- glyburide-metformin_index: double (nullable = false)\n",
            " |-- glipizide-metformin_index: double (nullable = false)\n",
            " |-- glimepiride-pioglitazone_index: double (nullable = false)\n",
            " |-- metformin-rosiglitazone_index: double (nullable = false)\n",
            " |-- metformin-pioglitazone_index: double (nullable = false)\n",
            " |-- change_index: double (nullable = false)\n",
            " |-- diabetesMed_index: double (nullable = false)\n",
            "\n"
          ]
        }
      ]
    },
    {
      "cell_type": "code",
      "source": [
        "from pyspark.sql.functions import count, when, isnull\n",
        "salman.select([count(when(isnull(c), c)).alias(c) for c in salman.columns]).show()\n"
      ],
      "metadata": {
        "colab": {
          "base_uri": "https://localhost:8080/"
        },
        "id": "h37UuuUagC4q",
        "outputId": "57aa8300-7dd1-4668-d6dd-17c81436e7dc"
      },
      "execution_count": null,
      "outputs": [
        {
          "output_type": "stream",
          "name": "stdout",
          "text": [
            "+------------+-----------+-----------------+------------------------+-------------------+----------------+------------------+--------------+---------------+-----------------+----------------+----------------+----------------+----------+----------+------------+---------+------------+----------------+-----------------------+------------+------------+------------+-------------------+---------------+---------------+-----------------+-----------------+--------------------+-----------------+-------------------+---------------+---------------+-----------------+------------------+-------------------+--------------+--------------+------------------+----------------+-------------+-----------------+-------------+-------------------------+-------------------------+------------------------------+-----------------------------+----------------------------+------------+-----------------+\n",
            "|encounter_id|patient_nbr|admission_type_id|discharge_disposition_id|admission_source_id|time_in_hospital|num_lab_procedures|num_procedures|num_medications|number_outpatient|number_emergency|number_inpatient|number_diagnoses|readmitted|race_index|gender_index|age_index|weight_index|payer_code_index|medical_specialty_index|diag_1_index|diag_2_index|diag_3_index|max_glu_serum_index|A1Cresult_index|metformin_index|repaglinide_index|nateglinide_index|chlorpropamide_index|glimepiride_index|acetohexamide_index|glipizide_index|glyburide_index|tolbutamide_index|pioglitazone_index|rosiglitazone_index|acarbose_index|miglitol_index|troglitazone_index|tolazamide_index|examide_index|citoglipton_index|insulin_index|glyburide-metformin_index|glipizide-metformin_index|glimepiride-pioglitazone_index|metformin-rosiglitazone_index|metformin-pioglitazone_index|change_index|diabetesMed_index|\n",
            "+------------+-----------+-----------------+------------------------+-------------------+----------------+------------------+--------------+---------------+-----------------+----------------+----------------+----------------+----------+----------+------------+---------+------------+----------------+-----------------------+------------+------------+------------+-------------------+---------------+---------------+-----------------+-----------------+--------------------+-----------------+-------------------+---------------+---------------+-----------------+------------------+-------------------+--------------+--------------+------------------+----------------+-------------+-----------------+-------------+-------------------------+-------------------------+------------------------------+-----------------------------+----------------------------+------------+-----------------+\n",
            "|           0|          0|                0|                       0|                  0|               0|                 0|             0|              0|                0|               0|               0|               0|         0|         0|           0|        0|           0|               0|                      0|           0|           0|           0|                  0|              0|              0|                0|                0|                   0|                0|                  0|              0|              0|                0|                 0|                  0|             0|             0|                 0|               0|            0|                0|            0|                        0|                        0|                             0|                            0|                           0|           0|                0|\n",
            "+------------+-----------+-----------------+------------------------+-------------------+----------------+------------------+--------------+---------------+-----------------+----------------+----------------+----------------+----------+----------+------------+---------+------------+----------------+-----------------------+------------+------------+------------+-------------------+---------------+---------------+-----------------+-----------------+--------------------+-----------------+-------------------+---------------+---------------+-----------------+------------------+-------------------+--------------+--------------+------------------+----------------+-------------+-----------------+-------------+-------------------------+-------------------------+------------------------------+-----------------------------+----------------------------+------------+-----------------+\n",
            "\n"
          ]
        }
      ]
    },
    {
      "cell_type": "markdown",
      "source": [
        "# ***No null values***"
      ],
      "metadata": {
        "id": "8bbRlekLgFnC"
      }
    },
    {
      "cell_type": "markdown",
      "source": [
        "# ***Time for normalization my dataframe to get higher accuracy***"
      ],
      "metadata": {
        "id": "QpdguXH2v2HB"
      }
    },
    {
      "cell_type": "markdown",
      "source": [
        "# **Now, Finding Outliers values that may cause of lower accuracy on model Implementation for each feature sequentially from first to last**"
      ],
      "metadata": {
        "id": "BEq00C6Mk5iq"
      }
    },
    {
      "cell_type": "markdown",
      "source": [
        "# ***Using Z-score***"
      ],
      "metadata": {
        "id": "LVEL92LdzfSn"
      }
    },
    {
      "cell_type": "code",
      "source": [
        "from pyspark.sql.functions import *\n",
        "\n",
        "column_subset = salman.columns\n",
        "\n",
        "for col in column_subset:\n",
        "    if salman.select(col).dtypes[0][1] == \"string\":\n",
        "        pass\n",
        "    else:\n",
        "        col_mean = salman.select(mean(col)).collect()[0][0]\n",
        "        col_stddev = salman.select(stddev(col)).collect()[0][0]\n",
        "        upper_limit = col_mean + (3 * col_stddev)\n",
        "        lower_limit = col_mean - (3 * col_stddev)\n",
        "\n",
        "        outliers = salman.filter((salman[col] < lower_limit) | (salman[col] > upper_limit))\n",
        "\n",
        "        if outliers.count() > 0:\n",
        "            print(f\"Outliers in column '{col}':\")\n",
        "            outliers.select(col).show()\n"
      ],
      "metadata": {
        "colab": {
          "base_uri": "https://localhost:8080/"
        },
        "id": "6sPn-Vsrx_HQ",
        "outputId": "1d6478eb-194e-423c-e019-d92a275e5544"
      },
      "execution_count": null,
      "outputs": [
        {
          "output_type": "stream",
          "name": "stdout",
          "text": [
            "Outliers in column 'patient_nbr':\n",
            "+-----------+\n",
            "|patient_nbr|\n",
            "+-----------+\n",
            "|  186699353|\n",
            "|  186400166|\n",
            "|  175297100|\n",
            "|  174000938|\n",
            "|  175579403|\n",
            "|  178345517|\n",
            "|  173782328|\n",
            "|  184358588|\n",
            "|  182647004|\n",
            "|  183621929|\n",
            "|  184194626|\n",
            "|  187143647|\n",
            "|  183817868|\n",
            "|  185648369|\n",
            "|  181891598|\n",
            "|  174816680|\n",
            "|  186410174|\n",
            "|  175070606|\n",
            "|  180517235|\n",
            "|  177722195|\n",
            "+-----------+\n",
            "only showing top 20 rows\n",
            "\n",
            "Outliers in column 'admission_type_id':\n",
            "+-----------------+\n",
            "|admission_type_id|\n",
            "+-----------------+\n",
            "|                8|\n",
            "|                8|\n",
            "|                8|\n",
            "|                8|\n",
            "|                8|\n",
            "|                8|\n",
            "|                8|\n",
            "|                8|\n",
            "|                8|\n",
            "|                8|\n",
            "|                8|\n",
            "|                8|\n",
            "|                8|\n",
            "|                8|\n",
            "|                8|\n",
            "|                8|\n",
            "|                8|\n",
            "|                8|\n",
            "|                8|\n",
            "|                8|\n",
            "+-----------------+\n",
            "only showing top 20 rows\n",
            "\n",
            "Outliers in column 'discharge_disposition_id':\n",
            "+------------------------+\n",
            "|discharge_disposition_id|\n",
            "+------------------------+\n",
            "|                      25|\n",
            "|                      25|\n",
            "|                      25|\n",
            "|                      25|\n",
            "|                      25|\n",
            "|                      25|\n",
            "|                      25|\n",
            "|                      25|\n",
            "|                      25|\n",
            "|                      25|\n",
            "|                      25|\n",
            "|                      25|\n",
            "|                      25|\n",
            "|                      25|\n",
            "|                      25|\n",
            "|                      25|\n",
            "|                      25|\n",
            "|                      25|\n",
            "|                      25|\n",
            "|                      25|\n",
            "+------------------------+\n",
            "only showing top 20 rows\n",
            "\n",
            "Outliers in column 'admission_source_id':\n",
            "+-------------------+\n",
            "|admission_source_id|\n",
            "+-------------------+\n",
            "|                 20|\n",
            "|                 20|\n",
            "|                 20|\n",
            "|                 20|\n",
            "|                 20|\n",
            "|                 20|\n",
            "|                 20|\n",
            "|                 20|\n",
            "|                 20|\n",
            "|                 20|\n",
            "|                 20|\n",
            "|                 20|\n",
            "|                 20|\n",
            "|                 20|\n",
            "|                 20|\n",
            "|                 20|\n",
            "|                 20|\n",
            "|                 20|\n",
            "|                 20|\n",
            "|                 20|\n",
            "+-------------------+\n",
            "only showing top 20 rows\n",
            "\n",
            "Outliers in column 'time_in_hospital':\n",
            "+----------------+\n",
            "|time_in_hospital|\n",
            "+----------------+\n",
            "|              14|\n",
            "|              14|\n",
            "|              14|\n",
            "|              14|\n",
            "|              14|\n",
            "|              14|\n",
            "|              14|\n",
            "|              14|\n",
            "|              14|\n",
            "|              14|\n",
            "|              14|\n",
            "|              14|\n",
            "|              14|\n",
            "|              14|\n",
            "|              14|\n",
            "|              14|\n",
            "|              14|\n",
            "|              14|\n",
            "|              14|\n",
            "|              14|\n",
            "+----------------+\n",
            "only showing top 20 rows\n",
            "\n",
            "Outliers in column 'num_lab_procedures':\n",
            "+------------------+\n",
            "|num_lab_procedures|\n",
            "+------------------+\n",
            "|               103|\n",
            "|               105|\n",
            "|               103|\n",
            "|               105|\n",
            "|               114|\n",
            "|               113|\n",
            "|               103|\n",
            "|               105|\n",
            "|               111|\n",
            "|               129|\n",
            "|               107|\n",
            "|               108|\n",
            "|               106|\n",
            "|               104|\n",
            "|               106|\n",
            "|               109|\n",
            "|               103|\n",
            "|               105|\n",
            "|               106|\n",
            "|               120|\n",
            "+------------------+\n",
            "only showing top 20 rows\n",
            "\n",
            "Outliers in column 'num_medications':\n",
            "+---------------+\n",
            "|num_medications|\n",
            "+---------------+\n",
            "|             61|\n",
            "|             46|\n",
            "|             41|\n",
            "|             41|\n",
            "|             50|\n",
            "|             43|\n",
            "|             46|\n",
            "|             42|\n",
            "|             51|\n",
            "|             42|\n",
            "|             45|\n",
            "|             43|\n",
            "|             42|\n",
            "|             45|\n",
            "|             54|\n",
            "|             42|\n",
            "|             45|\n",
            "|             52|\n",
            "|             49|\n",
            "|             41|\n",
            "+---------------+\n",
            "only showing top 20 rows\n",
            "\n",
            "Outliers in column 'number_outpatient':\n",
            "+-----------------+\n",
            "|number_outpatient|\n",
            "+-----------------+\n",
            "|                5|\n",
            "|                7|\n",
            "|                9|\n",
            "|                9|\n",
            "|                8|\n",
            "|                5|\n",
            "|                8|\n",
            "|                5|\n",
            "|               12|\n",
            "|                9|\n",
            "|                5|\n",
            "|                5|\n",
            "|                8|\n",
            "|                5|\n",
            "|                5|\n",
            "|                5|\n",
            "|                8|\n",
            "|               12|\n",
            "|               11|\n",
            "|                6|\n",
            "+-----------------+\n",
            "only showing top 20 rows\n",
            "\n",
            "Outliers in column 'number_emergency':\n",
            "+----------------+\n",
            "|number_emergency|\n",
            "+----------------+\n",
            "|               4|\n",
            "|               4|\n",
            "|               3|\n",
            "|               9|\n",
            "|               4|\n",
            "|               5|\n",
            "|               7|\n",
            "|               5|\n",
            "|               6|\n",
            "|               3|\n",
            "|               6|\n",
            "|               3|\n",
            "|               3|\n",
            "|               7|\n",
            "|               3|\n",
            "|               8|\n",
            "|               3|\n",
            "|               4|\n",
            "|               3|\n",
            "|               3|\n",
            "+----------------+\n",
            "only showing top 20 rows\n",
            "\n",
            "Outliers in column 'number_inpatient':\n",
            "+----------------+\n",
            "|number_inpatient|\n",
            "+----------------+\n",
            "|               6|\n",
            "|               5|\n",
            "|               5|\n",
            "|               5|\n",
            "|               6|\n",
            "|               5|\n",
            "|               5|\n",
            "|               6|\n",
            "|               5|\n",
            "|               6|\n",
            "|               5|\n",
            "|               5|\n",
            "|               5|\n",
            "|               6|\n",
            "|               5|\n",
            "|               5|\n",
            "|               7|\n",
            "|               5|\n",
            "|               6|\n",
            "|               5|\n",
            "+----------------+\n",
            "only showing top 20 rows\n",
            "\n",
            "Outliers in column 'number_diagnoses':\n",
            "+----------------+\n",
            "|number_diagnoses|\n",
            "+----------------+\n",
            "|               1|\n",
            "|               1|\n",
            "|               1|\n",
            "|               1|\n",
            "|               1|\n",
            "|               1|\n",
            "|               1|\n",
            "|               1|\n",
            "|               1|\n",
            "|               1|\n",
            "|               1|\n",
            "|               1|\n",
            "|               1|\n",
            "|               1|\n",
            "|               1|\n",
            "|               1|\n",
            "|               1|\n",
            "|               1|\n",
            "|               1|\n",
            "|               1|\n",
            "+----------------+\n",
            "only showing top 20 rows\n",
            "\n",
            "Outliers in column 'race_index':\n",
            "+----------+\n",
            "|race_index|\n",
            "+----------+\n",
            "|       3.0|\n",
            "|       3.0|\n",
            "|       3.0|\n",
            "|       3.0|\n",
            "|       3.0|\n",
            "|       3.0|\n",
            "|       3.0|\n",
            "|       4.0|\n",
            "|       3.0|\n",
            "|       3.0|\n",
            "|       3.0|\n",
            "|       3.0|\n",
            "|       3.0|\n",
            "|       3.0|\n",
            "|       3.0|\n",
            "|       3.0|\n",
            "|       4.0|\n",
            "|       4.0|\n",
            "|       3.0|\n",
            "|       4.0|\n",
            "+----------+\n",
            "only showing top 20 rows\n",
            "\n",
            "Outliers in column 'gender_index':\n",
            "+------------+\n",
            "|gender_index|\n",
            "+------------+\n",
            "|         2.0|\n",
            "|         2.0|\n",
            "|         2.0|\n",
            "+------------+\n",
            "\n",
            "Outliers in column 'age_index':\n",
            "+---------+\n",
            "|age_index|\n",
            "+---------+\n",
            "|      9.0|\n",
            "|      8.0|\n",
            "|      8.0|\n",
            "|      8.0|\n",
            "|      9.0|\n",
            "|      8.0|\n",
            "|      8.0|\n",
            "|      9.0|\n",
            "|      8.0|\n",
            "|      8.0|\n",
            "|      9.0|\n",
            "|      8.0|\n",
            "|      8.0|\n",
            "|      8.0|\n",
            "|      8.0|\n",
            "|      8.0|\n",
            "|      8.0|\n",
            "|      8.0|\n",
            "|      8.0|\n",
            "|      9.0|\n",
            "+---------+\n",
            "only showing top 20 rows\n",
            "\n",
            "Outliers in column 'weight_index':\n",
            "+------------+\n",
            "|weight_index|\n",
            "+------------+\n",
            "|         1.0|\n",
            "|         5.0|\n",
            "|         1.0|\n",
            "|         2.0|\n",
            "|         1.0|\n",
            "|         1.0|\n",
            "|         1.0|\n",
            "|         1.0|\n",
            "|         5.0|\n",
            "|         1.0|\n",
            "|         1.0|\n",
            "|         1.0|\n",
            "|         1.0|\n",
            "|         1.0|\n",
            "|         5.0|\n",
            "|         4.0|\n",
            "|         3.0|\n",
            "|         1.0|\n",
            "|         5.0|\n",
            "|         1.0|\n",
            "+------------+\n",
            "only showing top 20 rows\n",
            "\n",
            "Outliers in column 'payer_code_index':\n",
            "+----------------+\n",
            "|payer_code_index|\n",
            "+----------------+\n",
            "|            15.0|\n",
            "|            10.0|\n",
            "|            11.0|\n",
            "|            10.0|\n",
            "|            11.0|\n",
            "|            15.0|\n",
            "|            15.0|\n",
            "|             9.0|\n",
            "|             9.0|\n",
            "|             9.0|\n",
            "|             9.0|\n",
            "|             9.0|\n",
            "|            10.0|\n",
            "|            12.0|\n",
            "|            10.0|\n",
            "|            15.0|\n",
            "|             9.0|\n",
            "|            15.0|\n",
            "|             9.0|\n",
            "|            15.0|\n",
            "+----------------+\n",
            "only showing top 20 rows\n",
            "\n",
            "Outliers in column 'medical_specialty_index':\n",
            "+-----------------------+\n",
            "|medical_specialty_index|\n",
            "+-----------------------+\n",
            "|                   22.0|\n",
            "|                   40.0|\n",
            "|                   19.0|\n",
            "|                   22.0|\n",
            "|                   20.0|\n",
            "|                   22.0|\n",
            "|                   23.0|\n",
            "|                   22.0|\n",
            "|                   49.0|\n",
            "|                   22.0|\n",
            "|                   29.0|\n",
            "|                   24.0|\n",
            "|                   20.0|\n",
            "|                   40.0|\n",
            "|                   29.0|\n",
            "|                   24.0|\n",
            "|                   56.0|\n",
            "|                   29.0|\n",
            "|                   41.0|\n",
            "|                   22.0|\n",
            "+-----------------------+\n",
            "only showing top 20 rows\n",
            "\n",
            "Outliers in column 'diag_1_index':\n",
            "+------------+\n",
            "|diag_1_index|\n",
            "+------------+\n",
            "|       423.0|\n",
            "|       377.0|\n",
            "|       392.0|\n",
            "|       326.0|\n",
            "|       326.0|\n",
            "|       374.0|\n",
            "|       360.0|\n",
            "|       326.0|\n",
            "|       306.0|\n",
            "|       315.0|\n",
            "|       320.0|\n",
            "|       332.0|\n",
            "|       479.0|\n",
            "|       302.0|\n",
            "|       386.0|\n",
            "|       447.0|\n",
            "|       304.0|\n",
            "|       431.0|\n",
            "|       691.0|\n",
            "|       313.0|\n",
            "+------------+\n",
            "only showing top 20 rows\n",
            "\n",
            "Outliers in column 'diag_2_index':\n",
            "+------------+\n",
            "|diag_2_index|\n",
            "+------------+\n",
            "|       376.0|\n",
            "|       569.0|\n",
            "|       312.0|\n",
            "|       368.0|\n",
            "|       359.0|\n",
            "|       458.0|\n",
            "|       447.0|\n",
            "|       299.0|\n",
            "|       361.0|\n",
            "|       295.0|\n",
            "|       363.0|\n",
            "|       449.0|\n",
            "|       314.0|\n",
            "|       348.0|\n",
            "|       462.0|\n",
            "|       334.0|\n",
            "|       288.0|\n",
            "|       596.0|\n",
            "|       648.0|\n",
            "|       432.0|\n",
            "+------------+\n",
            "only showing top 20 rows\n",
            "\n",
            "Outliers in column 'diag_3_index':\n",
            "+------------+\n",
            "|diag_3_index|\n",
            "+------------+\n",
            "|       312.0|\n",
            "|       370.0|\n",
            "|       370.0|\n",
            "|       386.0|\n",
            "|       456.0|\n",
            "|       332.0|\n",
            "|       576.0|\n",
            "|       358.0|\n",
            "|       666.0|\n",
            "|       474.0|\n",
            "|       647.0|\n",
            "|       340.0|\n",
            "|       511.0|\n",
            "|       487.0|\n",
            "|       343.0|\n",
            "|       363.0|\n",
            "|       609.0|\n",
            "|       575.0|\n",
            "|       580.0|\n",
            "|       316.0|\n",
            "+------------+\n",
            "only showing top 20 rows\n",
            "\n",
            "Outliers in column 'max_glu_serum_index':\n",
            "+-------------------+\n",
            "|max_glu_serum_index|\n",
            "+-------------------+\n",
            "|                2.0|\n",
            "|                2.0|\n",
            "|                1.0|\n",
            "|                2.0|\n",
            "|                1.0|\n",
            "|                2.0|\n",
            "|                1.0|\n",
            "|                2.0|\n",
            "|                1.0|\n",
            "|                2.0|\n",
            "|                2.0|\n",
            "|                1.0|\n",
            "|                2.0|\n",
            "|                2.0|\n",
            "|                1.0|\n",
            "|                1.0|\n",
            "|                1.0|\n",
            "|                2.0|\n",
            "|                2.0|\n",
            "|                2.0|\n",
            "+-------------------+\n",
            "only showing top 20 rows\n",
            "\n",
            "Outliers in column 'A1Cresult_index':\n",
            "+---------------+\n",
            "|A1Cresult_index|\n",
            "+---------------+\n",
            "|            2.0|\n",
            "|            2.0|\n",
            "|            2.0|\n",
            "|            2.0|\n",
            "|            2.0|\n",
            "|            2.0|\n",
            "|            2.0|\n",
            "|            2.0|\n",
            "|            2.0|\n",
            "|            2.0|\n",
            "|            2.0|\n",
            "|            2.0|\n",
            "|            2.0|\n",
            "|            2.0|\n",
            "|            2.0|\n",
            "|            2.0|\n",
            "|            2.0|\n",
            "|            2.0|\n",
            "|            2.0|\n",
            "|            2.0|\n",
            "+---------------+\n",
            "only showing top 20 rows\n",
            "\n",
            "Outliers in column 'metformin_index':\n",
            "+---------------+\n",
            "|metformin_index|\n",
            "+---------------+\n",
            "|            2.0|\n",
            "|            2.0|\n",
            "|            2.0|\n",
            "|            2.0|\n",
            "|            2.0|\n",
            "|            3.0|\n",
            "|            2.0|\n",
            "|            3.0|\n",
            "|            2.0|\n",
            "|            2.0|\n",
            "|            2.0|\n",
            "|            2.0|\n",
            "|            2.0|\n",
            "|            2.0|\n",
            "|            2.0|\n",
            "|            2.0|\n",
            "|            2.0|\n",
            "|            2.0|\n",
            "|            2.0|\n",
            "|            2.0|\n",
            "+---------------+\n",
            "only showing top 20 rows\n",
            "\n",
            "Outliers in column 'repaglinide_index':\n",
            "+-----------------+\n",
            "|repaglinide_index|\n",
            "+-----------------+\n",
            "|              2.0|\n",
            "|              1.0|\n",
            "|              1.0|\n",
            "|              1.0|\n",
            "|              3.0|\n",
            "|              1.0|\n",
            "|              1.0|\n",
            "|              2.0|\n",
            "|              1.0|\n",
            "|              1.0|\n",
            "|              1.0|\n",
            "|              1.0|\n",
            "|              1.0|\n",
            "|              1.0|\n",
            "|              1.0|\n",
            "|              2.0|\n",
            "|              1.0|\n",
            "|              1.0|\n",
            "|              1.0|\n",
            "|              1.0|\n",
            "+-----------------+\n",
            "only showing top 20 rows\n",
            "\n",
            "Outliers in column 'nateglinide_index':\n",
            "+-----------------+\n",
            "|nateglinide_index|\n",
            "+-----------------+\n",
            "|              1.0|\n",
            "|              1.0|\n",
            "|              1.0|\n",
            "|              1.0|\n",
            "|              1.0|\n",
            "|              1.0|\n",
            "|              1.0|\n",
            "|              1.0|\n",
            "|              1.0|\n",
            "|              1.0|\n",
            "|              1.0|\n",
            "|              1.0|\n",
            "|              1.0|\n",
            "|              1.0|\n",
            "|              1.0|\n",
            "|              1.0|\n",
            "|              1.0|\n",
            "|              1.0|\n",
            "|              1.0|\n",
            "|              1.0|\n",
            "+-----------------+\n",
            "only showing top 20 rows\n",
            "\n",
            "Outliers in column 'chlorpropamide_index':\n",
            "+--------------------+\n",
            "|chlorpropamide_index|\n",
            "+--------------------+\n",
            "|                 1.0|\n",
            "|                 1.0|\n",
            "|                 1.0|\n",
            "|                 1.0|\n",
            "|                 1.0|\n",
            "|                 1.0|\n",
            "|                 1.0|\n",
            "|                 1.0|\n",
            "|                 1.0|\n",
            "|                 1.0|\n",
            "|                 1.0|\n",
            "|                 1.0|\n",
            "|                 1.0|\n",
            "|                 1.0|\n",
            "|                 3.0|\n",
            "|                 1.0|\n",
            "|                 1.0|\n",
            "|                 1.0|\n",
            "|                 1.0|\n",
            "|                 1.0|\n",
            "+--------------------+\n",
            "only showing top 20 rows\n",
            "\n",
            "Outliers in column 'glimepiride_index':\n",
            "+-----------------+\n",
            "|glimepiride_index|\n",
            "+-----------------+\n",
            "|              1.0|\n",
            "|              1.0|\n",
            "|              1.0|\n",
            "|              1.0|\n",
            "|              1.0|\n",
            "|              1.0|\n",
            "|              1.0|\n",
            "|              1.0|\n",
            "|              1.0|\n",
            "|              1.0|\n",
            "|              1.0|\n",
            "|              1.0|\n",
            "|              3.0|\n",
            "|              2.0|\n",
            "|              1.0|\n",
            "|              1.0|\n",
            "|              1.0|\n",
            "|              1.0|\n",
            "|              1.0|\n",
            "|              1.0|\n",
            "+-----------------+\n",
            "only showing top 20 rows\n",
            "\n",
            "Outliers in column 'acetohexamide_index':\n",
            "+-------------------+\n",
            "|acetohexamide_index|\n",
            "+-------------------+\n",
            "|                1.0|\n",
            "+-------------------+\n",
            "\n",
            "Outliers in column 'glipizide_index':\n",
            "+---------------+\n",
            "|glipizide_index|\n",
            "+---------------+\n",
            "|            2.0|\n",
            "|            2.0|\n",
            "|            3.0|\n",
            "|            3.0|\n",
            "|            2.0|\n",
            "|            2.0|\n",
            "|            2.0|\n",
            "|            2.0|\n",
            "|            3.0|\n",
            "|            2.0|\n",
            "|            2.0|\n",
            "|            3.0|\n",
            "|            2.0|\n",
            "|            2.0|\n",
            "|            3.0|\n",
            "|            2.0|\n",
            "|            2.0|\n",
            "|            2.0|\n",
            "|            3.0|\n",
            "|            3.0|\n",
            "+---------------+\n",
            "only showing top 20 rows\n",
            "\n",
            "Outliers in column 'glyburide_index':\n",
            "+---------------+\n",
            "|glyburide_index|\n",
            "+---------------+\n",
            "|            2.0|\n",
            "|            3.0|\n",
            "|            2.0|\n",
            "|            2.0|\n",
            "|            2.0|\n",
            "|            2.0|\n",
            "|            3.0|\n",
            "|            3.0|\n",
            "|            3.0|\n",
            "|            2.0|\n",
            "|            3.0|\n",
            "|            2.0|\n",
            "|            2.0|\n",
            "|            3.0|\n",
            "|            3.0|\n",
            "|            3.0|\n",
            "|            2.0|\n",
            "|            3.0|\n",
            "|            3.0|\n",
            "|            2.0|\n",
            "+---------------+\n",
            "only showing top 20 rows\n",
            "\n",
            "Outliers in column 'tolbutamide_index':\n",
            "+-----------------+\n",
            "|tolbutamide_index|\n",
            "+-----------------+\n",
            "|              1.0|\n",
            "|              1.0|\n",
            "|              1.0|\n",
            "|              1.0|\n",
            "|              1.0|\n",
            "|              1.0|\n",
            "|              1.0|\n",
            "|              1.0|\n",
            "|              1.0|\n",
            "|              1.0|\n",
            "|              1.0|\n",
            "|              1.0|\n",
            "|              1.0|\n",
            "|              1.0|\n",
            "|              1.0|\n",
            "|              1.0|\n",
            "|              1.0|\n",
            "|              1.0|\n",
            "|              1.0|\n",
            "|              1.0|\n",
            "+-----------------+\n",
            "only showing top 20 rows\n",
            "\n",
            "Outliers in column 'pioglitazone_index':\n",
            "+------------------+\n",
            "|pioglitazone_index|\n",
            "+------------------+\n",
            "|               1.0|\n",
            "|               2.0|\n",
            "|               1.0|\n",
            "|               1.0|\n",
            "|               1.0|\n",
            "|               1.0|\n",
            "|               1.0|\n",
            "|               1.0|\n",
            "|               1.0|\n",
            "|               1.0|\n",
            "|               1.0|\n",
            "|               3.0|\n",
            "|               1.0|\n",
            "|               1.0|\n",
            "|               1.0|\n",
            "|               1.0|\n",
            "|               1.0|\n",
            "|               1.0|\n",
            "|               1.0|\n",
            "|               1.0|\n",
            "+------------------+\n",
            "only showing top 20 rows\n",
            "\n",
            "Outliers in column 'rosiglitazone_index':\n",
            "+-------------------+\n",
            "|rosiglitazone_index|\n",
            "+-------------------+\n",
            "|                1.0|\n",
            "|                1.0|\n",
            "|                1.0|\n",
            "|                1.0|\n",
            "|                1.0|\n",
            "|                1.0|\n",
            "|                1.0|\n",
            "|                1.0|\n",
            "|                1.0|\n",
            "|                1.0|\n",
            "|                1.0|\n",
            "|                2.0|\n",
            "|                1.0|\n",
            "|                1.0|\n",
            "|                1.0|\n",
            "|                1.0|\n",
            "|                1.0|\n",
            "|                1.0|\n",
            "|                1.0|\n",
            "|                1.0|\n",
            "+-------------------+\n",
            "only showing top 20 rows\n",
            "\n",
            "Outliers in column 'acarbose_index':\n",
            "+--------------+\n",
            "|acarbose_index|\n",
            "+--------------+\n",
            "|           1.0|\n",
            "|           1.0|\n",
            "|           1.0|\n",
            "|           1.0|\n",
            "|           1.0|\n",
            "|           1.0|\n",
            "|           1.0|\n",
            "|           2.0|\n",
            "|           1.0|\n",
            "|           1.0|\n",
            "|           1.0|\n",
            "|           1.0|\n",
            "|           1.0|\n",
            "|           1.0|\n",
            "|           1.0|\n",
            "|           1.0|\n",
            "|           1.0|\n",
            "|           1.0|\n",
            "|           1.0|\n",
            "|           1.0|\n",
            "+--------------+\n",
            "only showing top 20 rows\n",
            "\n",
            "Outliers in column 'miglitol_index':\n",
            "+--------------+\n",
            "|miglitol_index|\n",
            "+--------------+\n",
            "|           1.0|\n",
            "|           1.0|\n",
            "|           1.0|\n",
            "|           1.0|\n",
            "|           1.0|\n",
            "|           2.0|\n",
            "|           1.0|\n",
            "|           1.0|\n",
            "|           1.0|\n",
            "|           1.0|\n",
            "|           1.0|\n",
            "|           1.0|\n",
            "|           1.0|\n",
            "|           1.0|\n",
            "|           1.0|\n",
            "|           1.0|\n",
            "|           1.0|\n",
            "|           1.0|\n",
            "|           1.0|\n",
            "|           3.0|\n",
            "+--------------+\n",
            "only showing top 20 rows\n",
            "\n",
            "Outliers in column 'troglitazone_index':\n",
            "+------------------+\n",
            "|troglitazone_index|\n",
            "+------------------+\n",
            "|               1.0|\n",
            "|               1.0|\n",
            "|               1.0|\n",
            "+------------------+\n",
            "\n",
            "Outliers in column 'tolazamide_index':\n",
            "+----------------+\n",
            "|tolazamide_index|\n",
            "+----------------+\n",
            "|             1.0|\n",
            "|             1.0|\n",
            "|             1.0|\n",
            "|             1.0|\n",
            "|             1.0|\n",
            "|             1.0|\n",
            "|             1.0|\n",
            "|             1.0|\n",
            "|             1.0|\n",
            "|             1.0|\n",
            "|             1.0|\n",
            "|             1.0|\n",
            "|             1.0|\n",
            "|             1.0|\n",
            "|             2.0|\n",
            "|             1.0|\n",
            "|             1.0|\n",
            "|             1.0|\n",
            "|             1.0|\n",
            "|             1.0|\n",
            "+----------------+\n",
            "only showing top 20 rows\n",
            "\n",
            "Outliers in column 'glyburide-metformin_index':\n",
            "+-------------------------+\n",
            "|glyburide-metformin_index|\n",
            "+-------------------------+\n",
            "|                      1.0|\n",
            "|                      1.0|\n",
            "|                      1.0|\n",
            "|                      1.0|\n",
            "|                      1.0|\n",
            "|                      1.0|\n",
            "|                      1.0|\n",
            "|                      1.0|\n",
            "|                      1.0|\n",
            "|                      1.0|\n",
            "|                      3.0|\n",
            "|                      2.0|\n",
            "|                      1.0|\n",
            "|                      1.0|\n",
            "|                      2.0|\n",
            "|                      1.0|\n",
            "|                      1.0|\n",
            "|                      1.0|\n",
            "|                      1.0|\n",
            "|                      1.0|\n",
            "+-------------------------+\n",
            "only showing top 20 rows\n",
            "\n",
            "Outliers in column 'glipizide-metformin_index':\n",
            "+-------------------------+\n",
            "|glipizide-metformin_index|\n",
            "+-------------------------+\n",
            "|                      1.0|\n",
            "|                      1.0|\n",
            "|                      1.0|\n",
            "|                      1.0|\n",
            "|                      1.0|\n",
            "|                      1.0|\n",
            "|                      1.0|\n",
            "|                      1.0|\n",
            "|                      1.0|\n",
            "|                      1.0|\n",
            "|                      1.0|\n",
            "|                      1.0|\n",
            "|                      1.0|\n",
            "+-------------------------+\n",
            "\n",
            "Outliers in column 'glimepiride-pioglitazone_index':\n",
            "+------------------------------+\n",
            "|glimepiride-pioglitazone_index|\n",
            "+------------------------------+\n",
            "|                           1.0|\n",
            "+------------------------------+\n",
            "\n",
            "Outliers in column 'metformin-rosiglitazone_index':\n",
            "+-----------------------------+\n",
            "|metformin-rosiglitazone_index|\n",
            "+-----------------------------+\n",
            "|                          1.0|\n",
            "|                          1.0|\n",
            "+-----------------------------+\n",
            "\n",
            "Outliers in column 'metformin-pioglitazone_index':\n",
            "+----------------------------+\n",
            "|metformin-pioglitazone_index|\n",
            "+----------------------------+\n",
            "|                         1.0|\n",
            "+----------------------------+\n",
            "\n"
          ]
        }
      ]
    },
    {
      "cell_type": "markdown",
      "source": [
        "# ***Dataframe values after filtering out the outliers using Z-score.***"
      ],
      "metadata": {
        "id": "vqxZVY_EzVGP"
      }
    },
    {
      "cell_type": "code",
      "source": [
        "from pyspark.sql.functions import *\n",
        "\n",
        "column_subset = salman.columns\n",
        "\n",
        "for col in column_subset:\n",
        "    if salman.select(col).dtypes[0][1] == \"string\":\n",
        "        pass\n",
        "    else:\n",
        "        col_mean = salman.select(mean(col)).collect()[0][0]\n",
        "        col_stddev = salman.select(stddev(col)).collect()[0][0]\n",
        "        upper_limit = col_mean + (3 * col_stddev)\n",
        "        lower_limit = col_mean - (3 * col_stddev)\n",
        "        salman = salman.filter((salman[col] >= lower_limit) & (salman[col] <= upper_limit))\n",
        "\n",
        "salman.show()\n"
      ],
      "metadata": {
        "colab": {
          "base_uri": "https://localhost:8080/"
        },
        "id": "opiejszBl5iq",
        "outputId": "b0188676-3958-4eeb-f907-f6ca607dd7af"
      },
      "execution_count": null,
      "outputs": [
        {
          "output_type": "stream",
          "name": "stdout",
          "text": [
            "+------------+-----------+-----------------+------------------------+-------------------+----------------+------------------+--------------+---------------+-----------------+----------------+----------------+----------------+----------+----------+------------+---------+------------+----------------+-----------------------+------------+------------+------------+-------------------+---------------+---------------+-----------------+-----------------+--------------------+-----------------+-------------------+---------------+---------------+-----------------+------------------+-------------------+--------------+--------------+------------------+----------------+-------------+-----------------+-------------+-------------------------+-------------------------+------------------------------+-----------------------------+----------------------------+------------+-----------------+\n",
            "|encounter_id|patient_nbr|admission_type_id|discharge_disposition_id|admission_source_id|time_in_hospital|num_lab_procedures|num_procedures|num_medications|number_outpatient|number_emergency|number_inpatient|number_diagnoses|readmitted|race_index|gender_index|age_index|weight_index|payer_code_index|medical_specialty_index|diag_1_index|diag_2_index|diag_3_index|max_glu_serum_index|A1Cresult_index|metformin_index|repaglinide_index|nateglinide_index|chlorpropamide_index|glimepiride_index|acetohexamide_index|glipizide_index|glyburide_index|tolbutamide_index|pioglitazone_index|rosiglitazone_index|acarbose_index|miglitol_index|troglitazone_index|tolazamide_index|examide_index|citoglipton_index|insulin_index|glyburide-metformin_index|glipizide-metformin_index|glimepiride-pioglitazone_index|metformin-rosiglitazone_index|metformin-pioglitazone_index|change_index|diabetesMed_index|\n",
            "+------------+-----------+-----------------+------------------------+-------------------+----------------+------------------+--------------+---------------+-----------------+----------------+----------------+----------------+----------+----------+------------+---------+------------+----------------+-----------------------+------------+------------+------------+-------------------+---------------+---------------+-----------------+-----------------+--------------------+-----------------+-------------------+---------------+---------------+-----------------+------------------+-------------------+--------------+--------------+------------------+----------------+-------------+-----------------+-------------+-------------------------+-------------------------+------------------------------+-----------------------------+----------------------------+------------+-----------------+\n",
            "|       64410|   86047875|                1|                       1|                  7|               2|                11|             5|             13|                2|               0|               1|               6|       0.0|       1.0|         0.0|      7.0|         0.0|             0.0|                    0.0|        68.0|         2.0|       222.0|                0.0|            0.0|            0.0|              0.0|              0.0|                 0.0|              0.0|                0.0|            1.0|            0.0|              0.0|               0.0|                0.0|           0.0|           0.0|               0.0|             0.0|          0.0|              0.0|          0.0|                      0.0|                      0.0|                           0.0|                          0.0|                         0.0|         0.0|              0.0|\n",
            "|      500364|   82442376|                1|                       1|                  7|               2|                44|             1|             16|                0|               0|               0|               7|       0.0|       0.0|         1.0|      5.0|         0.0|             0.0|                    0.0|        41.0|       220.0|         7.0|                0.0|            0.0|            0.0|              0.0|              0.0|                 0.0|              0.0|                0.0|            0.0|            0.0|              0.0|               0.0|                0.0|           0.0|           0.0|               0.0|             0.0|          0.0|              0.0|          3.0|                      0.0|                      0.0|                           0.0|                          0.0|                         0.0|         1.0|              0.0|\n",
            "|       16680|   42519267|                1|                       1|                  7|               1|                51|             0|              8|                0|               0|               0|               5|       0.0|       0.0|         1.0|      4.0|         0.0|             0.0|                    0.0|        61.0|       142.0|         0.0|                0.0|            0.0|            0.0|              0.0|              0.0|                 0.0|              0.0|                0.0|            1.0|            0.0|              0.0|               0.0|                0.0|           0.0|           0.0|               0.0|             0.0|          0.0|              0.0|          1.0|                      0.0|                      0.0|                           0.0|                          0.0|                         0.0|         1.0|              0.0|\n",
            "|       35754|   82637451|                2|                       1|                  2|               3|                31|             6|             16|                0|               0|               0|               9|       1.0|       0.0|         1.0|      2.0|         0.0|             0.0|                    0.0|         1.0|         9.0|         0.0|                0.0|            0.0|            0.0|              0.0|              0.0|                 0.0|              0.0|                0.0|            0.0|            0.0|              0.0|               0.0|                0.0|           0.0|           0.0|               0.0|             0.0|          0.0|              0.0|          1.0|                      0.0|                      0.0|                           0.0|                          0.0|                         0.0|         0.0|              0.0|\n",
            "|       63768|  114882984|                1|                       1|                  7|               5|                73|             0|             12|                0|               0|               0|               8|       1.0|       0.0|         1.0|      0.0|         0.0|             0.0|                    0.0|         0.0|        69.0|         0.0|                0.0|            0.0|            0.0|              0.0|              0.0|                 0.0|              0.0|                0.0|            0.0|            1.0|              0.0|               0.0|                0.0|           0.0|           0.0|               0.0|             0.0|          0.0|              0.0|          0.0|                      0.0|                      0.0|                           0.0|                          0.0|                         0.0|         0.0|              0.0|\n",
            "|       12522|   48330783|                2|                       1|                  4|              13|                68|             2|             28|                0|               0|               0|               8|       0.0|       0.0|         0.0|      3.0|         0.0|             0.0|                    0.0|       113.0|         3.0|        97.0|                0.0|            0.0|            0.0|              0.0|              0.0|                 0.0|              0.0|                0.0|            1.0|            0.0|              0.0|               0.0|                0.0|           0.0|           0.0|               0.0|             0.0|          0.0|              0.0|          1.0|                      0.0|                      0.0|                           0.0|                          0.0|                         0.0|         1.0|              0.0|\n",
            "|       28236|   89869032|                1|                       1|                  7|               9|                47|             2|             17|                0|               0|               0|               9|       1.0|       1.0|         0.0|      4.0|         0.0|             0.0|                    0.0|        28.0|         7.0|        62.0|                0.0|            0.0|            0.0|              0.0|              0.0|                 0.0|              0.0|                0.0|            0.0|            0.0|              0.0|               0.0|                0.0|           0.0|           0.0|               0.0|             0.0|          0.0|              0.0|          1.0|                      0.0|                      0.0|                           0.0|                          0.0|                         0.0|         0.0|              0.0|\n",
            "|       42570|   77586282|                1|                       6|                  7|              10|                55|             1|             31|                0|               0|               0|               8|       0.0|       0.0|         1.0|      3.0|         0.0|             0.0|                    2.0|         0.0|         9.0|         4.0|                0.0|            0.0|            0.0|              0.0|              0.0|                 0.0|              0.0|                0.0|            0.0|            0.0|              0.0|               0.0|                0.0|           0.0|           0.0|               0.0|             0.0|          0.0|              0.0|          1.0|                      0.0|                      0.0|                           0.0|                          0.0|                         0.0|         0.0|              0.0|\n",
            "|       73578|   86328819|                1|                       3|                  7|              12|                75|             5|             13|                0|               0|               0|               9|       0.0|       1.0|         1.0|      1.0|         0.0|             0.0|                    0.0|       266.0|        78.0|        62.0|                0.0|            0.0|            0.0|              0.0|              0.0|                 0.0|              0.0|                0.0|            0.0|            0.0|              0.0|               0.0|                0.0|           0.0|           0.0|               0.0|             0.0|          0.0|              0.0|          3.0|                      0.0|                      0.0|                           0.0|                          0.0|                         0.0|         1.0|              0.0|\n",
            "|       77076|   92519352|                1|                       1|                  7|               4|                45|             4|             17|                0|               0|               0|               8|       2.0|       1.0|         1.0|      2.0|         0.0|             0.0|                    0.0|         3.0|         9.0|         5.0|                0.0|            0.0|            0.0|              0.0|              0.0|                 0.0|              0.0|                0.0|            1.0|            0.0|              0.0|               0.0|                0.0|           0.0|           0.0|               0.0|             0.0|          0.0|              0.0|          1.0|                      0.0|                      0.0|                           0.0|                          0.0|                         0.0|         1.0|              0.0|\n",
            "|       84222|  108662661|                1|                       1|                  7|               3|                29|             0|             11|                0|               0|               0|               3|       0.0|       0.0|         0.0|      2.0|         0.0|             0.0|                    3.0|         8.0|       244.0|         0.0|                0.0|            0.0|            0.0|              0.0|              0.0|                 0.0|              0.0|                0.0|            0.0|            1.0|              0.0|               0.0|                0.0|           0.0|           0.0|               0.0|             0.0|          0.0|              0.0|          0.0|                      0.0|                      0.0|                           0.0|                          0.0|                         0.0|         0.0|              0.0|\n",
            "|       89682|  107389323|                1|                       1|                  7|               5|                35|             5|             23|                0|               0|               0|               9|       1.0|       1.0|         1.0|      0.0|         0.0|             0.0|                    0.0|        44.0|        18.0|        93.0|                0.0|            0.0|            0.0|              0.0|              0.0|                 0.0|              0.0|                0.0|            0.0|            0.0|              0.0|               0.0|                0.0|           0.0|           0.0|               0.0|             0.0|          0.0|              0.0|          1.0|                      0.0|                      0.0|                           0.0|                          0.0|                         0.0|         0.0|              0.0|\n",
            "|      150006|   22864131|                2|                       1|                  4|               2|                66|             1|             19|                0|               0|               0|               7|       0.0|       0.0|         0.0|      2.0|         0.0|             0.0|                    0.0|         3.0|         3.0|         3.0|                0.0|            0.0|            0.0|              0.0|              0.0|                 0.0|              0.0|                0.0|            0.0|            0.0|              0.0|               0.0|                0.0|           0.0|           0.0|               0.0|             0.0|          0.0|              0.0|          2.0|                      0.0|                      0.0|                           0.0|                          0.0|                         0.0|         1.0|              0.0|\n",
            "|      183930|  107400762|                2|                       6|                  1|              11|                42|             2|             19|                0|               0|               0|               8|       1.0|       0.0|         0.0|      3.0|         0.0|             0.0|                    0.0|        17.0|       112.0|        79.0|                0.0|            0.0|            0.0|              0.0|              0.0|                 0.0|              0.0|                0.0|            0.0|            0.0|              0.0|               0.0|                0.0|           0.0|           0.0|               0.0|             0.0|          0.0|              0.0|          0.0|                      0.0|                      0.0|                           0.0|                          0.0|                         0.0|         0.0|              1.0|\n",
            "|      216156|   62718876|                3|                       1|                  2|               3|                19|             4|             18|                0|               0|               0|               6|       0.0|       1.0|         0.0|      0.0|         0.0|             0.0|                    0.0|       117.0|         5.0|         4.0|                0.0|            0.0|            0.0|              0.0|              0.0|                 0.0|              0.0|                0.0|            1.0|            0.0|              0.0|               0.0|                0.0|           0.0|           0.0|               0.0|             0.0|          0.0|              0.0|          1.0|                      0.0|                      0.0|                           0.0|                          0.0|                         0.0|         1.0|              0.0|\n",
            "|      248916|  115196778|                1|                       1|                  1|               2|                25|             2|             11|                0|               0|               0|               3|       1.0|       0.0|         0.0|      2.0|         0.0|             0.0|                    4.0|        11.0|        12.0|        21.0|                0.0|            0.0|            0.0|              0.0|              0.0|                 0.0|              0.0|                0.0|            0.0|            0.0|              0.0|               0.0|                0.0|           0.0|           0.0|               0.0|             0.0|          0.0|              0.0|          1.0|                      0.0|                      0.0|                           0.0|                          0.0|                         0.0|         0.0|              0.0|\n",
            "|      250872|   41606064|                2|                       1|                  2|              10|                53|             0|             20|                0|               0|               0|               6|       1.0|       0.0|         1.0|      7.0|         0.0|             0.0|                    0.0|       245.0|        10.0|        65.0|                0.0|            0.0|            0.0|              0.0|              0.0|                 0.0|              0.0|                0.0|            0.0|            0.0|              0.0|               0.0|                0.0|           0.0|           0.0|               0.0|             0.0|          0.0|              0.0|          2.0|                      0.0|                      0.0|                           0.0|                          0.0|                         0.0|         1.0|              0.0|\n",
            "|      252822|   18196434|                1|                       2|                  7|               5|                52|             0|             14|                0|               0|               0|               8|       1.0|       0.0|         0.0|      3.0|         0.0|             0.0|                    3.0|         0.0|        30.0|         5.0|                0.0|            0.0|            1.0|              0.0|              0.0|                 0.0|              0.0|                0.0|            0.0|            1.0|              0.0|               0.0|                0.0|           0.0|           0.0|               0.0|             0.0|          0.0|              0.0|          0.0|                      0.0|                      0.0|                           0.0|                          0.0|                         0.0|         1.0|              0.0|\n",
            "|      260166|   80845353|                1|                       1|                  7|               6|                27|             0|             16|                0|               0|               0|               8|       1.0|       0.0|         0.0|      0.0|         0.0|             0.0|                    2.0|        11.0|       226.0|        21.0|                0.0|            0.0|            0.0|              0.0|              0.0|                 0.0|              0.0|                0.0|            0.0|            0.0|              0.0|               0.0|                0.0|           0.0|           0.0|               0.0|             0.0|          0.0|              0.0|          1.0|                      0.0|                      0.0|                           0.0|                          0.0|                         0.0|         0.0|              0.0|\n",
            "|      293118|    3327282|                2|                      11|                  2|               5|                46|             2|             20|                0|               0|               0|               9|       0.0|       0.0|         0.0|      0.0|         0.0|             0.0|                    0.0|         0.0|        12.0|         5.0|                0.0|            0.0|            0.0|              0.0|              0.0|                 0.0|              0.0|                0.0|            0.0|            0.0|              0.0|               0.0|                0.0|           0.0|           0.0|               0.0|             0.0|          0.0|              0.0|          2.0|                      0.0|                      0.0|                           0.0|                          0.0|                         0.0|         1.0|              0.0|\n",
            "+------------+-----------+-----------------+------------------------+-------------------+----------------+------------------+--------------+---------------+-----------------+----------------+----------------+----------------+----------+----------+------------+---------+------------+----------------+-----------------------+------------+------------+------------+-------------------+---------------+---------------+-----------------+-----------------+--------------------+-----------------+-------------------+---------------+---------------+-----------------+------------------+-------------------+--------------+--------------+------------------+----------------+-------------+-----------------+-------------+-------------------------+-------------------------+------------------------------+-----------------------------+----------------------------+------------+-----------------+\n",
            "only showing top 20 rows\n",
            "\n"
          ]
        }
      ]
    },
    {
      "cell_type": "markdown",
      "source": [
        "# ***Dataframe rows and columns after filtering Outliers***"
      ],
      "metadata": {
        "id": "CkSD5rGdzxR_"
      }
    },
    {
      "cell_type": "code",
      "source": [
        "num_rows = salman.count()\n",
        "num_columns = len(salman.columns)\n",
        "\n",
        "print(f\"Number of rows: {num_rows}\")\n",
        "print(f\"Number of columns: {num_columns}\")"
      ],
      "metadata": {
        "colab": {
          "base_uri": "https://localhost:8080/"
        },
        "id": "rm1cdx7Pw-We",
        "outputId": "ff00c8d9-0819-4300-b747-6314292118e0"
      },
      "execution_count": null,
      "outputs": [
        {
          "output_type": "stream",
          "name": "stdout",
          "text": [
            "Number of rows: 54952\n",
            "Number of columns: 50\n"
          ]
        }
      ]
    },
    {
      "cell_type": "markdown",
      "source": [
        "# ***Feature engineering, scaling and outliers handling done***"
      ],
      "metadata": {
        "id": "rWLkc8CPz414"
      }
    },
    {
      "cell_type": "markdown",
      "source": [
        "# ***Now, applying 5 ML models which can perform best***"
      ],
      "metadata": {
        "id": "75TLkHxf73pI"
      }
    },
    {
      "cell_type": "markdown",
      "source": [
        "# ***01. Random Forest Classification***"
      ],
      "metadata": {
        "id": "wtyK2sQRAsdf"
      }
    },
    {
      "cell_type": "code",
      "source": [
        "from pyspark.ml.classification import RandomForestClassifier\n",
        "from pyspark.ml.feature import VectorAssembler\n",
        "from pyspark.ml import Pipeline\n",
        "from pyspark.ml.evaluation import MulticlassClassificationEvaluator\n",
        "\n",
        "\n",
        "feature_cols = [col_name for col_name in salman.columns if col_name != 'readmitted']\n",
        "\n",
        "assembler = VectorAssembler(inputCols=feature_cols, outputCol='features')\n",
        "\n",
        "rf_classifier = RandomForestClassifier(labelCol='readmitted', featuresCol='features', numTrees=100, seed=42, maxBins=800)\n",
        "\n",
        "pipeline = Pipeline(stages=[assembler, rf_classifier])\n",
        "\n",
        "train_data, test_data = salman.randomSplit([0.8, 0.2], seed=42)\n",
        "\n",
        "model = pipeline.fit(train_data)\n",
        "\n",
        "predictions = model.transform(test_data)\n",
        "\n",
        "evaluator = MulticlassClassificationEvaluator(labelCol='readmitted', metricName='accuracy',)\n",
        "accuracy = evaluator.evaluate(predictions)\n",
        "print(f\"Random Forest Model Accuracy: {accuracy}\")\n"
      ],
      "metadata": {
        "colab": {
          "base_uri": "https://localhost:8080/"
        },
        "id": "ZtCk3HefETeR",
        "outputId": "ec975b98-fe80-48a4-b68a-95ab9d1ba785"
      },
      "execution_count": null,
      "outputs": [
        {
          "output_type": "stream",
          "name": "stdout",
          "text": [
            "Random Forest Model Accuracy: 0.9036907822254866\n"
          ]
        }
      ]
    },
    {
      "cell_type": "markdown",
      "source": [
        "# ***Yes I got a good accuracy, Model Accuracy: 0.9036***"
      ],
      "metadata": {
        "id": "9aCgcDPfjOhR"
      }
    },
    {
      "cell_type": "markdown",
      "source": [
        "# ***Confusion Matrix***"
      ],
      "metadata": {
        "id": "s-NsTFNyiplh"
      }
    },
    {
      "cell_type": "code",
      "source": [
        "from pyspark.mllib.evaluation import MulticlassMetrics\n",
        "\n",
        "prediction_and_labels = predictions.select(\"prediction\", \"readmitted\").rdd\n",
        "\n",
        "metrics = MulticlassMetrics(prediction_and_labels)\n",
        "\n",
        "confusion_matrix = metrics.confusionMatrix().toArray()\n",
        "print(\"Confusion Matrix:\")\n",
        "print(confusion_matrix)\n"
      ],
      "metadata": {
        "colab": {
          "base_uri": "https://localhost:8080/"
        },
        "id": "0UCWV5v5h_vO",
        "outputId": "97861c4b-d9ce-4b30-c913-41b7427b76c8"
      },
      "execution_count": null,
      "outputs": [
        {
          "output_type": "stream",
          "name": "stderr",
          "text": [
            "/usr/local/lib/python3.10/dist-packages/pyspark/sql/context.py:158: FutureWarning: Deprecated in 3.0.0. Use SparkSession.builder.getOrCreate() instead.\n",
            "  warnings.warn(\n"
          ]
        },
        {
          "output_type": "stream",
          "name": "stdout",
          "text": [
            "Confusion Matrix:\n",
            "[[5994.    0.    0.]\n",
            " [   0. 3754.    0.]\n",
            " [   0. 1049.   95.]]\n"
          ]
        }
      ]
    },
    {
      "cell_type": "markdown",
      "source": [
        "# ***02. LogisticRegression***"
      ],
      "metadata": {
        "id": "Zb6_Tu1unkzy"
      }
    },
    {
      "cell_type": "code",
      "source": [
        "from pyspark.ml.classification import LogisticRegression\n",
        "\n",
        "lr_classifier = LogisticRegression(labelCol='readmitted', featuresCol='features', maxIter=10)\n",
        "\n",
        "pipeline_lr = Pipeline(stages=[assembler, lr_classifier])\n",
        "\n",
        "train_data_lr, test_data_lr = salman.randomSplit([0.8, 0.2], seed=42)\n",
        "\n",
        "model_lr = pipeline_lr.fit(train_data_lr)\n",
        "\n",
        "predictions_lr = model_lr.transform(test_data_lr)\n",
        "\n",
        "evaluator_lr = MulticlassClassificationEvaluator(labelCol='readmitted', metricName='accuracy')\n",
        "accuracy_lr = evaluator_lr.evaluate(predictions_lr)\n",
        "print(f\"Logistic Regression Model Accuracy: {accuracy_lr}\")\n"
      ],
      "metadata": {
        "colab": {
          "base_uri": "https://localhost:8080/"
        },
        "id": "onSyMdTKnnh5",
        "outputId": "72bef836-6a7b-46cd-ef8b-97fc5cd442e4"
      },
      "execution_count": null,
      "outputs": [
        {
          "output_type": "stream",
          "name": "stdout",
          "text": [
            "Logistic Regression Model Accuracy: 1.0\n"
          ]
        }
      ]
    },
    {
      "cell_type": "markdown",
      "source": [
        "# ***Model Accuracy: 1.0***"
      ],
      "metadata": {
        "id": "LMBJih8lp45T"
      }
    },
    {
      "cell_type": "markdown",
      "source": [
        "# ***Confusion Matrix***"
      ],
      "metadata": {
        "id": "cAkh2h1pp18r"
      }
    },
    {
      "cell_type": "code",
      "source": [
        "prediction_and_labels_lr = predictions_lr.select(\"prediction\", \"readmitted\").rdd\n",
        "metrics_lr = MulticlassMetrics(prediction_and_labels_lr)\n",
        "confusion_matrix_lr = metrics_lr.confusionMatrix().toArray()\n",
        "print(\"Confusion Matrix:\")\n",
        "print(confusion_matrix_lr)"
      ],
      "metadata": {
        "colab": {
          "base_uri": "https://localhost:8080/"
        },
        "id": "VzWkodqpo6Mj",
        "outputId": "a15bf76b-df03-4c0c-8c3a-5e25cbef9c01"
      },
      "execution_count": null,
      "outputs": [
        {
          "output_type": "stream",
          "name": "stderr",
          "text": [
            "/usr/local/lib/python3.10/dist-packages/pyspark/sql/context.py:158: FutureWarning: Deprecated in 3.0.0. Use SparkSession.builder.getOrCreate() instead.\n",
            "  warnings.warn(\n"
          ]
        },
        {
          "output_type": "stream",
          "name": "stdout",
          "text": [
            "Confusion Matrix:\n",
            "[[5994.    0.    0.]\n",
            " [   0. 3754.    0.]\n",
            " [   0.    0. 1144.]]\n"
          ]
        }
      ]
    },
    {
      "cell_type": "markdown",
      "source": [
        "# ***03. Decision Tree***"
      ],
      "metadata": {
        "id": "Pe2oQ2eWSOct"
      }
    },
    {
      "cell_type": "code",
      "source": [
        "from pyspark.ml.classification import DecisionTreeClassifier\n",
        "\n",
        "feature_cols = [col_name for col_name in salman.columns if col_name != 'readmitted']\n",
        "assembler = VectorAssembler(inputCols=feature_cols, outputCol='features')\n",
        "\n",
        "\n",
        "dt_classifier = DecisionTreeClassifier(labelCol='readmitted', featuresCol='features', maxDepth=5, maxBins=800)\n",
        "\n",
        "pipeline_dt = Pipeline(stages=[assembler, dt_classifier])\n",
        "\n",
        "train_data_dt, test_data_dt = salman.randomSplit([0.8, 0.2], seed=42)\n",
        "\n",
        "model_dt = pipeline_dt.fit(train_data_dt)\n",
        "\n",
        "predictions_dt = model_dt.transform(test_data_dt)\n",
        "\n",
        "evaluator_dt = MulticlassClassificationEvaluator(labelCol='readmitted', metricName='accuracy')\n",
        "accuracy_dt = evaluator_dt.evaluate(predictions_dt)\n",
        "print(f\"Decision Tree Model Accuracy: {accuracy_dt}\")\n"
      ],
      "metadata": {
        "colab": {
          "base_uri": "https://localhost:8080/"
        },
        "id": "6olkoQclbNbs",
        "outputId": "fe61729a-b9ec-4221-c512-f4d6d38067ab"
      },
      "execution_count": null,
      "outputs": [
        {
          "output_type": "stream",
          "name": "stdout",
          "text": [
            "Decision Tree Model Accuracy: 1.0\n"
          ]
        }
      ]
    },
    {
      "cell_type": "markdown",
      "source": [
        "# ***Confusion Matrix for decision tree***"
      ],
      "metadata": {
        "id": "j3nAtUHBsba-"
      }
    },
    {
      "cell_type": "code",
      "source": [
        "prediction_and_labels_dt = predictions_dt.select(\"prediction\", \"readmitted\").rdd\n",
        "metrics_dt = MulticlassMetrics(prediction_and_labels_dt)\n",
        "confusion_matrix_dt = metrics_dt.confusionMatrix().toArray()\n",
        "print(\"Confusion Matrix:\")\n",
        "print(confusion_matrix_dt)"
      ],
      "metadata": {
        "colab": {
          "base_uri": "https://localhost:8080/"
        },
        "id": "Y7YGY45QsYrc",
        "outputId": "210fc1e4-0b80-4d52-b751-123409cdc925"
      },
      "execution_count": null,
      "outputs": [
        {
          "output_type": "stream",
          "name": "stdout",
          "text": [
            "Confusion Matrix:\n",
            "[[5994.    0.    0.]\n",
            " [   0. 3754.    0.]\n",
            " [   0.    0. 1144.]]\n"
          ]
        }
      ]
    },
    {
      "cell_type": "markdown",
      "source": [
        "# ***Assalamualaikum***"
      ],
      "metadata": {
        "id": "JTprhpuTFYL8"
      }
    },
    {
      "cell_type": "markdown",
      "source": [
        "# ***The End***"
      ],
      "metadata": {
        "id": "kMAmMXf6FaWm"
      }
    }
  ]
}